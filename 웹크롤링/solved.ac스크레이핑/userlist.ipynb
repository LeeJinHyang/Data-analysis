{
 "metadata": {
  "language_info": {
   "codemirror_mode": {
    "name": "ipython",
    "version": 3
   },
   "file_extension": ".py",
   "mimetype": "text/x-python",
   "name": "python",
   "nbconvert_exporter": "python",
   "pygments_lexer": "ipython3",
   "version": "3.5.3-final"
  },
  "orig_nbformat": 2,
  "kernelspec": {
   "name": "python_defaultSpec_1599624165693",
   "display_name": "Python 3.7.4 64-bit ('base': conda)"
  }
 },
 "nbformat": 4,
 "nbformat_minor": 2,
 "cells": [
  {
   "cell_type": "code",
   "execution_count": 1,
   "metadata": {
    "tags": []
   },
   "outputs": [
    {
     "output_type": "stream",
     "name": "stdout",
     "text": "Requirement already satisfied: beautifulsoup4 in c:\\program files\\python35\\lib\\site-packages (4.9.1)\nRequirement already satisfied: soupsieve>1.2 in c:\\program files\\python35\\lib\\site-packages (from beautifulsoup4) (2.0.1)\n"
    }
   ],
   "source": [
    "!pip install beautifulsoup4"
   ]
  },
  {
   "cell_type": "code",
   "execution_count": 2,
   "metadata": {},
   "outputs": [],
   "source": [
    "#라이브러리 읽어 들이기\n",
    "from bs4 import BeautifulSoup\n",
    "import  urllib.request as req \n",
    "from urllib.error import HTTPError,URLError\n",
    "import csv\n",
    "\n",
    "# -*- coding:utf-8 -*-"
   ]
  },
  {
   "cell_type": "code",
   "execution_count": null,
   "metadata": {},
   "outputs": [],
   "source": [
    "f = open('user.csv','w', encoding='utf-8-sig', newline='')\n",
    "f.write(\"등수,아이디,사이트\\n\")\n",
    "wr = csv.writer(f)\n",
    "userlist = []\n",
    "count = 0\n",
    "for user_page in range (1, 2202):\n",
    "    url = \"https://www.acmicpc.net/ranklist/\"+str(user_page)\n",
    "        \n",
    "    try:\n",
    "        headers = {'User-Agent':'Chrome/66.0.3359.181'}\n",
    "        rew = req.Request(url,headers=headers)\n",
    "        html = req.urlopen(rew)\n",
    "        \n",
    "    except HTTPError as e:\n",
    "        err = e.read()\n",
    "        code = e.getcode()\n",
    "    source = html.read()\n",
    "    html.close()\n",
    "    soup = BeautifulSoup(source,\"html.parser\")\n",
    "    div1 = soup.select('.table>tbody>tr')\n",
    "    for i in range(0, len(div1)):\n",
    "        list = []\n",
    "        div2 = div1[i].select('td')\n",
    "        user_profile = div2[1].select('a')[0]['href']\n",
    "        user_id = user_profile.replace(\"/user/\",\"\")\n",
    "        list.append(str(count))\n",
    "        list.append(user_id)\n",
    "        list.append(user_profile)\n",
    "        count = count +1;    \n",
    "        wr.writerow(list)"
   ]
  },
  {
   "cell_type": "code",
   "execution_count": null,
   "metadata": {},
   "outputs": [],
   "source": []
  },
  {
   "cell_type": "code",
   "execution_count": null,
   "metadata": {},
   "outputs": [],
   "source": []
  }
 ]
}