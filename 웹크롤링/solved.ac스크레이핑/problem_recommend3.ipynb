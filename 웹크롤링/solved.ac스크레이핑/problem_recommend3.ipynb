{
 "metadata": {
  "language_info": {
   "codemirror_mode": {
    "name": "ipython",
    "version": 3
   },
   "file_extension": ".py",
   "mimetype": "text/x-python",
   "name": "python",
   "nbconvert_exporter": "python",
   "pygments_lexer": "ipython3",
   "version": "3.5.3-final"
  },
  "orig_nbformat": 2,
  "kernelspec": {
   "name": "python_defaultSpec_1600143572728",
   "display_name": "Python 3.5.3 64-bit"
  }
 },
 "nbformat": 4,
 "nbformat_minor": 2,
 "cells": [
  {
   "cell_type": "code",
   "execution_count": 354,
   "metadata": {
    "tags": []
   },
   "outputs": [
    {
     "output_type": "stream",
     "name": "stdout",
     "text": "Requirement already up-to-date: pip in c:\\program files\\python35\\lib\\site-packages (20.2.3)\nRequirement already satisfied: pandas in c:\\program files\\python35\\lib\\site-packages (0.25.3)\nRequirement already satisfied: numpy>=1.13.3 in c:\\program files\\python35\\lib\\site-packages (from pandas) (1.18.5)\nRequirement already satisfied: pytz>=2017.2 in c:\\program files\\python35\\lib\\site-packages (from pandas) (2020.1)\nRequirement already satisfied: python-dateutil>=2.6.1 in c:\\users\\multicampus\\appdata\\roaming\\python\\python35\\site-packages (from pandas) (2.8.1)\nRequirement already satisfied: six>=1.5 in c:\\users\\multicampus\\appdata\\roaming\\python\\python35\\site-packages (from python-dateutil>=2.6.1->pandas) (1.15.0)\nRequirement already satisfied: numpy in c:\\program files\\python35\\lib\\site-packages (1.18.5)\n"
    }
   ],
   "source": [
    "!pip install --upgrade pip\n",
    "!pip install pandas\n",
    "!pip install numpy"
   ]
  },
  {
   "cell_type": "code",
   "execution_count": 355,
   "metadata": {},
   "outputs": [],
   "source": [
    "import pandas as pd\n",
    "import numpy as np\n",
    "import warnings;warnings.filterwarnings('ignore')"
   ]
  },
  {
   "cell_type": "code",
   "execution_count": 356,
   "metadata": {
    "tags": []
   },
   "outputs": [
    {
     "output_type": "stream",
     "name": "stdout",
     "text": "19986\n6886\n       문제번호                                     링크        난이도  \\\n0     19862  https://www.acmicpc.net/problem/19862     Ruby V   \n1     19862  https://www.acmicpc.net/problem/19862     Ruby V   \n2     19862  https://www.acmicpc.net/problem/19862     Ruby V   \n3     19855  https://www.acmicpc.net/problem/19855  Diamond I   \n4     19854  https://www.acmicpc.net/problem/19854     Ruby V   \n...     ...                                    ...        ...   \n6881   1001   https://www.acmicpc.net/problem/1001   Bronze V   \n6882   1001   https://www.acmicpc.net/problem/1001   Bronze V   \n6883   1000   https://www.acmicpc.net/problem/1000   Bronze V   \n6884   1000   https://www.acmicpc.net/problem/1000   Bronze V   \n6885   1000   https://www.acmicpc.net/problem/1000   Bronze V   \n\n                     제목                      분류     해결  평균시도  \n0     Koosaga's problem                   희소 배열      3  1.67  \n1     Koosaga's problem                    무작위화      3  1.67  \n2     Koosaga's problem  작은 집합에서 큰 집합으로 합치는 테크닉      3  1.67  \n3            3분 그래프 리턴즈             최소 비용 최대 유량      4  1.00  \n4            직선형 분자 만들기                 링크/컷 트리      4  1.00  \n...                 ...                     ...    ...   ...  \n6881                A-B                      수학  81628  1.39  \n6882                A-B                    사칙연산  81628  1.39  \n6883                A+B                      구현  99511  2.26  \n6884                A+B                    사칙연산  99511  2.26  \n6885                A+B                      수학  99511  2.26  \n\n[6886 rows x 7 columns]\n[ 1005  1068  1128  1162  1208  1212  1222  1373  1514  1546  1603  1701\n  1912  2096  2108  2141  2309  2419  2467  2470  2502  2553  2556  2576\n  2694  3080  5211  5729  5911  7153  7453  9238  9331  9359  9475  9617\n 10212 10254 10370 10947 11043 11248 12769]\n       문제번호          난이도                      분류     해결  평균시도\n2     19862       Ruby V  작은 집합에서 큰 집합으로 합치는 테크닉      3  1.67\n3     19855    Diamond I             최소 비용 최대 유량      4  1.00\n4     19854       Ruby V                 링크/컷 트리      4  1.00\n5     19852   Diamond IV               최소 스패닝 트리     14  2.43\n6     19850  Platinum II                   배낭 문제     12  2.17\n...     ...          ...                     ...    ...   ...\n6877   1004   Silver III                     기하학   5810  2.42\n6878   1003   Silver III              다이나믹 프로그래밍  19037  3.36\n6879   1002    Silver IV                     기하학  13117  4.97\n6882   1001     Bronze V                    사칙연산  81628  1.39\n6885   1000     Bronze V                      수학  99511  2.26\n\n[4271 rows x 5 columns]\n(4271, 366)\n"
    }
   ],
   "source": [
    "problem_total = pd.read_csv('problem.csv')\n",
    "user = pd.read_csv('user.csv')\n",
    "target_user = pd.read_csv('ans.csv')\n",
    "print(len(problem_total))\n",
    "problem_total = problem_total.drop_duplicates()\n",
    "\n",
    "problem_total = problem_total.sort_values(by=['문제번호'], axis=0, ascending = False)\n",
    "\n",
    "problem_total = problem_total.reset_index(drop=True)\n",
    "print(len(problem_total))\n",
    "print(problem_total)\n",
    "target_list = target_user[target_user['정답여부']==False]\n",
    "target_list.columns\n",
    "target_problem = np.array(target_list['문제번호'].tolist())\n",
    "level_array = ['Bronze','Silver','Gold','Platinum','Diamond','Ruby','Not']\n",
    "m = 0\n",
    "C = 0\n",
    "recommend_Problem = pd.DataFrame(columns=['문제번호','난이도','제목','weighted_vote'])\n",
    "print(target_problem)\n",
    "\n",
    "problem_df = problem[['문제번호','난이도','분류','해결','평균시도']]\n",
    "print(problem_df)\n",
    "pd.set_option('max_colwidth',100)\n",
    "\n",
    "from sklearn.feature_extraction.text import CountVectorizer\n",
    "\n",
    "#CountVectorizer를 적용하기 위해 공백문자로 word 단위가 구분되는 문자열로 변환\n",
    "count_vect  = CountVectorizer(min_df = 0, ngram_range=(1,2))\n",
    "genre_mat = count_vect.fit_transform(problem_df['분류'])\n",
    "print(genre_mat.shape)\n",
    "\n",
    "from sklearn.metrics.pairwise import cosine_similarity\n",
    "\n",
    "genre_sim = cosine_similarity(genre_mat, genre_mat)\n",
    "\n",
    "\n",
    "genre_sim_sorted_ind = genre_sim.argsort()[:,::-1]\n"
   ]
  },
  {
   "cell_type": "code",
   "execution_count": 357,
   "metadata": {},
   "outputs": [],
   "source": [
    "def find_sim_problem(df, sorted_ind, title_name, top_n = 10):\n",
    "    \n",
    "    title_problem = df[df['문제번호']== int(title_name)]\n",
    "    \n",
    "    title_index = title_problem.index.values\n",
    "    similar_indexes = sorted_ind[title_index,:(top_n)]\n",
    "    \n",
    "    similar_indexes = similar_indexes.reshape(-1)\n",
    "    \n",
    "    return df.iloc[similar_indexes]"
   ]
  },
  {
   "cell_type": "code",
   "execution_count": 358,
   "metadata": {},
   "outputs": [],
   "source": [
    "def level_set(df,target_problem):\n",
    "    level_idx = df.index[df['문제번호']==int(target_problem)]\n",
    "    if(len(level_idx)==0): return\n",
    "    level = level_array.index(df.loc[level_idx[0]]['난이도'].split(' ')[0])\n",
    "    df['level'],df['temp']= df['난이도'].str.split(' ',1).str\n",
    "    for i, row in df.iterrows() :\n",
    "        index = level_array.index(df.at[i,'level'])\n",
    "        if(index == level): df.at[i,'평균시도'] = df.at[i,'평균시도']\n",
    "        else:\n",
    "            df.at[i,'평균시도'] = (-1)*abs(index - level) * df.at[i,'평균시도']\n",
    "        "
   ]
  },
  {
   "cell_type": "code",
   "execution_count": 359,
   "metadata": {},
   "outputs": [],
   "source": [
    "def weighted_vote_average(record):\n",
    "    global m\n",
    "    global C\n",
    "    v = record['해결']\n",
    "    R = record['평균시도']\n",
    "\n",
    "    return  (v/(v+m)) * R + (v/(v+m)) * C"
   ]
  },
  {
   "cell_type": "code",
   "execution_count": 360,
   "metadata": {},
   "outputs": [],
   "source": [
    "def find_sim_movie(df, sorted_ind, title_name, top_n =3):\n",
    "    title_problem = df[df['문제번호'] == int(title_name)]\n",
    "    title_index = title_problem.index.values\n",
    "    #top_n의 2배에 해당하는 장르 유사성이 높은 인덱스 추출\n",
    "    end_index = len(df)\n",
    "    if(top_n*2 < len(df)): end_index = top_n* 2\n",
    "    similar_indexes = sorted_ind[title_index, :end_index]\n",
    "    similar_indexs = similar_indexes.reshape(-1)\n",
    "    #기준 영화 인덱스는 제외\n",
    "    similar_indexes = similar_indexes[similar_indexes!=title_index]\n",
    "    #top_n의 2배에 해당하는 후보군에서 weighted_vote가 높은 순으로 top_n만큼 추출\n",
    "    return df"
   ]
  },
  {
   "cell_type": "code",
   "execution_count": 361,
   "metadata": {},
   "outputs": [],
   "source": [
    "def recommend(target_problem):\n",
    "    global problem\n",
    "    global m\n",
    "    global C\n",
    "    global genre_sim\n",
    "    global genre_sim_sorted_ind\n",
    "    #if(len(problem[problem['문제번호']==int(target_problem)])==0):\n",
    "     #   return\n",
    "\n",
    "\n",
    "\n",
    "    level_set(problem_df,target_problem)\n",
    "\n",
    "    #원래 점수에 \n",
    "    percentile = 0.6\n",
    "    m = problem_df['해결'].quantile(0.6)\n",
    "    C = problem_df['평균시도'].mean()\n",
    "    problem['weighted_vote'] = problem_df.apply(weighted_vote_average,axis=1)\n",
    "\n",
    "    problem = problem.drop_duplicates(['문제번호'],keep='last')\n",
    "    #새로 부여된 weighted_vote 평점이 높은 순으로 상위 10개 추출\n",
    "    problem[['문제번호','제목','난이도','평균시도','weighted_vote','해결']].sort_values(\n",
    "        'weighted_vote',ascending=False)[:10] \n",
    "\n",
    "    similar_problem = find_sim_movie(problem,genre_sim_sorted_ind,target_problem,3)\n",
    "    similar_problem.drop_duplicates()\n",
    "    similar_problem.sort_values(by=['weighted_vote'], axis=0, ascending=False)\n",
    "    return similar_problem[['문제번호','난이도','제목','weighted_vote']].head(10)\n",
    "\n",
    "\n",
    "\n",
    "    "
   ]
  },
  {
   "cell_type": "code",
   "execution_count": 362,
   "metadata": {
    "tags": []
   },
   "outputs": [
    {
     "output_type": "error",
     "ename": "IndexError",
     "evalue": "index 6876 is out of bounds for axis 0 with size 4271",
     "traceback": [
      "\u001b[1;31m---------------------------------------------------------------------------\u001b[0m",
      "\u001b[1;31mIndexError\u001b[0m                                Traceback (most recent call last)",
      "\u001b[1;32m<ipython-input-362-84d86d3fd402>\u001b[0m in \u001b[0;36m<module>\u001b[1;34m\u001b[0m\n\u001b[0;32m      1\u001b[0m \u001b[1;32mfor\u001b[0m \u001b[0mi\u001b[0m \u001b[1;32min\u001b[0m \u001b[0mrange\u001b[0m\u001b[1;33m(\u001b[0m\u001b[1;36m0\u001b[0m\u001b[1;33m,\u001b[0m \u001b[0mlen\u001b[0m\u001b[1;33m(\u001b[0m\u001b[0mtarget_problem\u001b[0m\u001b[1;33m)\u001b[0m\u001b[1;33m)\u001b[0m\u001b[1;33m:\u001b[0m\u001b[1;33m\u001b[0m\u001b[0m\n\u001b[0;32m      2\u001b[0m     \u001b[0mproblem\u001b[0m \u001b[1;33m=\u001b[0m \u001b[0mproblem_total\u001b[0m\u001b[1;33m\u001b[0m\u001b[0m\n\u001b[1;32m----> 3\u001b[1;33m     \u001b[1;32mif\u001b[0m\u001b[1;33m(\u001b[0m\u001b[0mlen\u001b[0m\u001b[1;33m(\u001b[0m\u001b[0mrecommend\u001b[0m\u001b[1;33m(\u001b[0m\u001b[0mtarget_problem\u001b[0m\u001b[1;33m[\u001b[0m\u001b[0mi\u001b[0m\u001b[1;33m]\u001b[0m\u001b[1;33m)\u001b[0m\u001b[1;33m)\u001b[0m\u001b[1;33m==\u001b[0m\u001b[1;36m0\u001b[0m\u001b[1;33m)\u001b[0m\u001b[1;33m:\u001b[0m\u001b[1;33m\u001b[0m\u001b[0m\n\u001b[0m\u001b[0;32m      4\u001b[0m         \u001b[0mprint\u001b[0m\u001b[1;33m(\u001b[0m\u001b[1;34m\"null!!\"\u001b[0m\u001b[1;33m)\u001b[0m\u001b[1;33m\u001b[0m\u001b[0m\n\u001b[0;32m      5\u001b[0m     \u001b[0mrecommend_Problem\u001b[0m\u001b[1;33m.\u001b[0m\u001b[0mappend\u001b[0m\u001b[1;33m(\u001b[0m\u001b[0mrecommend\u001b[0m\u001b[1;33m(\u001b[0m\u001b[0mtarget_problem\u001b[0m\u001b[1;33m[\u001b[0m\u001b[0mi\u001b[0m\u001b[1;33m]\u001b[0m\u001b[1;33m)\u001b[0m\u001b[1;33m)\u001b[0m\u001b[1;33m\u001b[0m\u001b[0m\n",
      "\u001b[1;32m<ipython-input-361-484357490b87>\u001b[0m in \u001b[0;36mrecommend\u001b[1;34m(target_problem)\u001b[0m\n\u001b[0;32m     23\u001b[0m         'weighted_vote',ascending=False)[:10] \n\u001b[0;32m     24\u001b[0m \u001b[1;33m\u001b[0m\u001b[0m\n\u001b[1;32m---> 25\u001b[1;33m     \u001b[0msimilar_problem\u001b[0m \u001b[1;33m=\u001b[0m \u001b[0mfind_sim_movie\u001b[0m\u001b[1;33m(\u001b[0m\u001b[0mproblem\u001b[0m\u001b[1;33m,\u001b[0m\u001b[0mgenre_sim_sorted_ind\u001b[0m\u001b[1;33m,\u001b[0m\u001b[0mtarget_problem\u001b[0m\u001b[1;33m,\u001b[0m\u001b[1;36m3\u001b[0m\u001b[1;33m)\u001b[0m\u001b[1;33m\u001b[0m\u001b[0m\n\u001b[0m\u001b[0;32m     26\u001b[0m     \u001b[0msimilar_problem\u001b[0m\u001b[1;33m.\u001b[0m\u001b[0mdrop_duplicates\u001b[0m\u001b[1;33m(\u001b[0m\u001b[1;33m)\u001b[0m\u001b[1;33m\u001b[0m\u001b[0m\n\u001b[0;32m     27\u001b[0m     \u001b[0msimilar_problem\u001b[0m\u001b[1;33m.\u001b[0m\u001b[0msort_values\u001b[0m\u001b[1;33m(\u001b[0m\u001b[0mby\u001b[0m\u001b[1;33m=\u001b[0m\u001b[1;33m[\u001b[0m\u001b[1;34m'weighted_vote'\u001b[0m\u001b[1;33m]\u001b[0m\u001b[1;33m,\u001b[0m \u001b[0maxis\u001b[0m\u001b[1;33m=\u001b[0m\u001b[1;36m0\u001b[0m\u001b[1;33m,\u001b[0m \u001b[0mascending\u001b[0m\u001b[1;33m=\u001b[0m\u001b[1;32mFalse\u001b[0m\u001b[1;33m)\u001b[0m\u001b[1;33m\u001b[0m\u001b[0m\n",
      "\u001b[1;32m<ipython-input-360-1d871820b3a0>\u001b[0m in \u001b[0;36mfind_sim_movie\u001b[1;34m(df, sorted_ind, title_name, top_n)\u001b[0m\n\u001b[0;32m      5\u001b[0m     \u001b[0mend_index\u001b[0m \u001b[1;33m=\u001b[0m \u001b[0mlen\u001b[0m\u001b[1;33m(\u001b[0m\u001b[0mdf\u001b[0m\u001b[1;33m)\u001b[0m\u001b[1;33m\u001b[0m\u001b[0m\n\u001b[0;32m      6\u001b[0m     \u001b[1;32mif\u001b[0m\u001b[1;33m(\u001b[0m\u001b[0mtop_n\u001b[0m\u001b[1;33m*\u001b[0m\u001b[1;36m2\u001b[0m \u001b[1;33m<\u001b[0m \u001b[0mlen\u001b[0m\u001b[1;33m(\u001b[0m\u001b[0mdf\u001b[0m\u001b[1;33m)\u001b[0m\u001b[1;33m)\u001b[0m\u001b[1;33m:\u001b[0m \u001b[0mend_index\u001b[0m \u001b[1;33m=\u001b[0m \u001b[0mtop_n\u001b[0m\u001b[1;33m*\u001b[0m \u001b[1;36m2\u001b[0m\u001b[1;33m\u001b[0m\u001b[0m\n\u001b[1;32m----> 7\u001b[1;33m     \u001b[0msimilar_indexes\u001b[0m \u001b[1;33m=\u001b[0m \u001b[0msorted_ind\u001b[0m\u001b[1;33m[\u001b[0m\u001b[0mtitle_index\u001b[0m\u001b[1;33m,\u001b[0m \u001b[1;33m:\u001b[0m\u001b[0mend_index\u001b[0m\u001b[1;33m]\u001b[0m\u001b[1;33m\u001b[0m\u001b[0m\n\u001b[0m\u001b[0;32m      8\u001b[0m     \u001b[0msimilar_indexs\u001b[0m \u001b[1;33m=\u001b[0m \u001b[0msimilar_indexes\u001b[0m\u001b[1;33m.\u001b[0m\u001b[0mreshape\u001b[0m\u001b[1;33m(\u001b[0m\u001b[1;33m-\u001b[0m\u001b[1;36m1\u001b[0m\u001b[1;33m)\u001b[0m\u001b[1;33m\u001b[0m\u001b[0m\n\u001b[0;32m      9\u001b[0m     \u001b[1;31m#기준 영화 인덱스는 제외\u001b[0m\u001b[1;33m\u001b[0m\u001b[1;33m\u001b[0m\u001b[0m\n",
      "\u001b[1;31mIndexError\u001b[0m: index 6876 is out of bounds for axis 0 with size 4271"
     ]
    }
   ],
   "source": [
    "for i in range(0, len(target_problem)):\n",
    "    problem = problem_total\n",
    "    if(len(recommend(target_problem[i]))==0):\n",
    "        print(\"null!!\")\n",
    "    recommend_Problem.append(recommend(target_problem[i]))\n",
    "    recommend_Problem.drop_duplicates()\n",
    "print(\"??\")\n",
    "print(recommend_Problem)\n"
   ]
  }
 ]
}