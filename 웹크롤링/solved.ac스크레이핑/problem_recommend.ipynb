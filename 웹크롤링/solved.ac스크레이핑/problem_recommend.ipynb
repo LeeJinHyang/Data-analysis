{
 "metadata": {
  "language_info": {
   "codemirror_mode": {
    "name": "ipython",
    "version": 3
   },
   "file_extension": ".py",
   "mimetype": "text/x-python",
   "name": "python",
   "nbconvert_exporter": "python",
   "pygments_lexer": "ipython3",
   "version": "3.5.3-final"
  },
  "orig_nbformat": 2,
  "kernelspec": {
   "name": "python_defaultSpec_1599627131200",
   "display_name": "Python 3.5.3 64-bit"
  }
 },
 "nbformat": 4,
 "nbformat_minor": 2,
 "cells": [
  {
   "cell_type": "code",
   "execution_count": 1,
   "metadata": {
    "tags": []
   },
   "outputs": [
    {
     "output_type": "stream",
     "name": "stdout",
     "text": "Requirement already satisfied: pandas in c:\\program files\\python35\\lib\\site-packages (0.25.3)\nRequirement already satisfied: numpy>=1.13.3 in c:\\program files\\python35\\lib\\site-packages (from pandas) (1.18.5)\nRequirement already satisfied: python-dateutil>=2.6.1 in c:\\users\\multicampus\\appdata\\roaming\\python\\python35\\site-packages (from pandas) (2.8.1)\nRequirement already satisfied: pytz>=2017.2 in c:\\program files\\python35\\lib\\site-packages (from pandas) (2020.1)\nRequirement already satisfied: six>=1.5 in c:\\users\\multicampus\\appdata\\roaming\\python\\python35\\site-packages (from python-dateutil>=2.6.1->pandas) (1.15.0)\nRequirement already satisfied: numpy in c:\\program files\\python35\\lib\\site-packages (1.18.5)\n"
    }
   ],
   "source": [
    "!pip install pandas\n",
    "!pip install numpy"
   ]
  },
  {
   "cell_type": "code",
   "execution_count": 2,
   "metadata": {},
   "outputs": [],
   "source": [
    "import pandas as pd\n",
    "import numpy as np\n",
    "import warnings;warnings.filterwarnings('ignore')"
   ]
  },
  {
   "cell_type": "code",
   "execution_count": 18,
   "metadata": {},
   "outputs": [],
   "source": [
    "problem = pd.read_csv('problem.csv')\n",
    "user = pd.read_csv('user.csv')\n",
    "target_problem = \"1000\""
   ]
  },
  {
   "cell_type": "code",
   "execution_count": 19,
   "metadata": {
    "tags": []
   },
   "outputs": [
    {
     "output_type": "stream",
     "name": "stdout",
     "text": "문제번호                                    링크           난이도       제목  \\\n0      1000  https://www.acmicpc.net/problem/1000      Bronze V      A+B   \n1      1001  https://www.acmicpc.net/problem/1001      Bronze V      A-B   \n2      1007  https://www.acmicpc.net/problem/1007       Gold II    벡터 매칭   \n3      1008  https://www.acmicpc.net/problem/1008     Bronze IV      A/B   \n4      1009  https://www.acmicpc.net/problem/1009    Bronze III     분산처리   \n...     ...                                   ...           ...      ...   \n18197  2549  https://www.acmicpc.net/problem/2549        Gold I  루빅의 사각형   \n18198  2794  https://www.acmicpc.net/problem/2794    Platinum I       화성   \n18199  3110  https://www.acmicpc.net/problem/3110      Gold III      부등식   \n18200  3148  https://www.acmicpc.net/problem/3148  Platinum III       빙고   \n18201  4160  https://www.acmicpc.net/problem/4160    Platinum V       이혼   \n\n             분류     해결  평균시도  \n0            수학  98776  2.26  \n1            수학  81082  1.39  \n2            수학    858  2.72  \n3            수학  53039  3.01  \n4            수학   6579  3.82  \n...         ...    ...   ...  \n18197  중간에서 만나기    234  3.18  \n18198  중간에서 만나기     11  3.00  \n18199  중간에서 만나기     38  2.79  \n18200  중간에서 만나기      3  4.00  \n18201  중간에서 만나기      9  2.67  \n\n[18202 rows x 7 columns]\n"
    }
   ],
   "source": [
    "print(problem)"
   ]
  },
  {
   "cell_type": "code",
   "execution_count": 25,
   "metadata": {},
   "outputs": [
    {
     "output_type": "execute_result",
     "data": {
      "text/plain": "   분류       난이도\n0  수학  Bronze V",
      "text/html": "<div>\n<style scoped>\n    .dataframe tbody tr th:only-of-type {\n        vertical-align: middle;\n    }\n\n    .dataframe tbody tr th {\n        vertical-align: top;\n    }\n\n    .dataframe thead th {\n        text-align: right;\n    }\n</style>\n<table border=\"1\" class=\"dataframe\">\n  <thead>\n    <tr style=\"text-align: right;\">\n      <th></th>\n      <th>분류</th>\n      <th>난이도</th>\n    </tr>\n  </thead>\n  <tbody>\n    <tr>\n      <th>0</th>\n      <td>수학</td>\n      <td>Bronze V</td>\n    </tr>\n  </tbody>\n</table>\n</div>"
     },
     "metadata": {},
     "execution_count": 25
    }
   ],
   "source": [
    "pd.set_option('max_colwidth',100)\n",
    "#각각의 장르와 그 장르의 id를 추출해 낼 수 있다\n",
    "problem_df[['분류','난이도']][:1]"
   ]
  },
  {
   "cell_type": "code",
   "execution_count": 26,
   "metadata": {
    "tags": []
   },
   "outputs": [
    {
     "output_type": "stream",
     "name": "stdout",
     "text": "문제번호           난이도        분류     해결  평균시도\n0      1000      Bronze V        수학  98776  2.26\n1      1001      Bronze V        수학  81082  1.39\n2      1007       Gold II        수학    858  2.72\n3      1008     Bronze IV        수학  53039  3.01\n4      1009    Bronze III        수학   6579  3.82\n...     ...           ...       ...    ...   ...\n18197  2549        Gold I  중간에서 만나기    234  3.18\n18198  2794    Platinum I  중간에서 만나기     11  3.00\n18199  3110      Gold III  중간에서 만나기     38  2.79\n18200  3148  Platinum III  중간에서 만나기      3  4.00\n18201  4160    Platinum V  중간에서 만나기      9  2.67\n\n[18202 rows x 5 columns]\n"
    }
   ],
   "source": [
    "problem_df = problem[['문제번호','난이도','분류','해결','평균시도']]\n",
    "print(problem_df)"
   ]
  },
  {
   "cell_type": "code",
   "execution_count": 28,
   "metadata": {},
   "outputs": [
    {
     "output_type": "error",
     "ename": "ValueError",
     "evalue": "malformed node or string: <_ast.Name object at 0x000001FC8452A160>",
     "traceback": [
      "\u001b[1;31m---------------------------------------------------------------------------\u001b[0m",
      "\u001b[1;31mValueError\u001b[0m                                Traceback (most recent call last)",
      "\u001b[1;32m<ipython-input-28-ad3c3e6a7768>\u001b[0m in \u001b[0;36m<module>\u001b[1;34m\u001b[0m\n\u001b[0;32m      1\u001b[0m \u001b[1;31m#literal_eval() 함수를 사용하면 이 문자열을 문자열이 의미하는 list[dict1, dict2] 객체로 만들 수 있다\u001b[0m\u001b[1;33m\u001b[0m\u001b[1;33m\u001b[0m\u001b[0m\n\u001b[0;32m      2\u001b[0m \u001b[1;32mfrom\u001b[0m \u001b[0mast\u001b[0m \u001b[1;32mimport\u001b[0m \u001b[0mliteral_eval\u001b[0m\u001b[1;33m\u001b[0m\u001b[0m\n\u001b[1;32m----> 3\u001b[1;33m \u001b[0mproblem_df\u001b[0m\u001b[1;33m[\u001b[0m\u001b[1;34m'분류'\u001b[0m\u001b[1;33m]\u001b[0m \u001b[1;33m=\u001b[0m \u001b[0mproblem_df\u001b[0m\u001b[1;33m[\u001b[0m\u001b[1;34m'분류'\u001b[0m\u001b[1;33m]\u001b[0m\u001b[1;33m.\u001b[0m\u001b[0mapply\u001b[0m\u001b[1;33m(\u001b[0m\u001b[0mliteral_eval\u001b[0m\u001b[1;33m)\u001b[0m \u001b[1;31m#genres 칼럼은 문자열이 아닌 실제 리스트 내부에 여러 장르 딕셔너리로 구성된 객체들을 가진다\u001b[0m\u001b[1;33m\u001b[0m\u001b[0m\n\u001b[0m\u001b[0;32m      4\u001b[0m \u001b[0mproblem_df\u001b[0m\u001b[1;33m[\u001b[0m\u001b[1;34m'난이도'\u001b[0m\u001b[1;33m]\u001b[0m \u001b[1;33m=\u001b[0m \u001b[0mproblem_df\u001b[0m\u001b[1;33m[\u001b[0m\u001b[1;34m'난이도'\u001b[0m\u001b[1;33m]\u001b[0m\u001b[1;33m.\u001b[0m\u001b[0mapply\u001b[0m\u001b[1;33m(\u001b[0m\u001b[0mliteral_eval\u001b[0m\u001b[1;33m)\u001b[0m\u001b[1;33m\u001b[0m\u001b[0m\n",
      "\u001b[1;32mC:\\Program Files\\Python35\\lib\\site-packages\\pandas\\core\\series.py\u001b[0m in \u001b[0;36mapply\u001b[1;34m(self, func, convert_dtype, args, **kwds)\u001b[0m\n\u001b[0;32m   4043\u001b[0m             \u001b[1;32melse\u001b[0m\u001b[1;33m:\u001b[0m\u001b[1;33m\u001b[0m\u001b[0m\n\u001b[0;32m   4044\u001b[0m                 \u001b[0mvalues\u001b[0m \u001b[1;33m=\u001b[0m \u001b[0mself\u001b[0m\u001b[1;33m.\u001b[0m\u001b[0mastype\u001b[0m\u001b[1;33m(\u001b[0m\u001b[0mobject\u001b[0m\u001b[1;33m)\u001b[0m\u001b[1;33m.\u001b[0m\u001b[0mvalues\u001b[0m\u001b[1;33m\u001b[0m\u001b[0m\n\u001b[1;32m-> 4045\u001b[1;33m                 \u001b[0mmapped\u001b[0m \u001b[1;33m=\u001b[0m \u001b[0mlib\u001b[0m\u001b[1;33m.\u001b[0m\u001b[0mmap_infer\u001b[0m\u001b[1;33m(\u001b[0m\u001b[0mvalues\u001b[0m\u001b[1;33m,\u001b[0m \u001b[0mf\u001b[0m\u001b[1;33m,\u001b[0m \u001b[0mconvert\u001b[0m\u001b[1;33m=\u001b[0m\u001b[0mconvert_dtype\u001b[0m\u001b[1;33m)\u001b[0m\u001b[1;33m\u001b[0m\u001b[0m\n\u001b[0m\u001b[0;32m   4046\u001b[0m \u001b[1;33m\u001b[0m\u001b[0m\n\u001b[0;32m   4047\u001b[0m         \u001b[1;32mif\u001b[0m \u001b[0mlen\u001b[0m\u001b[1;33m(\u001b[0m\u001b[0mmapped\u001b[0m\u001b[1;33m)\u001b[0m \u001b[1;32mand\u001b[0m \u001b[0misinstance\u001b[0m\u001b[1;33m(\u001b[0m\u001b[0mmapped\u001b[0m\u001b[1;33m[\u001b[0m\u001b[1;36m0\u001b[0m\u001b[1;33m]\u001b[0m\u001b[1;33m,\u001b[0m \u001b[0mSeries\u001b[0m\u001b[1;33m)\u001b[0m\u001b[1;33m:\u001b[0m\u001b[1;33m\u001b[0m\u001b[0m\n",
      "\u001b[1;32mpandas/_libs/lib.pyx\u001b[0m in \u001b[0;36mpandas._libs.lib.map_infer\u001b[1;34m()\u001b[0m\n",
      "\u001b[1;32mC:\\Program Files\\Python35\\lib\\ast.py\u001b[0m in \u001b[0;36mliteral_eval\u001b[1;34m(node_or_string)\u001b[0m\n\u001b[0;32m     82\u001b[0m                 \u001b[1;32mreturn\u001b[0m \u001b[0mleft\u001b[0m \u001b[1;33m-\u001b[0m \u001b[0mright\u001b[0m\u001b[1;33m\u001b[0m\u001b[0m\n\u001b[0;32m     83\u001b[0m         \u001b[1;32mraise\u001b[0m \u001b[0mValueError\u001b[0m\u001b[1;33m(\u001b[0m\u001b[1;34m'malformed node or string: '\u001b[0m \u001b[1;33m+\u001b[0m \u001b[0mrepr\u001b[0m\u001b[1;33m(\u001b[0m\u001b[0mnode\u001b[0m\u001b[1;33m)\u001b[0m\u001b[1;33m)\u001b[0m\u001b[1;33m\u001b[0m\u001b[0m\n\u001b[1;32m---> 84\u001b[1;33m     \u001b[1;32mreturn\u001b[0m \u001b[0m_convert\u001b[0m\u001b[1;33m(\u001b[0m\u001b[0mnode_or_string\u001b[0m\u001b[1;33m)\u001b[0m\u001b[1;33m\u001b[0m\u001b[0m\n\u001b[0m\u001b[0;32m     85\u001b[0m \u001b[1;33m\u001b[0m\u001b[0m\n\u001b[0;32m     86\u001b[0m \u001b[1;33m\u001b[0m\u001b[0m\n",
      "\u001b[1;32mC:\\Program Files\\Python35\\lib\\ast.py\u001b[0m in \u001b[0;36m_convert\u001b[1;34m(node)\u001b[0m\n\u001b[0;32m     81\u001b[0m             \u001b[1;32melse\u001b[0m\u001b[1;33m:\u001b[0m\u001b[1;33m\u001b[0m\u001b[0m\n\u001b[0;32m     82\u001b[0m                 \u001b[1;32mreturn\u001b[0m \u001b[0mleft\u001b[0m \u001b[1;33m-\u001b[0m \u001b[0mright\u001b[0m\u001b[1;33m\u001b[0m\u001b[0m\n\u001b[1;32m---> 83\u001b[1;33m         \u001b[1;32mraise\u001b[0m \u001b[0mValueError\u001b[0m\u001b[1;33m(\u001b[0m\u001b[1;34m'malformed node or string: '\u001b[0m \u001b[1;33m+\u001b[0m \u001b[0mrepr\u001b[0m\u001b[1;33m(\u001b[0m\u001b[0mnode\u001b[0m\u001b[1;33m)\u001b[0m\u001b[1;33m)\u001b[0m\u001b[1;33m\u001b[0m\u001b[0m\n\u001b[0m\u001b[0;32m     84\u001b[0m     \u001b[1;32mreturn\u001b[0m \u001b[0m_convert\u001b[0m\u001b[1;33m(\u001b[0m\u001b[0mnode_or_string\u001b[0m\u001b[1;33m)\u001b[0m\u001b[1;33m\u001b[0m\u001b[0m\n\u001b[0;32m     85\u001b[0m \u001b[1;33m\u001b[0m\u001b[0m\n",
      "\u001b[1;31mValueError\u001b[0m: malformed node or string: <_ast.Name object at 0x000001FC8452A160>"
     ]
    }
   ],
   "source": [
    "#literal_eval() 함수를 사용하면 이 문자열을 문자열이 의미하는 list[dict1, dict2] 객체로 만들 수 있다\n",
    "from ast import literal_eval\n",
    "problem_df['분류'] = problem_df['분류'].apply(literal_eval) #genres 칼럼은 문자열이 아닌 실제 리스트 내부에 여러 장르 딕셔너리로 구성된 객체들을 가진다\n",
    "problem_df['난이도'] = problem_df['난이도'].apply(literal_eval)\n"
   ]
  },
  {
   "cell_type": "code",
   "execution_count": 96,
   "metadata": {
    "tags": []
   },
   "outputs": [
    {
     "output_type": "stream",
     "name": "stdout",
     "text": "(18202, 151)\n"
    }
   ],
   "source": [
    "from sklearn.feature_extraction.text import CountVectorizer\n",
    "\n",
    "#CountVectorizer를 적용하기 위해 공백문자로 word 단위가 구분되는 문자열로 변환\n",
    "count_vect  = CountVectorizer(min_df = 0, ngram_range=(1,2))\n",
    "genre_mat = count_vect.fit_transform(problem_df['분류'])\n",
    "print(genre_mat.shape)"
   ]
  },
  {
   "cell_type": "code",
   "execution_count": 91,
   "metadata": {
    "tags": []
   },
   "outputs": [
    {
     "output_type": "stream",
     "name": "stdout",
     "text": "(18202, 18202)\n[[1. 1. 1. ... 0. 0. 0.]\n [1. 1. 1. ... 0. 0. 0.]\n [1. 1. 1. ... 0. 0. 0.]\n ...\n [0. 0. 0. ... 1. 1. 1.]\n [0. 0. 0. ... 1. 1. 1.]\n [0. 0. 0. ... 1. 1. 1.]]\n[[1.         1.         0.         ... 0.         0.         0.        ]\n [1.         1.         0.         ... 0.         0.         0.        ]\n [0.         0.         1.         ... 0.33333333 0.         0.        ]\n ...\n [0.         0.         0.33333333 ... 1.         0.33333333 0.        ]\n [0.         0.         0.         ... 0.33333333 1.         0.57735027]\n [0.         0.         0.         ... 0.         0.57735027 1.        ]]\n"
    }
   ],
   "source": [
    "from sklearn.metrics.pairwise import cosine_similarity\n",
    "\n",
    "genre_sim = cosine_similarity(genre_mat, genre_mat)\n",
    "level_sim = cosine_similarity(level_mat,level_mat)\n",
    "print(genre_sim.shape)\n",
    "print(genre_sim)\n",
    "print(level_sim)"
   ]
  },
  {
   "cell_type": "code",
   "execution_count": 92,
   "metadata": {
    "tags": []
   },
   "outputs": [
    {
     "output_type": "stream",
     "name": "stdout",
     "text": "[[    0  1142  1140 ... 12126 12125  9100]]\n[[    0   897   985 ... 11843 11842  9100]]\n"
    }
   ],
   "source": [
    "genre_sim_sorted_ind = genre_sim.argsort()[:,::-1]\n",
    "print(genre_sim_sorted_ind[:1])\n",
    "level_sim_sorted_ind = level_sim.argsort()[:,::-1]\n",
    "print(level_sim_sorted_ind[:1])\n"
   ]
  },
  {
   "cell_type": "code",
   "execution_count": 97,
   "metadata": {},
   "outputs": [],
   "source": [
    "#장르 유사도에 따라 영화를 추천하는 함수\n",
    "#함수명 : find_sim_movie()\n",
    "#movies_df DataFrame : 기반 데이터\n",
    "#genre_sim_sorted_ind : 레코드별 장르 코사인 유사도 인덱스\n",
    "#DataFrame : 고객이 선정한 추천 기준이 되는 영화제목, 추천할 영화 건수를 입력하면 추천 영화 정보를 가짐\n",
    "def find_sim_problem(df, sorted_ind, title_name, top_n = 10):\n",
    "    \n",
    "    title_problem = df[df['문제번호']== int(title_name)]\n",
    "    \n",
    "    title_index = title_problem.index.values\n",
    "    similar_indexes = sorted_ind[title_index,:(top_n)]\n",
    "    \n",
    "    similar_indexes = similar_indexes.reshape(-1)\n",
    "    \n",
    "    return df.iloc[similar_indexes]"
   ]
  },
  {
   "cell_type": "code",
   "execution_count": 99,
   "metadata": {
    "tags": []
   },
   "outputs": [
    {
     "output_type": "execute_result",
     "data": {
      "text/plain": "       문제번호  평균시도     해결         난이도    분류\n0      1000  2.26  98776    Bronze V    수학\n1142   1193  1.88  14902   Bronze II    수학\n1140   1187  2.32     34   Diamond V    수학\n1139   1183  2.21     43    Silver V    수학\n1138   1179  2.84     85    Gold III    수학\n...     ...   ...    ...         ...   ...\n12584  5533  1.39   1263    Bronze I  사칙연산\n12583  5532  1.56   3586   Bronze IV  사칙연산\n12582  5522  1.12   2621    Bronze V  사칙연산\n12581  5361  1.52   1583  Bronze III  사칙연산\n12580  5355  1.41   1416   Bronze II  사칙연산\n\n[1320 rows x 5 columns]",
      "text/html": "<div>\n<style scoped>\n    .dataframe tbody tr th:only-of-type {\n        vertical-align: middle;\n    }\n\n    .dataframe tbody tr th {\n        vertical-align: top;\n    }\n\n    .dataframe thead th {\n        text-align: right;\n    }\n</style>\n<table border=\"1\" class=\"dataframe\">\n  <thead>\n    <tr style=\"text-align: right;\">\n      <th></th>\n      <th>문제번호</th>\n      <th>평균시도</th>\n      <th>해결</th>\n      <th>난이도</th>\n      <th>분류</th>\n    </tr>\n  </thead>\n  <tbody>\n    <tr>\n      <th>0</th>\n      <td>1000</td>\n      <td>2.26</td>\n      <td>98776</td>\n      <td>Bronze V</td>\n      <td>수학</td>\n    </tr>\n    <tr>\n      <th>1142</th>\n      <td>1193</td>\n      <td>1.88</td>\n      <td>14902</td>\n      <td>Bronze II</td>\n      <td>수학</td>\n    </tr>\n    <tr>\n      <th>1140</th>\n      <td>1187</td>\n      <td>2.32</td>\n      <td>34</td>\n      <td>Diamond V</td>\n      <td>수학</td>\n    </tr>\n    <tr>\n      <th>1139</th>\n      <td>1183</td>\n      <td>2.21</td>\n      <td>43</td>\n      <td>Silver V</td>\n      <td>수학</td>\n    </tr>\n    <tr>\n      <th>1138</th>\n      <td>1179</td>\n      <td>2.84</td>\n      <td>85</td>\n      <td>Gold III</td>\n      <td>수학</td>\n    </tr>\n    <tr>\n      <th>...</th>\n      <td>...</td>\n      <td>...</td>\n      <td>...</td>\n      <td>...</td>\n      <td>...</td>\n    </tr>\n    <tr>\n      <th>12584</th>\n      <td>5533</td>\n      <td>1.39</td>\n      <td>1263</td>\n      <td>Bronze I</td>\n      <td>사칙연산</td>\n    </tr>\n    <tr>\n      <th>12583</th>\n      <td>5532</td>\n      <td>1.56</td>\n      <td>3586</td>\n      <td>Bronze IV</td>\n      <td>사칙연산</td>\n    </tr>\n    <tr>\n      <th>12582</th>\n      <td>5522</td>\n      <td>1.12</td>\n      <td>2621</td>\n      <td>Bronze V</td>\n      <td>사칙연산</td>\n    </tr>\n    <tr>\n      <th>12581</th>\n      <td>5361</td>\n      <td>1.52</td>\n      <td>1583</td>\n      <td>Bronze III</td>\n      <td>사칙연산</td>\n    </tr>\n    <tr>\n      <th>12580</th>\n      <td>5355</td>\n      <td>1.41</td>\n      <td>1416</td>\n      <td>Bronze II</td>\n      <td>사칙연산</td>\n    </tr>\n  </tbody>\n</table>\n<p>1320 rows × 5 columns</p>\n</div>"
     },
     "metadata": {},
     "execution_count": 99
    }
   ],
   "source": [
    "similar_movies = find_sim_problem(problem_df, genre_sim_sorted_ind,target_problem, 40)\n",
    "similar_movies[['문제번호','평균시도','해결','난이도','분류']]"
   ]
  },
  {
   "cell_type": "code",
   "execution_count": 86,
   "metadata": {},
   "outputs": [
    {
     "output_type": "execute_result",
     "data": {
      "text/plain": "        문제번호           난이도  평균시도\n15157  16371     Diamond V   1.0\n17750  18350     Diamond I   1.0\n12830   3858    Platinum I   1.0\n17748  18163       Ruby II   1.0\n17747  17879   Platinum II   1.0\n16392  19327    Diamond IV   1.0\n13547   6752      Silver V   1.0\n12832   5041   Platinum II   1.0\n16109   2214      Gold III   1.0\n14659  11373  Platinum III   1.0",
      "text/html": "<div>\n<style scoped>\n    .dataframe tbody tr th:only-of-type {\n        vertical-align: middle;\n    }\n\n    .dataframe tbody tr th {\n        vertical-align: top;\n    }\n\n    .dataframe thead th {\n        text-align: right;\n    }\n</style>\n<table border=\"1\" class=\"dataframe\">\n  <thead>\n    <tr style=\"text-align: right;\">\n      <th></th>\n      <th>문제번호</th>\n      <th>난이도</th>\n      <th>평균시도</th>\n    </tr>\n  </thead>\n  <tbody>\n    <tr>\n      <th>15157</th>\n      <td>16371</td>\n      <td>Diamond V</td>\n      <td>1.0</td>\n    </tr>\n    <tr>\n      <th>17750</th>\n      <td>18350</td>\n      <td>Diamond I</td>\n      <td>1.0</td>\n    </tr>\n    <tr>\n      <th>12830</th>\n      <td>3858</td>\n      <td>Platinum I</td>\n      <td>1.0</td>\n    </tr>\n    <tr>\n      <th>17748</th>\n      <td>18163</td>\n      <td>Ruby II</td>\n      <td>1.0</td>\n    </tr>\n    <tr>\n      <th>17747</th>\n      <td>17879</td>\n      <td>Platinum II</td>\n      <td>1.0</td>\n    </tr>\n    <tr>\n      <th>16392</th>\n      <td>19327</td>\n      <td>Diamond IV</td>\n      <td>1.0</td>\n    </tr>\n    <tr>\n      <th>13547</th>\n      <td>6752</td>\n      <td>Silver V</td>\n      <td>1.0</td>\n    </tr>\n    <tr>\n      <th>12832</th>\n      <td>5041</td>\n      <td>Platinum II</td>\n      <td>1.0</td>\n    </tr>\n    <tr>\n      <th>16109</th>\n      <td>2214</td>\n      <td>Gold III</td>\n      <td>1.0</td>\n    </tr>\n    <tr>\n      <th>14659</th>\n      <td>11373</td>\n      <td>Platinum III</td>\n      <td>1.0</td>\n    </tr>\n  </tbody>\n</table>\n</div>"
     },
     "metadata": {},
     "execution_count": 86
    }
   ],
   "source": [
    "problem_df[['문제번호','난이도','평균시도']].sort_values('평균시도',ascending=True)[:10]\n",
    "\n"
   ]
  },
  {
   "cell_type": "code",
   "execution_count": 159,
   "metadata": {
    "tags": []
   },
   "outputs": [
    {
     "output_type": "stream",
     "name": "stdout",
     "text": "Bronze\n0       NaN\n1       NaN\n2       NaN\n3       NaN\n4       NaN\n         ..\n18197   NaN\n18198   NaN\n18199   NaN\n18200   NaN\n18201   NaN\nName: 난이도 정제, Length: 18202, dtype: float64\n"
    }
   ],
   "source": [
    "#난이도를 정제하여 난이도 수준을 맞춤\n",
    "level_array = ['Bronze','Silver','Gold','Platium','Diamond','Ruby']\n",
    "print(level_array[0]) \n",
    "def level_set(df,target_problem):\n",
    "    level_idx = df.index[df['문제번호']==int(target_problem)]\n",
    "    level = df.loc[level_idx[0]]['난이도'].split(' ')[0]\n",
    "    df['난이도 정제'] = df['난이도'].str.split(' ')\n",
    "    return df['난이도 정제'].str.contains('Bronze')\n",
    "return_df = level_set(problem_df,target_problem)\n",
    "print(return_df)"
   ]
  },
  {
   "cell_type": "code",
   "execution_count": 89,
   "metadata": {
    "tags": []
   },
   "outputs": [
    {
     "output_type": "stream",
     "name": "stdout",
     "text": "C:  3.205 m:  229.0\n"
    }
   ],
   "source": [
    "C = problem_df['평균시도'].mean()\n",
    "m = problem_df['해결'].quantile(0.6)\n",
    "print('C: ',round(C,3),'m: ',round(m,3))"
   ]
  },
  {
   "cell_type": "code",
   "execution_count": null,
   "metadata": {},
   "outputs": [],
   "source": [
    "#원래 점수에 \n",
    "percentile = 0.6\n",
    "m = problem_df['해결'].quantile(0.6)\n",
    "C = problem_df['평균시도'].mean()\n",
    "\n",
    "def weighted_vote_average(record):\n",
    "    v = record['해결']\n",
    "    R = record['평균시도']\n",
    "\n",
    "    return  (v/(v+m)) * R + (v/(v+m)) * C\n",
    "\n",
    "\n",
    "movies['weighted_vote'] = movies.apply(weighted_vote_average,axis=1)"
   ]
  }
 ]
}