{
 "cells": [
  {
   "cell_type": "code",
   "execution_count": 4,
   "metadata": {
    "tags": []
   },
   "outputs": [
    {
     "name": "stdout",
     "output_type": "stream",
     "text": [
      "Requirement already satisfied: pandas in /Users/jh/opt/anaconda3/lib/python3.7/site-packages (1.0.1)\n",
      "Requirement already satisfied: pytz>=2017.2 in /Users/jh/opt/anaconda3/lib/python3.7/site-packages (from pandas) (2019.3)\n",
      "Requirement already satisfied: python-dateutil>=2.6.1 in /Users/jh/opt/anaconda3/lib/python3.7/site-packages (from pandas) (2.8.1)\n",
      "Requirement already satisfied: numpy>=1.13.3 in /Users/jh/opt/anaconda3/lib/python3.7/site-packages (from pandas) (1.18.1)\n",
      "Requirement already satisfied: six>=1.5 in /Users/jh/opt/anaconda3/lib/python3.7/site-packages (from python-dateutil>=2.6.1->pandas) (1.14.0)\n",
      "Requirement already satisfied: numpy in /Users/jh/opt/anaconda3/lib/python3.7/site-packages (1.18.1)\n"
     ]
    }
   ],
   "source": [
    "!pip install pandas\n",
    "!pip install numpy"
   ]
  },
  {
   "cell_type": "code",
   "execution_count": 5,
   "metadata": {},
   "outputs": [],
   "source": [
    "import pandas as pd\n",
    "import numpy as np\n",
    "import warnings;warnings.filterwarnings('ignore')"
   ]
  },
  {
   "cell_type": "code",
   "execution_count": 8,
   "metadata": {},
   "outputs": [],
   "source": [
    "problem = pd.read_csv('problem.csv')\n",
    "user = pd.read_csv('user.csv')\n",
    "target_problem = \"1000\""
   ]
  },
  {
   "cell_type": "code",
   "execution_count": 9,
   "metadata": {
    "tags": []
   },
   "outputs": [
    {
     "name": "stdout",
     "output_type": "stream",
     "text": [
      "       문제번호                                    링크           난이도       제목  \\\n",
      "0      1000  https://www.acmicpc.net/problem/1000      Bronze V      A+B   \n",
      "1      1001  https://www.acmicpc.net/problem/1001      Bronze V      A-B   \n",
      "2      1007  https://www.acmicpc.net/problem/1007       Gold II    벡터 매칭   \n",
      "3      1008  https://www.acmicpc.net/problem/1008     Bronze IV      A/B   \n",
      "4      1009  https://www.acmicpc.net/problem/1009    Bronze III     분산처리   \n",
      "...     ...                                   ...           ...      ...   \n",
      "18197  2549  https://www.acmicpc.net/problem/2549        Gold I  루빅의 사각형   \n",
      "18198  2794  https://www.acmicpc.net/problem/2794    Platinum I       화성   \n",
      "18199  3110  https://www.acmicpc.net/problem/3110      Gold III      부등식   \n",
      "18200  3148  https://www.acmicpc.net/problem/3148  Platinum III       빙고   \n",
      "18201  4160  https://www.acmicpc.net/problem/4160    Platinum V       이혼   \n",
      "\n",
      "             분류     해결  평균시도  \n",
      "0            수학  98776  2.26  \n",
      "1            수학  81082  1.39  \n",
      "2            수학    858  2.72  \n",
      "3            수학  53039  3.01  \n",
      "4            수학   6579  3.82  \n",
      "...         ...    ...   ...  \n",
      "18197  중간에서 만나기    234  3.18  \n",
      "18198  중간에서 만나기     11  3.00  \n",
      "18199  중간에서 만나기     38  2.79  \n",
      "18200  중간에서 만나기      3  4.00  \n",
      "18201  중간에서 만나기      9  2.67  \n",
      "\n",
      "[18202 rows x 7 columns]\n"
     ]
    }
   ],
   "source": [
    "print(problem)"
   ]
  },
  {
   "cell_type": "code",
   "execution_count": 10,
   "metadata": {
    "tags": []
   },
   "outputs": [
    {
     "name": "stdout",
     "output_type": "stream",
     "text": [
      "       문제번호           난이도        분류     해결  평균시도\n",
      "0      1000      Bronze V        수학  98776  2.26\n",
      "1      1001      Bronze V        수학  81082  1.39\n",
      "2      1007       Gold II        수학    858  2.72\n",
      "3      1008     Bronze IV        수학  53039  3.01\n",
      "4      1009    Bronze III        수학   6579  3.82\n",
      "...     ...           ...       ...    ...   ...\n",
      "18197  2549        Gold I  중간에서 만나기    234  3.18\n",
      "18198  2794    Platinum I  중간에서 만나기     11  3.00\n",
      "18199  3110      Gold III  중간에서 만나기     38  2.79\n",
      "18200  3148  Platinum III  중간에서 만나기      3  4.00\n",
      "18201  4160    Platinum V  중간에서 만나기      9  2.67\n",
      "\n",
      "[18202 rows x 5 columns]\n"
     ]
    }
   ],
   "source": [
    "problem_df = problem[['문제번호','난이도','분류','해결','평균시도']]\n",
    "print(problem_df)"
   ]
  },
  {
   "cell_type": "code",
   "execution_count": 11,
   "metadata": {},
   "outputs": [
    {
     "data": {
      "text/html": [
       "<div>\n",
       "<style scoped>\n",
       "    .dataframe tbody tr th:only-of-type {\n",
       "        vertical-align: middle;\n",
       "    }\n",
       "\n",
       "    .dataframe tbody tr th {\n",
       "        vertical-align: top;\n",
       "    }\n",
       "\n",
       "    .dataframe thead th {\n",
       "        text-align: right;\n",
       "    }\n",
       "</style>\n",
       "<table border=\"1\" class=\"dataframe\">\n",
       "  <thead>\n",
       "    <tr style=\"text-align: right;\">\n",
       "      <th></th>\n",
       "      <th>분류</th>\n",
       "      <th>난이도</th>\n",
       "    </tr>\n",
       "  </thead>\n",
       "  <tbody>\n",
       "    <tr>\n",
       "      <th>0</th>\n",
       "      <td>수학</td>\n",
       "      <td>Bronze V</td>\n",
       "    </tr>\n",
       "  </tbody>\n",
       "</table>\n",
       "</div>"
      ],
      "text/plain": [
       "   분류       난이도\n",
       "0  수학  Bronze V"
      ]
     },
     "execution_count": 11,
     "metadata": {},
     "output_type": "execute_result"
    }
   ],
   "source": [
    "pd.set_option('max_colwidth',100)\n",
    "#각각의 장르와 그 장르의 id를 추출해 낼 수 있다\n",
    "problem_df[['분류','난이도']][:1]"
   ]
  },
  {
   "cell_type": "code",
   "execution_count": 28,
   "metadata": {},
   "outputs": [
    {
     "ename": "ValueError",
     "evalue": "malformed node or string: <_ast.Name object at 0x000001FC8452A160>",
     "output_type": "error",
     "traceback": [
      "\u001b[1;31m---------------------------------------------------------------------------\u001b[0m",
      "\u001b[1;31mValueError\u001b[0m                                Traceback (most recent call last)",
      "\u001b[1;32m<ipython-input-28-ad3c3e6a7768>\u001b[0m in \u001b[0;36m<module>\u001b[1;34m\u001b[0m\n\u001b[0;32m      1\u001b[0m \u001b[1;31m#literal_eval() 함수를 사용하면 이 문자열을 문자열이 의미하는 list[dict1, dict2] 객체로 만들 수 있다\u001b[0m\u001b[1;33m\u001b[0m\u001b[1;33m\u001b[0m\u001b[0m\n\u001b[0;32m      2\u001b[0m \u001b[1;32mfrom\u001b[0m \u001b[0mast\u001b[0m \u001b[1;32mimport\u001b[0m \u001b[0mliteral_eval\u001b[0m\u001b[1;33m\u001b[0m\u001b[0m\n\u001b[1;32m----> 3\u001b[1;33m \u001b[0mproblem_df\u001b[0m\u001b[1;33m[\u001b[0m\u001b[1;34m'분류'\u001b[0m\u001b[1;33m]\u001b[0m \u001b[1;33m=\u001b[0m \u001b[0mproblem_df\u001b[0m\u001b[1;33m[\u001b[0m\u001b[1;34m'분류'\u001b[0m\u001b[1;33m]\u001b[0m\u001b[1;33m.\u001b[0m\u001b[0mapply\u001b[0m\u001b[1;33m(\u001b[0m\u001b[0mliteral_eval\u001b[0m\u001b[1;33m)\u001b[0m \u001b[1;31m#genres 칼럼은 문자열이 아닌 실제 리스트 내부에 여러 장르 딕셔너리로 구성된 객체들을 가진다\u001b[0m\u001b[1;33m\u001b[0m\u001b[0m\n\u001b[0m\u001b[0;32m      4\u001b[0m \u001b[0mproblem_df\u001b[0m\u001b[1;33m[\u001b[0m\u001b[1;34m'난이도'\u001b[0m\u001b[1;33m]\u001b[0m \u001b[1;33m=\u001b[0m \u001b[0mproblem_df\u001b[0m\u001b[1;33m[\u001b[0m\u001b[1;34m'난이도'\u001b[0m\u001b[1;33m]\u001b[0m\u001b[1;33m.\u001b[0m\u001b[0mapply\u001b[0m\u001b[1;33m(\u001b[0m\u001b[0mliteral_eval\u001b[0m\u001b[1;33m)\u001b[0m\u001b[1;33m\u001b[0m\u001b[0m\n",
      "\u001b[1;32mC:\\Program Files\\Python35\\lib\\site-packages\\pandas\\core\\series.py\u001b[0m in \u001b[0;36mapply\u001b[1;34m(self, func, convert_dtype, args, **kwds)\u001b[0m\n\u001b[0;32m   4043\u001b[0m             \u001b[1;32melse\u001b[0m\u001b[1;33m:\u001b[0m\u001b[1;33m\u001b[0m\u001b[0m\n\u001b[0;32m   4044\u001b[0m                 \u001b[0mvalues\u001b[0m \u001b[1;33m=\u001b[0m \u001b[0mself\u001b[0m\u001b[1;33m.\u001b[0m\u001b[0mastype\u001b[0m\u001b[1;33m(\u001b[0m\u001b[0mobject\u001b[0m\u001b[1;33m)\u001b[0m\u001b[1;33m.\u001b[0m\u001b[0mvalues\u001b[0m\u001b[1;33m\u001b[0m\u001b[0m\n\u001b[1;32m-> 4045\u001b[1;33m                 \u001b[0mmapped\u001b[0m \u001b[1;33m=\u001b[0m \u001b[0mlib\u001b[0m\u001b[1;33m.\u001b[0m\u001b[0mmap_infer\u001b[0m\u001b[1;33m(\u001b[0m\u001b[0mvalues\u001b[0m\u001b[1;33m,\u001b[0m \u001b[0mf\u001b[0m\u001b[1;33m,\u001b[0m \u001b[0mconvert\u001b[0m\u001b[1;33m=\u001b[0m\u001b[0mconvert_dtype\u001b[0m\u001b[1;33m)\u001b[0m\u001b[1;33m\u001b[0m\u001b[0m\n\u001b[0m\u001b[0;32m   4046\u001b[0m \u001b[1;33m\u001b[0m\u001b[0m\n\u001b[0;32m   4047\u001b[0m         \u001b[1;32mif\u001b[0m \u001b[0mlen\u001b[0m\u001b[1;33m(\u001b[0m\u001b[0mmapped\u001b[0m\u001b[1;33m)\u001b[0m \u001b[1;32mand\u001b[0m \u001b[0misinstance\u001b[0m\u001b[1;33m(\u001b[0m\u001b[0mmapped\u001b[0m\u001b[1;33m[\u001b[0m\u001b[1;36m0\u001b[0m\u001b[1;33m]\u001b[0m\u001b[1;33m,\u001b[0m \u001b[0mSeries\u001b[0m\u001b[1;33m)\u001b[0m\u001b[1;33m:\u001b[0m\u001b[1;33m\u001b[0m\u001b[0m\n",
      "\u001b[1;32mpandas/_libs/lib.pyx\u001b[0m in \u001b[0;36mpandas._libs.lib.map_infer\u001b[1;34m()\u001b[0m\n",
      "\u001b[1;32mC:\\Program Files\\Python35\\lib\\ast.py\u001b[0m in \u001b[0;36mliteral_eval\u001b[1;34m(node_or_string)\u001b[0m\n\u001b[0;32m     82\u001b[0m                 \u001b[1;32mreturn\u001b[0m \u001b[0mleft\u001b[0m \u001b[1;33m-\u001b[0m \u001b[0mright\u001b[0m\u001b[1;33m\u001b[0m\u001b[0m\n\u001b[0;32m     83\u001b[0m         \u001b[1;32mraise\u001b[0m \u001b[0mValueError\u001b[0m\u001b[1;33m(\u001b[0m\u001b[1;34m'malformed node or string: '\u001b[0m \u001b[1;33m+\u001b[0m \u001b[0mrepr\u001b[0m\u001b[1;33m(\u001b[0m\u001b[0mnode\u001b[0m\u001b[1;33m)\u001b[0m\u001b[1;33m)\u001b[0m\u001b[1;33m\u001b[0m\u001b[0m\n\u001b[1;32m---> 84\u001b[1;33m     \u001b[1;32mreturn\u001b[0m \u001b[0m_convert\u001b[0m\u001b[1;33m(\u001b[0m\u001b[0mnode_or_string\u001b[0m\u001b[1;33m)\u001b[0m\u001b[1;33m\u001b[0m\u001b[0m\n\u001b[0m\u001b[0;32m     85\u001b[0m \u001b[1;33m\u001b[0m\u001b[0m\n\u001b[0;32m     86\u001b[0m \u001b[1;33m\u001b[0m\u001b[0m\n",
      "\u001b[1;32mC:\\Program Files\\Python35\\lib\\ast.py\u001b[0m in \u001b[0;36m_convert\u001b[1;34m(node)\u001b[0m\n\u001b[0;32m     81\u001b[0m             \u001b[1;32melse\u001b[0m\u001b[1;33m:\u001b[0m\u001b[1;33m\u001b[0m\u001b[0m\n\u001b[0;32m     82\u001b[0m                 \u001b[1;32mreturn\u001b[0m \u001b[0mleft\u001b[0m \u001b[1;33m-\u001b[0m \u001b[0mright\u001b[0m\u001b[1;33m\u001b[0m\u001b[0m\n\u001b[1;32m---> 83\u001b[1;33m         \u001b[1;32mraise\u001b[0m \u001b[0mValueError\u001b[0m\u001b[1;33m(\u001b[0m\u001b[1;34m'malformed node or string: '\u001b[0m \u001b[1;33m+\u001b[0m \u001b[0mrepr\u001b[0m\u001b[1;33m(\u001b[0m\u001b[0mnode\u001b[0m\u001b[1;33m)\u001b[0m\u001b[1;33m)\u001b[0m\u001b[1;33m\u001b[0m\u001b[0m\n\u001b[0m\u001b[0;32m     84\u001b[0m     \u001b[1;32mreturn\u001b[0m \u001b[0m_convert\u001b[0m\u001b[1;33m(\u001b[0m\u001b[0mnode_or_string\u001b[0m\u001b[1;33m)\u001b[0m\u001b[1;33m\u001b[0m\u001b[0m\n\u001b[0;32m     85\u001b[0m \u001b[1;33m\u001b[0m\u001b[0m\n",
      "\u001b[1;31mValueError\u001b[0m: malformed node or string: <_ast.Name object at 0x000001FC8452A160>"
     ]
    }
   ],
   "source": [
    "#literal_eval() 함수를 사용하면 이 문자열을 문자열이 의미하는 list[dict1, dict2] 객체로 만들 수 있다\n",
    "from ast import literal_eval\n",
    "problem_df['분류'] = problem_df['분류'].apply(literal_eval) #genres 칼럼은 문자열이 아닌 실제 리스트 내부에 여러 장르 딕셔너리로 구성된 객체들을 가진다\n",
    "problem_df['난이도'] = problem_df['난이도'].apply(literal_eval)\n"
   ]
  },
  {
   "cell_type": "code",
   "execution_count": 12,
   "metadata": {
    "tags": []
   },
   "outputs": [
    {
     "name": "stdout",
     "output_type": "stream",
     "text": [
      "(18202, 151)\n"
     ]
    }
   ],
   "source": [
    "from sklearn.feature_extraction.text import CountVectorizer\n",
    "\n",
    "#CountVectorizer를 적용하기 위해 공백문자로 word 단위가 구분되는 문자열로 변환\n",
    "count_vect  = CountVectorizer(min_df = 0, ngram_range=(1,2))\n",
    "genre_mat = count_vect.fit_transform(problem_df['분류'])\n",
    "print(genre_mat.shape)"
   ]
  },
  {
   "cell_type": "code",
   "execution_count": 15,
   "metadata": {
    "tags": []
   },
   "outputs": [
    {
     "name": "stdout",
     "output_type": "stream",
     "text": [
      "(18202, 18202)\n",
      "[[1. 1. 1. ... 0. 0. 0.]\n",
      " [1. 1. 1. ... 0. 0. 0.]\n",
      " [1. 1. 1. ... 0. 0. 0.]\n",
      " ...\n",
      " [0. 0. 0. ... 1. 1. 1.]\n",
      " [0. 0. 0. ... 1. 1. 1.]\n",
      " [0. 0. 0. ... 1. 1. 1.]]\n"
     ]
    }
   ],
   "source": [
    "from sklearn.metrics.pairwise import cosine_similarity\n",
    "\n",
    "genre_sim = cosine_similarity(genre_mat, genre_mat)\n",
    "print(genre_sim.shape)\n",
    "print(genre_sim)"
   ]
  },
  {
   "cell_type": "code",
   "execution_count": 16,
   "metadata": {
    "tags": []
   },
   "outputs": [
    {
     "name": "stdout",
     "output_type": "stream",
     "text": [
      "[[    0  1142  1140 ... 12126 12125  9100]]\n"
     ]
    }
   ],
   "source": [
    "genre_sim_sorted_ind = genre_sim.argsort()[:,::-1]\n",
    "print(genre_sim_sorted_ind[:1])\n"
   ]
  },
  {
   "cell_type": "code",
   "execution_count": 17,
   "metadata": {},
   "outputs": [],
   "source": [
    "#장르 유사도에 따라 영화를 추천하는 함수\n",
    "#함수명 : find_sim_movie()\n",
    "#movies_df DataFrame : 기반 데이터\n",
    "#genre_sim_sorted_ind : 레코드별 장르 코사인 유사도 인덱스\n",
    "#DataFrame : 고객이 선정한 추천 기준이 되는 영화제목, 추천할 영화 건수를 입력하면 추천 영화 정보를 가짐\n",
    "def find_sim_problem(df, sorted_ind, title_name, top_n = 10):\n",
    "    \n",
    "    title_problem = df[df['문제번호']== int(title_name)]\n",
    "    \n",
    "    title_index = title_problem.index.values\n",
    "    similar_indexes = sorted_ind[title_index,:(top_n)]\n",
    "    \n",
    "    similar_indexes = similar_indexes.reshape(-1)\n",
    "    \n",
    "    return df.iloc[similar_indexes]"
   ]
  },
  {
   "cell_type": "code",
   "execution_count": 99,
   "metadata": {
    "tags": []
   },
   "outputs": [
    {
     "data": {
      "text/html": [
       "<div>\n",
       "<style scoped>\n",
       "    .dataframe tbody tr th:only-of-type {\n",
       "        vertical-align: middle;\n",
       "    }\n",
       "\n",
       "    .dataframe tbody tr th {\n",
       "        vertical-align: top;\n",
       "    }\n",
       "\n",
       "    .dataframe thead th {\n",
       "        text-align: right;\n",
       "    }\n",
       "</style>\n",
       "<table border=\"1\" class=\"dataframe\">\n",
       "  <thead>\n",
       "    <tr style=\"text-align: right;\">\n",
       "      <th></th>\n",
       "      <th>문제번호</th>\n",
       "      <th>평균시도</th>\n",
       "      <th>해결</th>\n",
       "      <th>난이도</th>\n",
       "      <th>분류</th>\n",
       "    </tr>\n",
       "  </thead>\n",
       "  <tbody>\n",
       "    <tr>\n",
       "      <th>0</th>\n",
       "      <td>1000</td>\n",
       "      <td>2.26</td>\n",
       "      <td>98776</td>\n",
       "      <td>Bronze V</td>\n",
       "      <td>수학</td>\n",
       "    </tr>\n",
       "    <tr>\n",
       "      <th>1142</th>\n",
       "      <td>1193</td>\n",
       "      <td>1.88</td>\n",
       "      <td>14902</td>\n",
       "      <td>Bronze II</td>\n",
       "      <td>수학</td>\n",
       "    </tr>\n",
       "    <tr>\n",
       "      <th>1140</th>\n",
       "      <td>1187</td>\n",
       "      <td>2.32</td>\n",
       "      <td>34</td>\n",
       "      <td>Diamond V</td>\n",
       "      <td>수학</td>\n",
       "    </tr>\n",
       "    <tr>\n",
       "      <th>1139</th>\n",
       "      <td>1183</td>\n",
       "      <td>2.21</td>\n",
       "      <td>43</td>\n",
       "      <td>Silver V</td>\n",
       "      <td>수학</td>\n",
       "    </tr>\n",
       "    <tr>\n",
       "      <th>1138</th>\n",
       "      <td>1179</td>\n",
       "      <td>2.84</td>\n",
       "      <td>85</td>\n",
       "      <td>Gold III</td>\n",
       "      <td>수학</td>\n",
       "    </tr>\n",
       "    <tr>\n",
       "      <th>...</th>\n",
       "      <td>...</td>\n",
       "      <td>...</td>\n",
       "      <td>...</td>\n",
       "      <td>...</td>\n",
       "      <td>...</td>\n",
       "    </tr>\n",
       "    <tr>\n",
       "      <th>12584</th>\n",
       "      <td>5533</td>\n",
       "      <td>1.39</td>\n",
       "      <td>1263</td>\n",
       "      <td>Bronze I</td>\n",
       "      <td>사칙연산</td>\n",
       "    </tr>\n",
       "    <tr>\n",
       "      <th>12583</th>\n",
       "      <td>5532</td>\n",
       "      <td>1.56</td>\n",
       "      <td>3586</td>\n",
       "      <td>Bronze IV</td>\n",
       "      <td>사칙연산</td>\n",
       "    </tr>\n",
       "    <tr>\n",
       "      <th>12582</th>\n",
       "      <td>5522</td>\n",
       "      <td>1.12</td>\n",
       "      <td>2621</td>\n",
       "      <td>Bronze V</td>\n",
       "      <td>사칙연산</td>\n",
       "    </tr>\n",
       "    <tr>\n",
       "      <th>12581</th>\n",
       "      <td>5361</td>\n",
       "      <td>1.52</td>\n",
       "      <td>1583</td>\n",
       "      <td>Bronze III</td>\n",
       "      <td>사칙연산</td>\n",
       "    </tr>\n",
       "    <tr>\n",
       "      <th>12580</th>\n",
       "      <td>5355</td>\n",
       "      <td>1.41</td>\n",
       "      <td>1416</td>\n",
       "      <td>Bronze II</td>\n",
       "      <td>사칙연산</td>\n",
       "    </tr>\n",
       "  </tbody>\n",
       "</table>\n",
       "<p>1320 rows × 5 columns</p>\n",
       "</div>"
      ],
      "text/plain": [
       "       문제번호  평균시도     해결         난이도    분류\n",
       "0      1000  2.26  98776    Bronze V    수학\n",
       "1142   1193  1.88  14902   Bronze II    수학\n",
       "1140   1187  2.32     34   Diamond V    수학\n",
       "1139   1183  2.21     43    Silver V    수학\n",
       "1138   1179  2.84     85    Gold III    수학\n",
       "...     ...   ...    ...         ...   ...\n",
       "12584  5533  1.39   1263    Bronze I  사칙연산\n",
       "12583  5532  1.56   3586   Bronze IV  사칙연산\n",
       "12582  5522  1.12   2621    Bronze V  사칙연산\n",
       "12581  5361  1.52   1583  Bronze III  사칙연산\n",
       "12580  5355  1.41   1416   Bronze II  사칙연산\n",
       "\n",
       "[1320 rows x 5 columns]"
      ]
     },
     "execution_count": 99,
     "metadata": {},
     "output_type": "execute_result"
    }
   ],
   "source": [
    "similar_movies = find_sim_problem(problem_df, genre_sim_sorted_ind,target_problem, 40)\n",
    "similar_movies[['문제번호','평균시도','해결','난이도','분류']]"
   ]
  },
  {
   "cell_type": "code",
   "execution_count": 18,
   "metadata": {},
   "outputs": [
    {
     "data": {
      "text/html": [
       "<div>\n",
       "<style scoped>\n",
       "    .dataframe tbody tr th:only-of-type {\n",
       "        vertical-align: middle;\n",
       "    }\n",
       "\n",
       "    .dataframe tbody tr th {\n",
       "        vertical-align: top;\n",
       "    }\n",
       "\n",
       "    .dataframe thead th {\n",
       "        text-align: right;\n",
       "    }\n",
       "</style>\n",
       "<table border=\"1\" class=\"dataframe\">\n",
       "  <thead>\n",
       "    <tr style=\"text-align: right;\">\n",
       "      <th></th>\n",
       "      <th>문제번호</th>\n",
       "      <th>난이도</th>\n",
       "      <th>평균시도</th>\n",
       "    </tr>\n",
       "  </thead>\n",
       "  <tbody>\n",
       "    <tr>\n",
       "      <th>15157</th>\n",
       "      <td>16371</td>\n",
       "      <td>Diamond V</td>\n",
       "      <td>1.0</td>\n",
       "    </tr>\n",
       "    <tr>\n",
       "      <th>17750</th>\n",
       "      <td>18350</td>\n",
       "      <td>Diamond I</td>\n",
       "      <td>1.0</td>\n",
       "    </tr>\n",
       "    <tr>\n",
       "      <th>12830</th>\n",
       "      <td>3858</td>\n",
       "      <td>Platinum I</td>\n",
       "      <td>1.0</td>\n",
       "    </tr>\n",
       "    <tr>\n",
       "      <th>17748</th>\n",
       "      <td>18163</td>\n",
       "      <td>Ruby II</td>\n",
       "      <td>1.0</td>\n",
       "    </tr>\n",
       "    <tr>\n",
       "      <th>17747</th>\n",
       "      <td>17879</td>\n",
       "      <td>Platinum II</td>\n",
       "      <td>1.0</td>\n",
       "    </tr>\n",
       "    <tr>\n",
       "      <th>16392</th>\n",
       "      <td>19327</td>\n",
       "      <td>Diamond IV</td>\n",
       "      <td>1.0</td>\n",
       "    </tr>\n",
       "    <tr>\n",
       "      <th>13547</th>\n",
       "      <td>6752</td>\n",
       "      <td>Silver V</td>\n",
       "      <td>1.0</td>\n",
       "    </tr>\n",
       "    <tr>\n",
       "      <th>12832</th>\n",
       "      <td>5041</td>\n",
       "      <td>Platinum II</td>\n",
       "      <td>1.0</td>\n",
       "    </tr>\n",
       "    <tr>\n",
       "      <th>16109</th>\n",
       "      <td>2214</td>\n",
       "      <td>Gold III</td>\n",
       "      <td>1.0</td>\n",
       "    </tr>\n",
       "    <tr>\n",
       "      <th>14659</th>\n",
       "      <td>11373</td>\n",
       "      <td>Platinum III</td>\n",
       "      <td>1.0</td>\n",
       "    </tr>\n",
       "  </tbody>\n",
       "</table>\n",
       "</div>"
      ],
      "text/plain": [
       "        문제번호           난이도  평균시도\n",
       "15157  16371     Diamond V   1.0\n",
       "17750  18350     Diamond I   1.0\n",
       "12830   3858    Platinum I   1.0\n",
       "17748  18163       Ruby II   1.0\n",
       "17747  17879   Platinum II   1.0\n",
       "16392  19327    Diamond IV   1.0\n",
       "13547   6752      Silver V   1.0\n",
       "12832   5041   Platinum II   1.0\n",
       "16109   2214      Gold III   1.0\n",
       "14659  11373  Platinum III   1.0"
      ]
     },
     "execution_count": 18,
     "metadata": {},
     "output_type": "execute_result"
    }
   ],
   "source": [
    "problem_df[['문제번호','난이도','평균시도']].sort_values('평균시도',ascending=True)[:10]\n",
    "\n"
   ]
  },
  {
   "cell_type": "code",
   "execution_count": 59,
   "metadata": {
    "tags": []
   },
   "outputs": [
    {
     "name": "stdout",
     "output_type": "stream",
     "text": [
      "Bronze\n"
     ]
    },
    {
     "ename": "AttributeError",
     "evalue": "'Series' object has no attribute 'contains'",
     "output_type": "error",
     "traceback": [
      "\u001b[0;31m---------------------------------------------------------------------------\u001b[0m",
      "\u001b[0;31mAttributeError\u001b[0m                            Traceback (most recent call last)",
      "\u001b[0;32m<ipython-input-59-1070dab4e5af>\u001b[0m in \u001b[0;36m<module>\u001b[0;34m\u001b[0m\n\u001b[1;32m      7\u001b[0m     \u001b[0mdf\u001b[0m\u001b[0;34m[\u001b[0m\u001b[0;34m'난이도 정제'\u001b[0m\u001b[0;34m]\u001b[0m \u001b[0;34m=\u001b[0m \u001b[0mdf\u001b[0m\u001b[0;34m[\u001b[0m\u001b[0;34m'난이도'\u001b[0m\u001b[0;34m]\u001b[0m\u001b[0;34m.\u001b[0m\u001b[0mstr\u001b[0m\u001b[0;34m.\u001b[0m\u001b[0msplit\u001b[0m\u001b[0;34m(\u001b[0m\u001b[0;34m' '\u001b[0m\u001b[0;34m)\u001b[0m\u001b[0;34m\u001b[0m\u001b[0;34m\u001b[0m\u001b[0m\n\u001b[1;32m      8\u001b[0m     \u001b[0mprint\u001b[0m\u001b[0;34m(\u001b[0m\u001b[0mdf\u001b[0m\u001b[0;34m[\u001b[0m\u001b[0;34m'난이도 정제'\u001b[0m\u001b[0;34m]\u001b[0m\u001b[0;34m.\u001b[0m\u001b[0mcontains\u001b[0m\u001b[0;34m(\u001b[0m\u001b[0;34m'Bronze'\u001b[0m\u001b[0;34m)\u001b[0m\u001b[0;34m)\u001b[0m\u001b[0;34m\u001b[0m\u001b[0;34m\u001b[0m\u001b[0m\n\u001b[0;32m----> 9\u001b[0;31m \u001b[0mlevel_set\u001b[0m\u001b[0;34m(\u001b[0m\u001b[0mproblem_df\u001b[0m\u001b[0;34m,\u001b[0m\u001b[0mtarget_problem\u001b[0m\u001b[0;34m)\u001b[0m\u001b[0;34m\u001b[0m\u001b[0;34m\u001b[0m\u001b[0m\n\u001b[0m\u001b[1;32m     10\u001b[0m \u001b[0mprint\u001b[0m\u001b[0;34m(\u001b[0m\u001b[0mreturn_df\u001b[0m\u001b[0;34m)\u001b[0m\u001b[0;34m\u001b[0m\u001b[0;34m\u001b[0m\u001b[0m\n",
      "\u001b[0;32m<ipython-input-59-1070dab4e5af>\u001b[0m in \u001b[0;36mlevel_set\u001b[0;34m(df, target_problem)\u001b[0m\n\u001b[1;32m      6\u001b[0m     \u001b[0mlevel\u001b[0m \u001b[0;34m=\u001b[0m \u001b[0mdf\u001b[0m\u001b[0;34m.\u001b[0m\u001b[0mloc\u001b[0m\u001b[0;34m[\u001b[0m\u001b[0mlevel_idx\u001b[0m\u001b[0;34m[\u001b[0m\u001b[0;36m0\u001b[0m\u001b[0;34m]\u001b[0m\u001b[0;34m]\u001b[0m\u001b[0;34m[\u001b[0m\u001b[0;34m'난이도'\u001b[0m\u001b[0;34m]\u001b[0m\u001b[0;34m.\u001b[0m\u001b[0msplit\u001b[0m\u001b[0;34m(\u001b[0m\u001b[0;34m' '\u001b[0m\u001b[0;34m)\u001b[0m\u001b[0;34m[\u001b[0m\u001b[0;36m0\u001b[0m\u001b[0;34m]\u001b[0m\u001b[0;34m\u001b[0m\u001b[0;34m\u001b[0m\u001b[0m\n\u001b[1;32m      7\u001b[0m     \u001b[0mdf\u001b[0m\u001b[0;34m[\u001b[0m\u001b[0;34m'난이도 정제'\u001b[0m\u001b[0;34m]\u001b[0m \u001b[0;34m=\u001b[0m \u001b[0mdf\u001b[0m\u001b[0;34m[\u001b[0m\u001b[0;34m'난이도'\u001b[0m\u001b[0;34m]\u001b[0m\u001b[0;34m.\u001b[0m\u001b[0mstr\u001b[0m\u001b[0;34m.\u001b[0m\u001b[0msplit\u001b[0m\u001b[0;34m(\u001b[0m\u001b[0;34m' '\u001b[0m\u001b[0;34m)\u001b[0m\u001b[0;34m\u001b[0m\u001b[0;34m\u001b[0m\u001b[0m\n\u001b[0;32m----> 8\u001b[0;31m     \u001b[0mprint\u001b[0m\u001b[0;34m(\u001b[0m\u001b[0mdf\u001b[0m\u001b[0;34m[\u001b[0m\u001b[0;34m'난이도 정제'\u001b[0m\u001b[0;34m]\u001b[0m\u001b[0;34m.\u001b[0m\u001b[0mcontains\u001b[0m\u001b[0;34m(\u001b[0m\u001b[0;34m'Bronze'\u001b[0m\u001b[0;34m)\u001b[0m\u001b[0;34m)\u001b[0m\u001b[0;34m\u001b[0m\u001b[0;34m\u001b[0m\u001b[0m\n\u001b[0m\u001b[1;32m      9\u001b[0m \u001b[0mlevel_set\u001b[0m\u001b[0;34m(\u001b[0m\u001b[0mproblem_df\u001b[0m\u001b[0;34m,\u001b[0m\u001b[0mtarget_problem\u001b[0m\u001b[0;34m)\u001b[0m\u001b[0;34m\u001b[0m\u001b[0;34m\u001b[0m\u001b[0m\n\u001b[1;32m     10\u001b[0m \u001b[0mprint\u001b[0m\u001b[0;34m(\u001b[0m\u001b[0mreturn_df\u001b[0m\u001b[0;34m)\u001b[0m\u001b[0;34m\u001b[0m\u001b[0;34m\u001b[0m\u001b[0m\n",
      "\u001b[0;32m~/opt/anaconda3/lib/python3.7/site-packages/pandas/core/generic.py\u001b[0m in \u001b[0;36m__getattr__\u001b[0;34m(self, name)\u001b[0m\n\u001b[1;32m   5272\u001b[0m             \u001b[0;32mif\u001b[0m \u001b[0mself\u001b[0m\u001b[0;34m.\u001b[0m\u001b[0m_info_axis\u001b[0m\u001b[0;34m.\u001b[0m\u001b[0m_can_hold_identifiers_and_holds_name\u001b[0m\u001b[0;34m(\u001b[0m\u001b[0mname\u001b[0m\u001b[0;34m)\u001b[0m\u001b[0;34m:\u001b[0m\u001b[0;34m\u001b[0m\u001b[0;34m\u001b[0m\u001b[0m\n\u001b[1;32m   5273\u001b[0m                 \u001b[0;32mreturn\u001b[0m \u001b[0mself\u001b[0m\u001b[0;34m[\u001b[0m\u001b[0mname\u001b[0m\u001b[0;34m]\u001b[0m\u001b[0;34m\u001b[0m\u001b[0;34m\u001b[0m\u001b[0m\n\u001b[0;32m-> 5274\u001b[0;31m             \u001b[0;32mreturn\u001b[0m \u001b[0mobject\u001b[0m\u001b[0;34m.\u001b[0m\u001b[0m__getattribute__\u001b[0m\u001b[0;34m(\u001b[0m\u001b[0mself\u001b[0m\u001b[0;34m,\u001b[0m \u001b[0mname\u001b[0m\u001b[0;34m)\u001b[0m\u001b[0;34m\u001b[0m\u001b[0;34m\u001b[0m\u001b[0m\n\u001b[0m\u001b[1;32m   5275\u001b[0m \u001b[0;34m\u001b[0m\u001b[0m\n\u001b[1;32m   5276\u001b[0m     \u001b[0;32mdef\u001b[0m \u001b[0m__setattr__\u001b[0m\u001b[0;34m(\u001b[0m\u001b[0mself\u001b[0m\u001b[0;34m,\u001b[0m \u001b[0mname\u001b[0m\u001b[0;34m:\u001b[0m \u001b[0mstr\u001b[0m\u001b[0;34m,\u001b[0m \u001b[0mvalue\u001b[0m\u001b[0;34m)\u001b[0m \u001b[0;34m->\u001b[0m \u001b[0;32mNone\u001b[0m\u001b[0;34m:\u001b[0m\u001b[0;34m\u001b[0m\u001b[0;34m\u001b[0m\u001b[0m\n",
      "\u001b[0;31mAttributeError\u001b[0m: 'Series' object has no attribute 'contains'"
     ]
    }
   ],
   "source": [
    "#난이도를 정제하여 난이도 수준을 맞춤\n",
    "level_array = ['Bronze','Silver','Gold','Platium','Diamond','Ruby']\n",
    "print(level_array[0]) \n",
    "def level_set(df,target_problem):\n",
    "    level_idx = df.index[df['문제번호']==int(target_problem)]\n",
    "    level = df.loc[level_idx[0]]['난이도'].split(' ')[0]\n",
    "    df['난이도 정제'] = df['난이도'].str.split(' ')\n",
    "    print(df['난이도 정제'].contains('Bronze'))\n",
    "level_set(problem_df,target_problem)\n",
    "print(return_df)"
   ]
  },
  {
   "cell_type": "code",
   "execution_count": 20,
   "metadata": {
    "tags": []
   },
   "outputs": [
    {
     "name": "stdout",
     "output_type": "stream",
     "text": [
      "C:  3.205 m:  229.0\n"
     ]
    }
   ],
   "source": [
    "C = problem_df['평균시도'].mean()\n",
    "m = problem_df['해결'].quantile(0.6)\n",
    "print('C: ',round(C,3),'m: ',round(m,3))"
   ]
  },
  {
   "cell_type": "code",
   "execution_count": 24,
   "metadata": {},
   "outputs": [
    {
     "name": "stdout",
     "output_type": "stream",
     "text": [
      "   문제번호                                    링크       난이도     제목  분류     해결  \\\n",
      "0  1000  https://www.acmicpc.net/problem/1000  Bronze V    A+B  수학  98776   \n",
      "1  1001  https://www.acmicpc.net/problem/1001  Bronze V    A-B  수학  81082   \n",
      "2  1007  https://www.acmicpc.net/problem/1007   Gold II  벡터 매칭  수학    858   \n",
      "\n",
      "   평균시도  weighted_vote  \n",
      "0  2.26       5.451965  \n",
      "1  1.39       4.581664  \n",
      "2  2.72       4.676459  \n"
     ]
    }
   ],
   "source": [
    "#원래 점수에 \n",
    "percentile = 0.6\n",
    "m = problem_df['해결'].quantile(0.6)\n",
    "C = problem_df['평균시도'].mean()\n",
    "\n",
    "def weighted_vote_average(record):\n",
    "    v = record['해결']\n",
    "    R = record['평균시도']\n",
    "\n",
    "    return  (v/(v+m)) * R + (v/(v+m)) * C\n",
    "\n",
    "\n",
    "problem['weighted_vote'] = problem_df.apply(weighted_vote_average,axis=1)\n",
    "print(problem.head(3))"
   ]
  },
  {
   "cell_type": "code",
   "execution_count": 41,
   "metadata": {},
   "outputs": [
    {
     "data": {
      "text/html": [
       "<div>\n",
       "<style scoped>\n",
       "    .dataframe tbody tr th:only-of-type {\n",
       "        vertical-align: middle;\n",
       "    }\n",
       "\n",
       "    .dataframe tbody tr th {\n",
       "        vertical-align: top;\n",
       "    }\n",
       "\n",
       "    .dataframe thead th {\n",
       "        text-align: right;\n",
       "    }\n",
       "</style>\n",
       "<table border=\"1\" class=\"dataframe\">\n",
       "  <thead>\n",
       "    <tr style=\"text-align: right;\">\n",
       "      <th></th>\n",
       "      <th>문제번호</th>\n",
       "      <th>제목</th>\n",
       "      <th>난이도</th>\n",
       "      <th>평균시도</th>\n",
       "      <th>weighted_vote</th>\n",
       "      <th>해결</th>\n",
       "    </tr>\n",
       "  </thead>\n",
       "  <tbody>\n",
       "    <tr>\n",
       "      <th>17227</th>\n",
       "      <td>13705</td>\n",
       "      <td>Ax+Bsin(x)=C</td>\n",
       "      <td>Diamond IV</td>\n",
       "      <td>31.84</td>\n",
       "      <td>12.180746</td>\n",
       "      <td>122</td>\n",
       "    </tr>\n",
       "    <tr>\n",
       "      <th>14910</th>\n",
       "      <td>2261</td>\n",
       "      <td>가장 가까운 두 점</td>\n",
       "      <td>Platinum IV</td>\n",
       "      <td>6.59</td>\n",
       "      <td>8.598357</td>\n",
       "      <td>1646</td>\n",
       "    </tr>\n",
       "    <tr>\n",
       "      <th>12318</th>\n",
       "      <td>1600</td>\n",
       "      <td>말이 되고픈 원숭이</td>\n",
       "      <td>Gold V</td>\n",
       "      <td>5.70</td>\n",
       "      <td>8.178668</td>\n",
       "      <td>2580</td>\n",
       "    </tr>\n",
       "    <tr>\n",
       "      <th>11500</th>\n",
       "      <td>1002</td>\n",
       "      <td>터렛</td>\n",
       "      <td>Silver IV</td>\n",
       "      <td>4.98</td>\n",
       "      <td>8.043032</td>\n",
       "      <td>13010</td>\n",
       "    </tr>\n",
       "    <tr>\n",
       "      <th>10518</th>\n",
       "      <td>1654</td>\n",
       "      <td>랜선 자르기</td>\n",
       "      <td>Silver III</td>\n",
       "      <td>5.06</td>\n",
       "      <td>7.990116</td>\n",
       "      <td>6666</td>\n",
       "    </tr>\n",
       "    <tr>\n",
       "      <th>17524</th>\n",
       "      <td>1016</td>\n",
       "      <td>제곱 ㄴㄴ 수</td>\n",
       "      <td>Gold I</td>\n",
       "      <td>5.17</td>\n",
       "      <td>7.764040</td>\n",
       "      <td>2912</td>\n",
       "    </tr>\n",
       "    <tr>\n",
       "      <th>10594</th>\n",
       "      <td>3649</td>\n",
       "      <td>로봇 프로젝트</td>\n",
       "      <td>Gold IV</td>\n",
       "      <td>6.59</td>\n",
       "      <td>7.753691</td>\n",
       "      <td>870</td>\n",
       "    </tr>\n",
       "    <tr>\n",
       "      <th>17767</th>\n",
       "      <td>1005</td>\n",
       "      <td>ACM Craft</td>\n",
       "      <td>Gold III</td>\n",
       "      <td>4.88</td>\n",
       "      <td>7.675913</td>\n",
       "      <td>4301</td>\n",
       "    </tr>\n",
       "    <tr>\n",
       "      <th>13310</th>\n",
       "      <td>1325</td>\n",
       "      <td>효율적인 해킹</td>\n",
       "      <td>Silver II</td>\n",
       "      <td>4.80</td>\n",
       "      <td>7.381752</td>\n",
       "      <td>2714</td>\n",
       "    </tr>\n",
       "    <tr>\n",
       "      <th>9020</th>\n",
       "      <td>1107</td>\n",
       "      <td>리모컨</td>\n",
       "      <td>Gold V</td>\n",
       "      <td>4.49</td>\n",
       "      <td>7.379161</td>\n",
       "      <td>5357</td>\n",
       "    </tr>\n",
       "  </tbody>\n",
       "</table>\n",
       "</div>"
      ],
      "text/plain": [
       "        문제번호            제목          난이도   평균시도  weighted_vote     해결\n",
       "17227  13705  Ax+Bsin(x)=C   Diamond IV  31.84      12.180746    122\n",
       "14910   2261    가장 가까운 두 점  Platinum IV   6.59       8.598357   1646\n",
       "12318   1600    말이 되고픈 원숭이       Gold V   5.70       8.178668   2580\n",
       "11500   1002            터렛    Silver IV   4.98       8.043032  13010\n",
       "10518   1654        랜선 자르기   Silver III   5.06       7.990116   6666\n",
       "17524   1016       제곱 ㄴㄴ 수       Gold I   5.17       7.764040   2912\n",
       "10594   3649       로봇 프로젝트      Gold IV   6.59       7.753691    870\n",
       "17767   1005     ACM Craft     Gold III   4.88       7.675913   4301\n",
       "13310   1325       효율적인 해킹    Silver II   4.80       7.381752   2714\n",
       "9020    1107           리모컨       Gold V   4.49       7.379161   5357"
      ]
     },
     "execution_count": 41,
     "metadata": {},
     "output_type": "execute_result"
    }
   ],
   "source": [
    "problem = problem.drop_duplicates(['문제번호'],keep='last')\n",
    "#새로 부여된 weighted_vote 평점이 높은 순으로 상위 10개 추출\n",
    "problem[['문제번호','제목','난이도','평균시도','weighted_vote','해결']].sort_values(\n",
    "    'weighted_vote',ascending=False)[:10] "
   ]
  },
  {
   "cell_type": "code",
   "execution_count": 53,
   "metadata": {},
   "outputs": [
    {
     "name": "stdout",
     "output_type": "stream",
     "text": [
      "       문제번호                                    링크           난이도  \\\n",
      "1605   1011  https://www.acmicpc.net/problem/1011      Silver I   \n",
      "1608   1019  https://www.acmicpc.net/problem/1019        Gold I   \n",
      "1609   1024  https://www.acmicpc.net/problem/1024    Silver III   \n",
      "1614   1049  https://www.acmicpc.net/problem/1049     Silver IV   \n",
      "1616   1059  https://www.acmicpc.net/problem/1059      Silver V   \n",
      "...     ...                                   ...           ...   \n",
      "18197  2549  https://www.acmicpc.net/problem/2549        Gold I   \n",
      "18198  2794  https://www.acmicpc.net/problem/2794    Platinum I   \n",
      "18199  3110  https://www.acmicpc.net/problem/3110      Gold III   \n",
      "18200  3148  https://www.acmicpc.net/problem/3148  Platinum III   \n",
      "18201  4160  https://www.acmicpc.net/problem/4160    Platinum V   \n",
      "\n",
      "                                 제목        분류    해결  평균시도  weighted_vote  \n",
      "1605   Fly me to the Alpha Centauri        수학  8980  3.50       6.537881  \n",
      "1608                          책 페이지        수학  1437  2.76       5.144740  \n",
      "1609                          수열의 합        수학  2084  3.94       6.437248  \n",
      "1614                            기타줄        수학  3455  3.20       6.006490  \n",
      "1616                             수2        수학   755  3.68       5.282395  \n",
      "...                             ...       ...   ...   ...            ...  \n",
      "18197                       루빅의 사각형  중간에서 만나기   234  3.18       3.226776  \n",
      "18198                            화성  중간에서 만나기    11  3.00       0.284378  \n",
      "18199                           부등식  중간에서 만나기    38  2.79       0.853165  \n",
      "18200                            빙고  중간에서 만나기     3  4.00       0.093163  \n",
      "18201                            이혼  중간에서 만나기     9  2.67       0.222149  \n",
      "\n",
      "[3698 rows x 8 columns]\n",
      "(3698, 8)\n",
      "[[12419 12565 12563 12562 12561 12560 12559 12558 12557 12556 12555 12554\n",
      "  12553 12552 12551 12550 12549 12548 12547 12546]]\n",
      "[12419 12565 12563 12562 12561 12560 12559 12558 12557 12556 12555 12554\n",
      " 12553 12552 12551 12550 12549 12548 12547 12546]\n"
     ]
    },
    {
     "ename": "TypeError",
     "evalue": "only size-1 arrays can be converted to Python scalars",
     "output_type": "error",
     "traceback": [
      "\u001b[0;31m---------------------------------------------------------------------------\u001b[0m",
      "\u001b[0;31mTypeError\u001b[0m                                 Traceback (most recent call last)",
      "\u001b[0;32m<ipython-input-53-06aaa63425e0>\u001b[0m in \u001b[0;36m<module>\u001b[0;34m\u001b[0m\n\u001b[1;32m     18\u001b[0m     \u001b[0;32mreturn\u001b[0m \u001b[0mdf\u001b[0m\u001b[0;34m.\u001b[0m\u001b[0miloc\u001b[0m\u001b[0;34m[\u001b[0m\u001b[0mdf\u001b[0m\u001b[0;34m[\u001b[0m\u001b[0;34m'문제번호'\u001b[0m\u001b[0;34m]\u001b[0m\u001b[0;34m==\u001b[0m \u001b[0mint\u001b[0m\u001b[0;34m(\u001b[0m\u001b[0msimilar_indexes\u001b[0m\u001b[0;34m)\u001b[0m\u001b[0;34m]\u001b[0m\u001b[0;34m.\u001b[0m\u001b[0msort_values\u001b[0m\u001b[0;34m(\u001b[0m\u001b[0;34m'weighted_vote'\u001b[0m\u001b[0;34m,\u001b[0m\u001b[0mascending\u001b[0m\u001b[0;34m=\u001b[0m\u001b[0;32mFalse\u001b[0m\u001b[0;34m)\u001b[0m\u001b[0;34m[\u001b[0m\u001b[0;34m:\u001b[0m\u001b[0mtop_n\u001b[0m\u001b[0;34m]\u001b[0m\u001b[0;34m\u001b[0m\u001b[0;34m\u001b[0m\u001b[0m\n\u001b[1;32m     19\u001b[0m \u001b[0;34m\u001b[0m\u001b[0m\n\u001b[0;32m---> 20\u001b[0;31m \u001b[0msimilar_problem\u001b[0m \u001b[0;34m=\u001b[0m \u001b[0mfind_sim_movie\u001b[0m\u001b[0;34m(\u001b[0m\u001b[0mproblem\u001b[0m\u001b[0;34m,\u001b[0m\u001b[0mgenre_sim_sorted_ind\u001b[0m\u001b[0;34m,\u001b[0m\u001b[0mtarget_problem\u001b[0m\u001b[0;34m,\u001b[0m\u001b[0;36m10\u001b[0m\u001b[0;34m)\u001b[0m\u001b[0;34m\u001b[0m\u001b[0;34m\u001b[0m\u001b[0m\n\u001b[0m\u001b[1;32m     21\u001b[0m \u001b[0msimilar_problem\u001b[0m\u001b[0;34m[\u001b[0m\u001b[0;34m[\u001b[0m\u001b[0;34m'문제번호'\u001b[0m\u001b[0;34m,\u001b[0m\u001b[0;34m'난이도'\u001b[0m\u001b[0;34m,\u001b[0m\u001b[0;34m'weighted_vote'\u001b[0m\u001b[0;34m]\u001b[0m\u001b[0;34m]\u001b[0m\u001b[0;34m\u001b[0m\u001b[0;34m\u001b[0m\u001b[0m\n",
      "\u001b[0;32m<ipython-input-53-06aaa63425e0>\u001b[0m in \u001b[0;36mfind_sim_movie\u001b[0;34m(df, sorted_ind, title_name, top_n)\u001b[0m\n\u001b[1;32m     16\u001b[0m     \u001b[0mprint\u001b[0m\u001b[0;34m(\u001b[0m\u001b[0msimilar_indexes\u001b[0m\u001b[0;34m)\u001b[0m\u001b[0;34m\u001b[0m\u001b[0;34m\u001b[0m\u001b[0m\n\u001b[1;32m     17\u001b[0m     \u001b[0;31m#top_n의 2배에 해당하는 후보군에서 weighted_vote가 높은 순으로 top_n만큼 추출\u001b[0m\u001b[0;34m\u001b[0m\u001b[0;34m\u001b[0m\u001b[0;34m\u001b[0m\u001b[0m\n\u001b[0;32m---> 18\u001b[0;31m     \u001b[0;32mreturn\u001b[0m \u001b[0mdf\u001b[0m\u001b[0;34m.\u001b[0m\u001b[0miloc\u001b[0m\u001b[0;34m[\u001b[0m\u001b[0mdf\u001b[0m\u001b[0;34m[\u001b[0m\u001b[0;34m'문제번호'\u001b[0m\u001b[0;34m]\u001b[0m\u001b[0;34m==\u001b[0m \u001b[0mint\u001b[0m\u001b[0;34m(\u001b[0m\u001b[0msimilar_indexes\u001b[0m\u001b[0;34m)\u001b[0m\u001b[0;34m]\u001b[0m\u001b[0;34m.\u001b[0m\u001b[0msort_values\u001b[0m\u001b[0;34m(\u001b[0m\u001b[0;34m'weighted_vote'\u001b[0m\u001b[0;34m,\u001b[0m\u001b[0mascending\u001b[0m\u001b[0;34m=\u001b[0m\u001b[0;32mFalse\u001b[0m\u001b[0;34m)\u001b[0m\u001b[0;34m[\u001b[0m\u001b[0;34m:\u001b[0m\u001b[0mtop_n\u001b[0m\u001b[0;34m]\u001b[0m\u001b[0;34m\u001b[0m\u001b[0;34m\u001b[0m\u001b[0m\n\u001b[0m\u001b[1;32m     19\u001b[0m \u001b[0;34m\u001b[0m\u001b[0m\n\u001b[1;32m     20\u001b[0m \u001b[0msimilar_problem\u001b[0m \u001b[0;34m=\u001b[0m \u001b[0mfind_sim_movie\u001b[0m\u001b[0;34m(\u001b[0m\u001b[0mproblem\u001b[0m\u001b[0;34m,\u001b[0m\u001b[0mgenre_sim_sorted_ind\u001b[0m\u001b[0;34m,\u001b[0m\u001b[0mtarget_problem\u001b[0m\u001b[0;34m,\u001b[0m\u001b[0;36m10\u001b[0m\u001b[0;34m)\u001b[0m\u001b[0;34m\u001b[0m\u001b[0;34m\u001b[0m\u001b[0m\n",
      "\u001b[0;31mTypeError\u001b[0m: only size-1 arrays can be converted to Python scalars"
     ]
    }
   ],
   "source": [
    "#이제 새롭게 정의된 평점 기준에 따라서 영화를 추천한다\n",
    "#장르 유사성이 높은 영화를 top_n의 2배수만큼 후보군으로 선정한 뒤에 weighted_vote 칼럼이 높은 순으로 top_n만큼 추출하는 방식으로\n",
    "#find_sim_movie()함수를 변경한다\n",
    "\n",
    "def find_sim_movie(df, sorted_ind, title_name, top_n =3):\n",
    "    title_problem = df[df['문제번호'] == int(title_name)]\n",
    "    title_index = title_problem.index.values\n",
    "    print(df)\n",
    "    #top_n의 2배에 해당하는 장르 유사성이 높은 인덱스 추출\n",
    "    similar_indexes = sorted_ind[title_index, :(top_n*2)]\n",
    "    similar_indexs = similar_indexes.reshape(-1)\n",
    "    print(df.shape)\n",
    "    print(similar_indexes)\n",
    "    #기준 영화 인덱스는 제외\n",
    "    similar_indexes = similar_indexes[similar_indexes!=title_index]\n",
    "    print(similar_indexes)\n",
    "    #top_n의 2배에 해당하는 후보군에서 weighted_vote가 높은 순으로 top_n만큼 추출\n",
    "    return df.iloc[df['문제번호']== (similar_indexes)].sort_values('weighted_vote',ascending=False)[:top_n]\n",
    "\n",
    "similar_problem = find_sim_movie(problem,genre_sim_sorted_ind,target_problem,10)\n",
    "similar_problem[['문제번호','난이도','weighted_vote']]"
   ]
  },
  {
   "cell_type": "code",
   "execution_count": null,
   "metadata": {},
   "outputs": [],
   "source": [
    "ç"
   ]
  }
 ],
 "metadata": {
  "kernelspec": {
   "display_name": "Python 3",
   "language": "python",
   "name": "python3"
  },
  "language_info": {
   "codemirror_mode": {
    "name": "ipython",
    "version": 3
   },
   "file_extension": ".py",
   "mimetype": "text/x-python",
   "name": "python",
   "nbconvert_exporter": "python",
   "pygments_lexer": "ipython3",
   "version": "3.7.6"
  }
 },
 "nbformat": 4,
 "nbformat_minor": 2
}
