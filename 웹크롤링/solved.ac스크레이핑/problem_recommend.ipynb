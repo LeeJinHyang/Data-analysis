{
 "cells": [
  {
   "cell_type": "code",
   "execution_count": 126,
   "metadata": {
    "tags": []
   },
   "outputs": [
    {
     "output_type": "stream",
     "name": "stdout",
     "text": "Requirement already up-to-date: pip in c:\\program files\\python35\\lib\\site-packages (20.2.3)\nRequirement already satisfied: pandas in c:\\program files\\python35\\lib\\site-packages (0.25.3)\nRequirement already satisfied: python-dateutil>=2.6.1 in c:\\users\\multicampus\\appdata\\roaming\\python\\python35\\site-packages (from pandas) (2.8.1)\nRequirement already satisfied: pytz>=2017.2 in c:\\program files\\python35\\lib\\site-packages (from pandas) (2020.1)\nRequirement already satisfied: numpy>=1.13.3 in c:\\program files\\python35\\lib\\site-packages (from pandas) (1.18.5)\nRequirement already satisfied: six>=1.5 in c:\\users\\multicampus\\appdata\\roaming\\python\\python35\\site-packages (from python-dateutil>=2.6.1->pandas) (1.15.0)\nRequirement already satisfied: numpy in c:\\program files\\python35\\lib\\site-packages (1.18.5)\n"
    }
   ],
   "source": [
    "!pip install --upgrade pip\n",
    "!pip install pandas\n",
    "!pip install numpy"
   ]
  },
  {
   "cell_type": "code",
   "execution_count": 127,
   "metadata": {},
   "outputs": [],
   "source": [
    "import pandas as pd\n",
    "import numpy as np\n",
    "import warnings;warnings.filterwarnings('ignore')"
   ]
  },
  {
   "cell_type": "code",
   "execution_count": 128,
   "metadata": {},
   "outputs": [],
   "source": [
    "problem = pd.read_csv('problem.csv')\n",
    "user = pd.read_csv('user.csv')\n",
    "target_problem = \"11938\"\n"
   ]
  },
  {
   "cell_type": "code",
   "execution_count": 129,
   "metadata": {
    "tags": []
   },
   "outputs": [
    {
     "output_type": "stream",
     "name": "stdout",
     "text": "Empty DataFrame\nColumns: [문제번호, 링크, 난이도, 제목, 분류, 해결, 평균시도]\nIndex: []\n"
    }
   ],
   "source": [
    "print(problem[problem['문제번호']==int(target_problem)])"
   ]
  },
  {
   "cell_type": "code",
   "execution_count": 130,
   "metadata": {
    "tags": []
   },
   "outputs": [
    {
     "output_type": "stream",
     "name": "stdout",
     "text": "문제번호                                     링크          난이도  \\\n0       1000   https://www.acmicpc.net/problem/1000     Bronze V   \n1       1001   https://www.acmicpc.net/problem/1001     Bronze V   \n2       1007   https://www.acmicpc.net/problem/1007      Gold II   \n3       1008   https://www.acmicpc.net/problem/1008    Bronze IV   \n4       1009   https://www.acmicpc.net/problem/1009   Bronze III   \n...      ...                                    ...          ...   \n19981  18588  https://www.acmicpc.net/problem/18588       Ruby V   \n19982  18890  https://www.acmicpc.net/problem/18890      Ruby IV   \n19983   1175   https://www.acmicpc.net/problem/1175       Gold I   \n19984   2549   https://www.acmicpc.net/problem/2549       Gold I   \n19985  10329  https://www.acmicpc.net/problem/10329  Platinum II   \n\n                     제목      분류     해결  평균시도  \n0                   A+B      수학  99511  2.26  \n1                   A-B      수학  81628  1.39  \n2                 벡터 매칭      수학    865  2.72  \n3                   A/B      수학  53539  3.00  \n4                  분산처리      수학   6627  3.82  \n...                 ...     ...    ...   ...  \n19981        Milk Candy   매트로이드      5  1.00  \n19982           Seollal   매트로이드      6  1.17  \n19983                배달  양방향 탐색    266  4.39  \n19984           루빅의 사각형  양방향 탐색    234  3.18  \n19985  Key to Knowledge  양방향 탐색     18  2.33  \n\n[19986 rows x 7 columns]\n"
    }
   ],
   "source": [
    "print(problem)"
   ]
  },
  {
   "cell_type": "code",
   "execution_count": 131,
   "metadata": {
    "tags": []
   },
   "outputs": [
    {
     "output_type": "stream",
     "name": "stdout",
     "text": "문제번호          난이도      분류     해결  평균시도\n0       1000     Bronze V      수학  99511  2.26\n1       1001     Bronze V      수학  81628  1.39\n2       1007      Gold II      수학    865  2.72\n3       1008    Bronze IV      수학  53539  3.00\n4       1009   Bronze III      수학   6627  3.82\n...      ...          ...     ...    ...   ...\n19981  18588       Ruby V   매트로이드      5  1.00\n19982  18890      Ruby IV   매트로이드      6  1.17\n19983   1175       Gold I  양방향 탐색    266  4.39\n19984   2549       Gold I  양방향 탐색    234  3.18\n19985  10329  Platinum II  양방향 탐색     18  2.33\n\n[19986 rows x 5 columns]\n"
    }
   ],
   "source": [
    "problem_df = problem[['문제번호','난이도','분류','해결','평균시도']]\n",
    "print(problem_df)"
   ]
  },
  {
   "cell_type": "code",
   "execution_count": 132,
   "metadata": {},
   "outputs": [
    {
     "output_type": "execute_result",
     "data": {
      "text/plain": "   분류       난이도\n0  수학  Bronze V",
      "text/html": "<div>\n<style scoped>\n    .dataframe tbody tr th:only-of-type {\n        vertical-align: middle;\n    }\n\n    .dataframe tbody tr th {\n        vertical-align: top;\n    }\n\n    .dataframe thead th {\n        text-align: right;\n    }\n</style>\n<table border=\"1\" class=\"dataframe\">\n  <thead>\n    <tr style=\"text-align: right;\">\n      <th></th>\n      <th>분류</th>\n      <th>난이도</th>\n    </tr>\n  </thead>\n  <tbody>\n    <tr>\n      <th>0</th>\n      <td>수학</td>\n      <td>Bronze V</td>\n    </tr>\n  </tbody>\n</table>\n</div>"
     },
     "metadata": {},
     "execution_count": 132
    }
   ],
   "source": [
    "pd.set_option('max_colwidth',100)\n",
    "#각각의 장르와 그 장르의 id를 추출해 낼 수 있다\n",
    "problem_df[['분류','난이도']][:1]"
   ]
  },
  {
   "cell_type": "code",
   "execution_count": 133,
   "metadata": {},
   "outputs": [
    {
     "output_type": "error",
     "ename": "ValueError",
     "evalue": "malformed node or string: <_ast.Name object at 0x000001BA010A58D0>",
     "traceback": [
      "\u001b[1;31m---------------------------------------------------------------------------\u001b[0m",
      "\u001b[1;31mValueError\u001b[0m                                Traceback (most recent call last)",
      "\u001b[1;32m<ipython-input-133-ad3c3e6a7768>\u001b[0m in \u001b[0;36m<module>\u001b[1;34m\u001b[0m\n\u001b[0;32m      1\u001b[0m \u001b[1;31m#literal_eval() 함수를 사용하면 이 문자열을 문자열이 의미하는 list[dict1, dict2] 객체로 만들 수 있다\u001b[0m\u001b[1;33m\u001b[0m\u001b[1;33m\u001b[0m\u001b[0m\n\u001b[0;32m      2\u001b[0m \u001b[1;32mfrom\u001b[0m \u001b[0mast\u001b[0m \u001b[1;32mimport\u001b[0m \u001b[0mliteral_eval\u001b[0m\u001b[1;33m\u001b[0m\u001b[0m\n\u001b[1;32m----> 3\u001b[1;33m \u001b[0mproblem_df\u001b[0m\u001b[1;33m[\u001b[0m\u001b[1;34m'분류'\u001b[0m\u001b[1;33m]\u001b[0m \u001b[1;33m=\u001b[0m \u001b[0mproblem_df\u001b[0m\u001b[1;33m[\u001b[0m\u001b[1;34m'분류'\u001b[0m\u001b[1;33m]\u001b[0m\u001b[1;33m.\u001b[0m\u001b[0mapply\u001b[0m\u001b[1;33m(\u001b[0m\u001b[0mliteral_eval\u001b[0m\u001b[1;33m)\u001b[0m \u001b[1;31m#genres 칼럼은 문자열이 아닌 실제 리스트 내부에 여러 장르 딕셔너리로 구성된 객체들을 가진다\u001b[0m\u001b[1;33m\u001b[0m\u001b[0m\n\u001b[0m\u001b[0;32m      4\u001b[0m \u001b[0mproblem_df\u001b[0m\u001b[1;33m[\u001b[0m\u001b[1;34m'난이도'\u001b[0m\u001b[1;33m]\u001b[0m \u001b[1;33m=\u001b[0m \u001b[0mproblem_df\u001b[0m\u001b[1;33m[\u001b[0m\u001b[1;34m'난이도'\u001b[0m\u001b[1;33m]\u001b[0m\u001b[1;33m.\u001b[0m\u001b[0mapply\u001b[0m\u001b[1;33m(\u001b[0m\u001b[0mliteral_eval\u001b[0m\u001b[1;33m)\u001b[0m\u001b[1;33m\u001b[0m\u001b[0m\n",
      "\u001b[1;32mC:\\Program Files\\Python35\\lib\\site-packages\\pandas\\core\\series.py\u001b[0m in \u001b[0;36mapply\u001b[1;34m(self, func, convert_dtype, args, **kwds)\u001b[0m\n\u001b[0;32m   4043\u001b[0m             \u001b[1;32melse\u001b[0m\u001b[1;33m:\u001b[0m\u001b[1;33m\u001b[0m\u001b[0m\n\u001b[0;32m   4044\u001b[0m                 \u001b[0mvalues\u001b[0m \u001b[1;33m=\u001b[0m \u001b[0mself\u001b[0m\u001b[1;33m.\u001b[0m\u001b[0mastype\u001b[0m\u001b[1;33m(\u001b[0m\u001b[0mobject\u001b[0m\u001b[1;33m)\u001b[0m\u001b[1;33m.\u001b[0m\u001b[0mvalues\u001b[0m\u001b[1;33m\u001b[0m\u001b[0m\n\u001b[1;32m-> 4045\u001b[1;33m                 \u001b[0mmapped\u001b[0m \u001b[1;33m=\u001b[0m \u001b[0mlib\u001b[0m\u001b[1;33m.\u001b[0m\u001b[0mmap_infer\u001b[0m\u001b[1;33m(\u001b[0m\u001b[0mvalues\u001b[0m\u001b[1;33m,\u001b[0m \u001b[0mf\u001b[0m\u001b[1;33m,\u001b[0m \u001b[0mconvert\u001b[0m\u001b[1;33m=\u001b[0m\u001b[0mconvert_dtype\u001b[0m\u001b[1;33m)\u001b[0m\u001b[1;33m\u001b[0m\u001b[0m\n\u001b[0m\u001b[0;32m   4046\u001b[0m \u001b[1;33m\u001b[0m\u001b[0m\n\u001b[0;32m   4047\u001b[0m         \u001b[1;32mif\u001b[0m \u001b[0mlen\u001b[0m\u001b[1;33m(\u001b[0m\u001b[0mmapped\u001b[0m\u001b[1;33m)\u001b[0m \u001b[1;32mand\u001b[0m \u001b[0misinstance\u001b[0m\u001b[1;33m(\u001b[0m\u001b[0mmapped\u001b[0m\u001b[1;33m[\u001b[0m\u001b[1;36m0\u001b[0m\u001b[1;33m]\u001b[0m\u001b[1;33m,\u001b[0m \u001b[0mSeries\u001b[0m\u001b[1;33m)\u001b[0m\u001b[1;33m:\u001b[0m\u001b[1;33m\u001b[0m\u001b[0m\n",
      "\u001b[1;32mpandas/_libs/lib.pyx\u001b[0m in \u001b[0;36mpandas._libs.lib.map_infer\u001b[1;34m()\u001b[0m\n",
      "\u001b[1;32mC:\\Program Files\\Python35\\lib\\ast.py\u001b[0m in \u001b[0;36mliteral_eval\u001b[1;34m(node_or_string)\u001b[0m\n\u001b[0;32m     82\u001b[0m                 \u001b[1;32mreturn\u001b[0m \u001b[0mleft\u001b[0m \u001b[1;33m-\u001b[0m \u001b[0mright\u001b[0m\u001b[1;33m\u001b[0m\u001b[0m\n\u001b[0;32m     83\u001b[0m         \u001b[1;32mraise\u001b[0m \u001b[0mValueError\u001b[0m\u001b[1;33m(\u001b[0m\u001b[1;34m'malformed node or string: '\u001b[0m \u001b[1;33m+\u001b[0m \u001b[0mrepr\u001b[0m\u001b[1;33m(\u001b[0m\u001b[0mnode\u001b[0m\u001b[1;33m)\u001b[0m\u001b[1;33m)\u001b[0m\u001b[1;33m\u001b[0m\u001b[0m\n\u001b[1;32m---> 84\u001b[1;33m     \u001b[1;32mreturn\u001b[0m \u001b[0m_convert\u001b[0m\u001b[1;33m(\u001b[0m\u001b[0mnode_or_string\u001b[0m\u001b[1;33m)\u001b[0m\u001b[1;33m\u001b[0m\u001b[0m\n\u001b[0m\u001b[0;32m     85\u001b[0m \u001b[1;33m\u001b[0m\u001b[0m\n\u001b[0;32m     86\u001b[0m \u001b[1;33m\u001b[0m\u001b[0m\n",
      "\u001b[1;32mC:\\Program Files\\Python35\\lib\\ast.py\u001b[0m in \u001b[0;36m_convert\u001b[1;34m(node)\u001b[0m\n\u001b[0;32m     81\u001b[0m             \u001b[1;32melse\u001b[0m\u001b[1;33m:\u001b[0m\u001b[1;33m\u001b[0m\u001b[0m\n\u001b[0;32m     82\u001b[0m                 \u001b[1;32mreturn\u001b[0m \u001b[0mleft\u001b[0m \u001b[1;33m-\u001b[0m \u001b[0mright\u001b[0m\u001b[1;33m\u001b[0m\u001b[0m\n\u001b[1;32m---> 83\u001b[1;33m         \u001b[1;32mraise\u001b[0m \u001b[0mValueError\u001b[0m\u001b[1;33m(\u001b[0m\u001b[1;34m'malformed node or string: '\u001b[0m \u001b[1;33m+\u001b[0m \u001b[0mrepr\u001b[0m\u001b[1;33m(\u001b[0m\u001b[0mnode\u001b[0m\u001b[1;33m)\u001b[0m\u001b[1;33m)\u001b[0m\u001b[1;33m\u001b[0m\u001b[0m\n\u001b[0m\u001b[0;32m     84\u001b[0m     \u001b[1;32mreturn\u001b[0m \u001b[0m_convert\u001b[0m\u001b[1;33m(\u001b[0m\u001b[0mnode_or_string\u001b[0m\u001b[1;33m)\u001b[0m\u001b[1;33m\u001b[0m\u001b[0m\n\u001b[0;32m     85\u001b[0m \u001b[1;33m\u001b[0m\u001b[0m\n",
      "\u001b[1;31mValueError\u001b[0m: malformed node or string: <_ast.Name object at 0x000001BA010A58D0>"
     ]
    }
   ],
   "source": [
    "#literal_eval() 함수를 사용하면 이 문자열을 문자열이 의미하는 list[dict1, dict2] 객체로 만들 수 있다\n",
    "from ast import literal_eval\n",
    "problem_df['분류'] = problem_df['분류'].apply(literal_eval) #genres 칼럼은 문자열이 아닌 실제 리스트 내부에 여러 장르 딕셔너리로 구성된 객체들을 가진다\n",
    "problem_df['난이도'] = problem_df['난이도'].apply(literal_eval)\n"
   ]
  },
  {
   "cell_type": "code",
   "execution_count": 134,
   "metadata": {
    "tags": []
   },
   "outputs": [
    {
     "output_type": "stream",
     "name": "stdout",
     "text": "(19986, 366)\n"
    }
   ],
   "source": [
    "from sklearn.feature_extraction.text import CountVectorizer\n",
    "\n",
    "#CountVectorizer를 적용하기 위해 공백문자로 word 단위가 구분되는 문자열로 변환\n",
    "count_vect  = CountVectorizer(min_df = 0, ngram_range=(1,2))\n",
    "genre_mat = count_vect.fit_transform(problem_df['분류'])\n",
    "print(genre_mat.shape)"
   ]
  },
  {
   "cell_type": "code",
   "execution_count": 135,
   "metadata": {
    "tags": []
   },
   "outputs": [
    {
     "output_type": "stream",
     "name": "stdout",
     "text": "(19986, 19986)\n[[1. 1. 1. ... 0. 0. 0.]\n [1. 1. 1. ... 0. 0. 0.]\n [1. 1. 1. ... 0. 0. 0.]\n ...\n [0. 0. 0. ... 1. 1. 1.]\n [0. 0. 0. ... 1. 1. 1.]\n [0. 0. 0. ... 1. 1. 1.]]\n"
    }
   ],
   "source": [
    "from sklearn.metrics.pairwise import cosine_similarity\n",
    "\n",
    "genre_sim = cosine_similarity(genre_mat, genre_mat)\n",
    "print(genre_sim.shape)\n",
    "print(genre_sim)"
   ]
  },
  {
   "cell_type": "code",
   "execution_count": 136,
   "metadata": {
    "tags": []
   },
   "outputs": [
    {
     "output_type": "stream",
     "name": "stdout",
     "text": "[[    0  1142  1140 ... 13326 13327  9992]]\n"
    }
   ],
   "source": [
    "genre_sim_sorted_ind = genre_sim.argsort()[:,::-1]\n",
    "print(genre_sim_sorted_ind[:1])\n"
   ]
  },
  {
   "cell_type": "code",
   "execution_count": 137,
   "metadata": {},
   "outputs": [],
   "source": [
    "#장르 유사도에 따라 영화를 추천하는 함수\n",
    "#함수명 : find_sim_movie()\n",
    "#movies_df DataFrame : 기반 데이터\n",
    "#genre_sim_sorted_ind : 레코드별 장르 코사인 유사도 인덱스\n",
    "#DataFrame : 고객이 선정한 추천 기준이 되는 영화제목, 추천할 영화 건수를 입력하면 추천 영화 정보를 가짐\n",
    "def find_sim_problem(df, sorted_ind, title_name, top_n = 10):\n",
    "    \n",
    "    title_problem = df[df['문제번호']== int(title_name)]\n",
    "    \n",
    "    title_index = title_problem.index.values\n",
    "    similar_indexes = sorted_ind[title_index,:(top_n)]\n",
    "    \n",
    "    similar_indexes = similar_indexes.reshape(-1)\n",
    "    \n",
    "    return df.iloc[similar_indexes]"
   ]
  },
  {
   "cell_type": "code",
   "execution_count": 138,
   "metadata": {
    "tags": []
   },
   "outputs": [
    {
     "output_type": "execute_result",
     "data": {
      "text/plain": "Empty DataFrame\nColumns: [문제번호, 평균시도, 해결, 난이도, 분류]\nIndex: []",
      "text/html": "<div>\n<style scoped>\n    .dataframe tbody tr th:only-of-type {\n        vertical-align: middle;\n    }\n\n    .dataframe tbody tr th {\n        vertical-align: top;\n    }\n\n    .dataframe thead th {\n        text-align: right;\n    }\n</style>\n<table border=\"1\" class=\"dataframe\">\n  <thead>\n    <tr style=\"text-align: right;\">\n      <th></th>\n      <th>문제번호</th>\n      <th>평균시도</th>\n      <th>해결</th>\n      <th>난이도</th>\n      <th>분류</th>\n    </tr>\n  </thead>\n  <tbody>\n  </tbody>\n</table>\n</div>"
     },
     "metadata": {},
     "execution_count": 138
    }
   ],
   "source": [
    "similar_movies = find_sim_problem(problem_df, genre_sim_sorted_ind,target_problem, 40)\n",
    "similar_movies[['문제번호','평균시도','해결','난이도','분류']]"
   ]
  },
  {
   "cell_type": "code",
   "execution_count": 139,
   "metadata": {},
   "outputs": [
    {
     "output_type": "execute_result",
     "data": {
      "text/plain": "        문제번호           난이도  평균시도\n17788  19741      Bronze I   1.0\n17170  18888    Diamond IV   1.0\n19402  19657        Ruby V   1.0\n10181   6800    Silver III   1.0\n17755   9842     Silver IV   1.0\n13091  13179    Diamond IV   1.0\n10150   3926    Platinum V   1.0\n17424  19615    Diamond IV   1.0\n10098   8386  Platinum III   1.0\n17908  18457    Diamond II   1.0",
      "text/html": "<div>\n<style scoped>\n    .dataframe tbody tr th:only-of-type {\n        vertical-align: middle;\n    }\n\n    .dataframe tbody tr th {\n        vertical-align: top;\n    }\n\n    .dataframe thead th {\n        text-align: right;\n    }\n</style>\n<table border=\"1\" class=\"dataframe\">\n  <thead>\n    <tr style=\"text-align: right;\">\n      <th></th>\n      <th>문제번호</th>\n      <th>난이도</th>\n      <th>평균시도</th>\n    </tr>\n  </thead>\n  <tbody>\n    <tr>\n      <th>17788</th>\n      <td>19741</td>\n      <td>Bronze I</td>\n      <td>1.0</td>\n    </tr>\n    <tr>\n      <th>17170</th>\n      <td>18888</td>\n      <td>Diamond IV</td>\n      <td>1.0</td>\n    </tr>\n    <tr>\n      <th>19402</th>\n      <td>19657</td>\n      <td>Ruby V</td>\n      <td>1.0</td>\n    </tr>\n    <tr>\n      <th>10181</th>\n      <td>6800</td>\n      <td>Silver III</td>\n      <td>1.0</td>\n    </tr>\n    <tr>\n      <th>17755</th>\n      <td>9842</td>\n      <td>Silver IV</td>\n      <td>1.0</td>\n    </tr>\n    <tr>\n      <th>13091</th>\n      <td>13179</td>\n      <td>Diamond IV</td>\n      <td>1.0</td>\n    </tr>\n    <tr>\n      <th>10150</th>\n      <td>3926</td>\n      <td>Platinum V</td>\n      <td>1.0</td>\n    </tr>\n    <tr>\n      <th>17424</th>\n      <td>19615</td>\n      <td>Diamond IV</td>\n      <td>1.0</td>\n    </tr>\n    <tr>\n      <th>10098</th>\n      <td>8386</td>\n      <td>Platinum III</td>\n      <td>1.0</td>\n    </tr>\n    <tr>\n      <th>17908</th>\n      <td>18457</td>\n      <td>Diamond II</td>\n      <td>1.0</td>\n    </tr>\n  </tbody>\n</table>\n</div>"
     },
     "metadata": {},
     "execution_count": 139
    }
   ],
   "source": [
    "problem_df[['문제번호','난이도','평균시도']].sort_values('평균시도',ascending=True)[:10]\n",
    "\n"
   ]
  },
  {
   "cell_type": "code",
   "execution_count": 140,
   "metadata": {
    "tags": []
   },
   "outputs": [
    {
     "output_type": "error",
     "ename": "IndexError",
     "evalue": "index 0 is out of bounds for axis 0 with size 0",
     "traceback": [
      "\u001b[1;31m---------------------------------------------------------------------------\u001b[0m",
      "\u001b[1;31mIndexError\u001b[0m                                Traceback (most recent call last)",
      "\u001b[1;32m<ipython-input-140-90b0696179ac>\u001b[0m in \u001b[0;36m<module>\u001b[1;34m\u001b[0m\n\u001b[0;32m     22\u001b[0m         \u001b[1;32melse\u001b[0m\u001b[1;33m:\u001b[0m\u001b[1;33m\u001b[0m\u001b[0m\n\u001b[0;32m     23\u001b[0m             \u001b[0mdf\u001b[0m\u001b[1;33m.\u001b[0m\u001b[0mat\u001b[0m\u001b[1;33m[\u001b[0m\u001b[0mi\u001b[0m\u001b[1;33m,\u001b[0m\u001b[1;34m'평균시도'\u001b[0m\u001b[1;33m]\u001b[0m \u001b[1;33m=\u001b[0m \u001b[1;36m0\u001b[0m\u001b[1;33m\u001b[0m\u001b[0m\n\u001b[1;32m---> 24\u001b[1;33m \u001b[0mlevel_set\u001b[0m\u001b[1;33m(\u001b[0m\u001b[0mproblem_df\u001b[0m\u001b[1;33m,\u001b[0m\u001b[0mtarget_problem\u001b[0m\u001b[1;33m)\u001b[0m\u001b[1;33m\u001b[0m\u001b[0m\n\u001b[0m",
      "\u001b[1;32m<ipython-input-140-90b0696179ac>\u001b[0m in \u001b[0;36mlevel_set\u001b[1;34m(df, target_problem)\u001b[0m\n\u001b[0;32m      3\u001b[0m \u001b[1;32mdef\u001b[0m \u001b[0mlevel_set\u001b[0m\u001b[1;33m(\u001b[0m\u001b[0mdf\u001b[0m\u001b[1;33m,\u001b[0m\u001b[0mtarget_problem\u001b[0m\u001b[1;33m)\u001b[0m\u001b[1;33m:\u001b[0m\u001b[1;33m\u001b[0m\u001b[0m\n\u001b[0;32m      4\u001b[0m     \u001b[0mlevel_idx\u001b[0m \u001b[1;33m=\u001b[0m \u001b[0mdf\u001b[0m\u001b[1;33m.\u001b[0m\u001b[0mindex\u001b[0m\u001b[1;33m[\u001b[0m\u001b[0mdf\u001b[0m\u001b[1;33m[\u001b[0m\u001b[1;34m'문제번호'\u001b[0m\u001b[1;33m]\u001b[0m\u001b[1;33m==\u001b[0m\u001b[0mint\u001b[0m\u001b[1;33m(\u001b[0m\u001b[0mtarget_problem\u001b[0m\u001b[1;33m)\u001b[0m\u001b[1;33m]\u001b[0m\u001b[1;33m\u001b[0m\u001b[0m\n\u001b[1;32m----> 5\u001b[1;33m     \u001b[0mprint\u001b[0m\u001b[1;33m(\u001b[0m\u001b[0mdf\u001b[0m\u001b[1;33m.\u001b[0m\u001b[0mloc\u001b[0m\u001b[1;33m[\u001b[0m\u001b[0mlevel_idx\u001b[0m\u001b[1;33m[\u001b[0m\u001b[1;36m0\u001b[0m\u001b[1;33m]\u001b[0m\u001b[1;33m]\u001b[0m\u001b[1;33m[\u001b[0m\u001b[1;34m'난이도'\u001b[0m\u001b[1;33m]\u001b[0m\u001b[1;33m.\u001b[0m\u001b[0msplit\u001b[0m\u001b[1;33m(\u001b[0m\u001b[1;34m' '\u001b[0m\u001b[1;33m)\u001b[0m\u001b[1;33m[\u001b[0m\u001b[1;36m0\u001b[0m\u001b[1;33m]\u001b[0m\u001b[1;33m)\u001b[0m\u001b[1;33m\u001b[0m\u001b[0m\n\u001b[0m\u001b[0;32m      6\u001b[0m     \u001b[0mlevel\u001b[0m \u001b[1;33m=\u001b[0m \u001b[0mlevel_array\u001b[0m\u001b[1;33m.\u001b[0m\u001b[0mindex\u001b[0m\u001b[1;33m(\u001b[0m\u001b[0mdf\u001b[0m\u001b[1;33m.\u001b[0m\u001b[0mloc\u001b[0m\u001b[1;33m[\u001b[0m\u001b[0mlevel_idx\u001b[0m\u001b[1;33m[\u001b[0m\u001b[1;36m0\u001b[0m\u001b[1;33m]\u001b[0m\u001b[1;33m]\u001b[0m\u001b[1;33m[\u001b[0m\u001b[1;34m'난이도'\u001b[0m\u001b[1;33m]\u001b[0m\u001b[1;33m.\u001b[0m\u001b[0msplit\u001b[0m\u001b[1;33m(\u001b[0m\u001b[1;34m' '\u001b[0m\u001b[1;33m)\u001b[0m\u001b[1;33m[\u001b[0m\u001b[1;36m0\u001b[0m\u001b[1;33m]\u001b[0m\u001b[1;33m)\u001b[0m\u001b[1;33m\u001b[0m\u001b[0m\n\u001b[0;32m      7\u001b[0m     \u001b[0mprint\u001b[0m\u001b[1;33m(\u001b[0m\u001b[0mlevel\u001b[0m\u001b[1;33m)\u001b[0m\u001b[1;33m\u001b[0m\u001b[0m\n",
      "\u001b[1;32mC:\\Program Files\\Python35\\lib\\site-packages\\pandas\\core\\indexes\\base.py\u001b[0m in \u001b[0;36m__getitem__\u001b[1;34m(self, key)\u001b[0m\n\u001b[0;32m   4278\u001b[0m         \u001b[1;32mif\u001b[0m \u001b[0mis_scalar\u001b[0m\u001b[1;33m(\u001b[0m\u001b[0mkey\u001b[0m\u001b[1;33m)\u001b[0m\u001b[1;33m:\u001b[0m\u001b[1;33m\u001b[0m\u001b[0m\n\u001b[0;32m   4279\u001b[0m             \u001b[0mkey\u001b[0m \u001b[1;33m=\u001b[0m \u001b[0mcom\u001b[0m\u001b[1;33m.\u001b[0m\u001b[0mcast_scalar_indexer\u001b[0m\u001b[1;33m(\u001b[0m\u001b[0mkey\u001b[0m\u001b[1;33m)\u001b[0m\u001b[1;33m\u001b[0m\u001b[0m\n\u001b[1;32m-> 4280\u001b[1;33m             \u001b[1;32mreturn\u001b[0m \u001b[0mgetitem\u001b[0m\u001b[1;33m(\u001b[0m\u001b[0mkey\u001b[0m\u001b[1;33m)\u001b[0m\u001b[1;33m\u001b[0m\u001b[0m\n\u001b[0m\u001b[0;32m   4281\u001b[0m \u001b[1;33m\u001b[0m\u001b[0m\n\u001b[0;32m   4282\u001b[0m         \u001b[1;32mif\u001b[0m \u001b[0misinstance\u001b[0m\u001b[1;33m(\u001b[0m\u001b[0mkey\u001b[0m\u001b[1;33m,\u001b[0m \u001b[0mslice\u001b[0m\u001b[1;33m)\u001b[0m\u001b[1;33m:\u001b[0m\u001b[1;33m\u001b[0m\u001b[0m\n",
      "\u001b[1;31mIndexError\u001b[0m: index 0 is out of bounds for axis 0 with size 0"
     ]
    }
   ],
   "source": [
    "#난이도를 정제하여 난이도 수준을 맞춤\n",
    "level_array = ['Bronze','Silver','Gold','Platium','Diamond','Ruby']\n",
    "def level_set(df,target_problem):\n",
    "    level_idx = df.index[df['문제번호']==int(target_problem)]\n",
    "    print(df.loc[level_idx[0]]['난이도'].split(' ')[0])\n",
    "    level = level_array.index(df.loc[level_idx[0]]['난이도'].split(' ')[0])\n",
    "    print(level)\n",
    "    df['level'],df['temp']= df['난이도'].str.split(' ',1).str\n",
    "    for i, row in df.iterrows() :\n",
    "        if df.at[i,'level'] == 'Bronze':  # (1)\n",
    "            df.at[i,'평균시도'] = (abs(0-level))*df.at[i,'평균시도']            \n",
    "        elif df.at[i,'level'] == 'Silver':  # (1)\n",
    "            df.at[i,'평균시도'] = (abs(1-level))*df.at[i,'평균시도']\n",
    "        elif df.at[i,'level'] == 'Gold':  # (1)\n",
    "            df.at[i,'평균시도'] = (abs(2-level))*df.at[i,'평균시도']\n",
    "        elif df.at[i,'level'] == 'Platium':  # (1)\n",
    "            df.at[i,'평균시도'] = (abs(3-level))*df.at[i,'평균시도']\n",
    "        elif df.at[i,'level'] == 'Diamond':  # (1)\n",
    "            df.at[i,'평균시도'] = (abs(4-level))*df.at[i,'평균시도']\n",
    "        elif df.at[i,'level'] == 'Ruby':  # (1)\n",
    "            df.at[i,'평균시도'] = (abs(5-level))*df.at[i,'평균시도']\n",
    "        else:\n",
    "            df.at[i,'평균시도'] = 0\n",
    "level_set(problem_df,target_problem)"
   ]
  },
  {
   "cell_type": "code",
   "execution_count": 141,
   "metadata": {
    "tags": []
   },
   "outputs": [
    {
     "output_type": "stream",
     "name": "stdout",
     "text": "C:  3.206 m:  192.0\n"
    }
   ],
   "source": [
    "C = problem_df['평균시도'].mean()\n",
    "m = problem_df['해결'].quantile(0.6)\n",
    "print('C: ',round(C,3),'m: ',round(m,3))"
   ]
  },
  {
   "cell_type": "code",
   "execution_count": 142,
   "metadata": {
    "tags": []
   },
   "outputs": [
    {
     "output_type": "stream",
     "name": "stdout",
     "text": "문제번호                                    링크       난이도     제목  분류     해결  \\\n0  1000  https://www.acmicpc.net/problem/1000  Bronze V    A+B  수학  99511   \n1  1001  https://www.acmicpc.net/problem/1001  Bronze V    A-B  수학  81628   \n2  1007  https://www.acmicpc.net/problem/1007   Gold II  벡터 매칭  수학    865   \n\n   평균시도  weighted_vote  \n0  2.26       5.455006  \n1  1.39       4.584747  \n2  2.72       4.849181  \n"
    }
   ],
   "source": [
    "#원래 점수에 \n",
    "percentile = 0.6\n",
    "m = problem_df['해결'].quantile(0.6)\n",
    "C = problem_df['평균시도'].mean()\n",
    "\n",
    "def weighted_vote_average(record):\n",
    "    v = record['해결']\n",
    "    R = record['평균시도']\n",
    "\n",
    "    return  (v/(v+m)) * R + (v/(v+m)) * C\n",
    "\n",
    "\n",
    "problem['weighted_vote'] = problem_df.apply(weighted_vote_average,axis=1)\n",
    "print(problem.head(3))"
   ]
  },
  {
   "cell_type": "code",
   "execution_count": 143,
   "metadata": {},
   "outputs": [
    {
     "output_type": "execute_result",
     "data": {
      "text/plain": "        문제번호            제목          난이도   평균시도  weighted_vote     해결\n19789  13705  Ax+Bsin(x)=C   Diamond IV  31.84      13.616417    122\n15110   2261    가장 가까운 두 점  Platinum IV   6.58       8.767751   1654\n12518   1600    말이 되고픈 원숭이       Gold V   5.69       8.287506   2617\n19493  11657          타임머신      Gold IV   6.27       8.132873   1163\n11700   1002            터렛    Silver IV   4.97       8.057588  13117\n10719   1654        랜선 자르기   Silver III   5.05       8.026840   6739\n10794   3649       로봇 프로젝트      Gold IV   6.59       8.024588    870\n17721   1016       제곱 ㄴㄴ 수       Gold I   5.17       7.861432   2936\n18728   5430            AC    Silver II   4.96       7.769927   3771\n18047   1005     ACM Craft     Gold III   4.86       7.723606   4337",
      "text/html": "<div>\n<style scoped>\n    .dataframe tbody tr th:only-of-type {\n        vertical-align: middle;\n    }\n\n    .dataframe tbody tr th {\n        vertical-align: top;\n    }\n\n    .dataframe thead th {\n        text-align: right;\n    }\n</style>\n<table border=\"1\" class=\"dataframe\">\n  <thead>\n    <tr style=\"text-align: right;\">\n      <th></th>\n      <th>문제번호</th>\n      <th>제목</th>\n      <th>난이도</th>\n      <th>평균시도</th>\n      <th>weighted_vote</th>\n      <th>해결</th>\n    </tr>\n  </thead>\n  <tbody>\n    <tr>\n      <th>19789</th>\n      <td>13705</td>\n      <td>Ax+Bsin(x)=C</td>\n      <td>Diamond IV</td>\n      <td>31.84</td>\n      <td>13.616417</td>\n      <td>122</td>\n    </tr>\n    <tr>\n      <th>15110</th>\n      <td>2261</td>\n      <td>가장 가까운 두 점</td>\n      <td>Platinum IV</td>\n      <td>6.58</td>\n      <td>8.767751</td>\n      <td>1654</td>\n    </tr>\n    <tr>\n      <th>12518</th>\n      <td>1600</td>\n      <td>말이 되고픈 원숭이</td>\n      <td>Gold V</td>\n      <td>5.69</td>\n      <td>8.287506</td>\n      <td>2617</td>\n    </tr>\n    <tr>\n      <th>19493</th>\n      <td>11657</td>\n      <td>타임머신</td>\n      <td>Gold IV</td>\n      <td>6.27</td>\n      <td>8.132873</td>\n      <td>1163</td>\n    </tr>\n    <tr>\n      <th>11700</th>\n      <td>1002</td>\n      <td>터렛</td>\n      <td>Silver IV</td>\n      <td>4.97</td>\n      <td>8.057588</td>\n      <td>13117</td>\n    </tr>\n    <tr>\n      <th>10719</th>\n      <td>1654</td>\n      <td>랜선 자르기</td>\n      <td>Silver III</td>\n      <td>5.05</td>\n      <td>8.026840</td>\n      <td>6739</td>\n    </tr>\n    <tr>\n      <th>10794</th>\n      <td>3649</td>\n      <td>로봇 프로젝트</td>\n      <td>Gold IV</td>\n      <td>6.59</td>\n      <td>8.024588</td>\n      <td>870</td>\n    </tr>\n    <tr>\n      <th>17721</th>\n      <td>1016</td>\n      <td>제곱 ㄴㄴ 수</td>\n      <td>Gold I</td>\n      <td>5.17</td>\n      <td>7.861432</td>\n      <td>2936</td>\n    </tr>\n    <tr>\n      <th>18728</th>\n      <td>5430</td>\n      <td>AC</td>\n      <td>Silver II</td>\n      <td>4.96</td>\n      <td>7.769927</td>\n      <td>3771</td>\n    </tr>\n    <tr>\n      <th>18047</th>\n      <td>1005</td>\n      <td>ACM Craft</td>\n      <td>Gold III</td>\n      <td>4.86</td>\n      <td>7.723606</td>\n      <td>4337</td>\n    </tr>\n  </tbody>\n</table>\n</div>"
     },
     "metadata": {},
     "execution_count": 143
    }
   ],
   "source": [
    "problem = problem.drop_duplicates(['문제번호'],keep='last')\n",
    "#새로 부여된 weighted_vote 평점이 높은 순으로 상위 10개 추출\n",
    "problem[['문제번호','제목','난이도','평균시도','weighted_vote','해결']].sort_values(\n",
    "    'weighted_vote',ascending=False)[:10] "
   ]
  },
  {
   "cell_type": "code",
   "execution_count": 144,
   "metadata": {
    "tags": []
   },
   "outputs": [
    {
     "output_type": "execute_result",
     "data": {
      "text/plain": "        문제번호          난이도                            제목  weighted_vote\n1605    1011     Silver I  Fly me to the Alpha Centauri       6.566811\n1608    1019       Gold I                         책 페이지       5.266702\n1609    1024   Silver III                         수열의 합       6.545644\n1614    1049    Silver IV                           기타줄       6.069320\n1616    1059     Silver V                            수2       5.512102\n...      ...          ...                           ...            ...\n19981  18588       Ruby V                    Milk Candy       0.106739\n19982  18890      Ruby IV                       Seollal       0.132592\n19983   1175       Gold I                            배달       4.411378\n19984   2549       Gold I                       루빅의 사각형       3.507545\n19985  10329  Platinum II              Key to Knowledge       0.474474\n\n[4271 rows x 4 columns]",
      "text/html": "<div>\n<style scoped>\n    .dataframe tbody tr th:only-of-type {\n        vertical-align: middle;\n    }\n\n    .dataframe tbody tr th {\n        vertical-align: top;\n    }\n\n    .dataframe thead th {\n        text-align: right;\n    }\n</style>\n<table border=\"1\" class=\"dataframe\">\n  <thead>\n    <tr style=\"text-align: right;\">\n      <th></th>\n      <th>문제번호</th>\n      <th>난이도</th>\n      <th>제목</th>\n      <th>weighted_vote</th>\n    </tr>\n  </thead>\n  <tbody>\n    <tr>\n      <th>1605</th>\n      <td>1011</td>\n      <td>Silver I</td>\n      <td>Fly me to the Alpha Centauri</td>\n      <td>6.566811</td>\n    </tr>\n    <tr>\n      <th>1608</th>\n      <td>1019</td>\n      <td>Gold I</td>\n      <td>책 페이지</td>\n      <td>5.266702</td>\n    </tr>\n    <tr>\n      <th>1609</th>\n      <td>1024</td>\n      <td>Silver III</td>\n      <td>수열의 합</td>\n      <td>6.545644</td>\n    </tr>\n    <tr>\n      <th>1614</th>\n      <td>1049</td>\n      <td>Silver IV</td>\n      <td>기타줄</td>\n      <td>6.069320</td>\n    </tr>\n    <tr>\n      <th>1616</th>\n      <td>1059</td>\n      <td>Silver V</td>\n      <td>수2</td>\n      <td>5.512102</td>\n    </tr>\n    <tr>\n      <th>...</th>\n      <td>...</td>\n      <td>...</td>\n      <td>...</td>\n      <td>...</td>\n    </tr>\n    <tr>\n      <th>19981</th>\n      <td>18588</td>\n      <td>Ruby V</td>\n      <td>Milk Candy</td>\n      <td>0.106739</td>\n    </tr>\n    <tr>\n      <th>19982</th>\n      <td>18890</td>\n      <td>Ruby IV</td>\n      <td>Seollal</td>\n      <td>0.132592</td>\n    </tr>\n    <tr>\n      <th>19983</th>\n      <td>1175</td>\n      <td>Gold I</td>\n      <td>배달</td>\n      <td>4.411378</td>\n    </tr>\n    <tr>\n      <th>19984</th>\n      <td>2549</td>\n      <td>Gold I</td>\n      <td>루빅의 사각형</td>\n      <td>3.507545</td>\n    </tr>\n    <tr>\n      <th>19985</th>\n      <td>10329</td>\n      <td>Platinum II</td>\n      <td>Key to Knowledge</td>\n      <td>0.474474</td>\n    </tr>\n  </tbody>\n</table>\n<p>4271 rows × 4 columns</p>\n</div>"
     },
     "metadata": {},
     "execution_count": 144
    }
   ],
   "source": [
    "#이제 새롭게 정의된 평점 기준에 따라서 영화를 추천한다\n",
    "#장르 유사성이 높은 영화를 top_n의 2배수만큼 후보군으로 선정한 뒤에 weighted_vote 칼럼이 높은 순으로 top_n만큼 추출하는 방식으로\n",
    "#find_sim_movie()함수를 변경한다\n",
    "\n",
    "def find_sim_movie(df, sorted_ind, title_name, top_n =3):\n",
    "    title_problem = df[df['문제번호'] == int(title_name)]\n",
    "    title_index = title_problem.index.values\n",
    "    #top_n의 2배에 해당하는 장르 유사성이 높은 인덱스 추출\n",
    "    similar_indexes = sorted_ind[title_index, :(top_n*2)]\n",
    "    similar_indexs = similar_indexes.reshape(-1)\n",
    "    #기준 영화 인덱스는 제외\n",
    "    similar_indexes = similar_indexes[similar_indexes!=title_index]\n",
    "    #top_n의 2배에 해당하는 후보군에서 weighted_vote가 높은 순으로 top_n만큼 추출\n",
    "    return df\n",
    "\n",
    "similar_problem = find_sim_movie(problem,genre_sim_sorted_ind,target_problem,10)\n",
    "similar_problem[['문제번호','난이도','제목','weighted_vote']]\n",
    "#problem[problem['문제번호'] == int(target_problem)]"
   ]
  },
  {
   "cell_type": "code",
   "execution_count": null,
   "metadata": {},
   "outputs": [],
   "source": []
  }
 ],
 "metadata": {
  "kernelspec": {
   "display_name": "Python 3.5.3 64-bit",
   "language": "python",
   "name": "python_defaultSpec_1600054148979"
  },
  "language_info": {
   "codemirror_mode": {
    "name": "ipython",
    "version": 3
   },
   "file_extension": ".py",
   "mimetype": "text/x-python",
   "name": "python",
   "nbconvert_exporter": "python",
   "pygments_lexer": "ipython3",
   "version": "3.5.3-final"
  }
 },
 "nbformat": 4,
 "nbformat_minor": 2
}