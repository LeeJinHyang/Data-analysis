{
 "metadata": {
  "language_info": {
   "codemirror_mode": {
    "name": "ipython",
    "version": 3
   },
   "file_extension": ".py",
   "mimetype": "text/x-python",
   "name": "python",
   "nbconvert_exporter": "python",
   "pygments_lexer": "ipython3",
   "version": "3.5.3-final"
  },
  "orig_nbformat": 2,
  "kernelspec": {
   "name": "python_defaultSpec_1600054345047",
   "display_name": "Python 3.5.3 64-bit"
  }
 },
 "nbformat": 4,
 "nbformat_minor": 2,
 "cells": [
  {
   "cell_type": "code",
   "execution_count": 108,
   "metadata": {
    "tags": []
   },
   "outputs": [
    {
     "output_type": "stream",
     "name": "stdout",
     "text": "Requirement already up-to-date: pip in c:\\program files\\python35\\lib\\site-packages (20.2.3)\nRequirement already satisfied: pandas in c:\\program files\\python35\\lib\\site-packages (0.25.3)\nRequirement already satisfied: pytz>=2017.2 in c:\\program files\\python35\\lib\\site-packages (from pandas) (2020.1)\nRequirement already satisfied: numpy>=1.13.3 in c:\\program files\\python35\\lib\\site-packages (from pandas) (1.18.5)\nRequirement already satisfied: python-dateutil>=2.6.1 in c:\\users\\multicampus\\appdata\\roaming\\python\\python35\\site-packages (from pandas) (2.8.1)\nRequirement already satisfied: six>=1.5 in c:\\users\\multicampus\\appdata\\roaming\\python\\python35\\site-packages (from python-dateutil>=2.6.1->pandas) (1.15.0)\nRequirement already satisfied: numpy in c:\\program files\\python35\\lib\\site-packages (1.18.5)\n"
    }
   ],
   "source": [
    "!pip install --upgrade pip\n",
    "!pip install pandas\n",
    "!pip install numpy"
   ]
  },
  {
   "cell_type": "code",
   "execution_count": 109,
   "metadata": {},
   "outputs": [],
   "source": [
    "import pandas as pd\n",
    "import numpy as np\n",
    "import warnings;warnings.filterwarnings('ignore')"
   ]
  },
  {
   "cell_type": "code",
   "execution_count": 110,
   "metadata": {},
   "outputs": [],
   "source": [
    "problem = pd.read_csv('problem.csv')\n",
    "user = pd.read_csv('user.csv')\n",
    "target_user = pd.read_csv('koosaga.csv')\n",
    "\n"
   ]
  },
  {
   "cell_type": "code",
   "execution_count": 111,
   "metadata": {
    "tags": []
   },
   "outputs": [
    {
     "output_type": "stream",
     "name": "stdout",
     "text": "[11937 11938 11939 11940]\n"
    }
   ],
   "source": [
    "target_list = target_user[target_user['정답여부']==False]\n",
    "target_list.columns\n",
    "target_problem = np.array(target_list['문제번호'].tolist())\n",
    "print(target_problem)"
   ]
  },
  {
   "cell_type": "code",
   "execution_count": 112,
   "metadata": {},
   "outputs": [],
   "source": [
    "level_array = ['Bronze','Silver','Gold','Platinum','Diamond','Ruby']"
   ]
  },
  {
   "cell_type": "code",
   "execution_count": 113,
   "metadata": {},
   "outputs": [],
   "source": [
    "#장르 유사도에 따라 영화를 추천하는 함수\n",
    "#함수명 : find_sim_movie()\n",
    "#movies_df DataFrame : 기반 데이터\n",
    "#genre_sim_sorted_ind : 레코드별 장르 코사인 유사도 인덱스\n",
    "#DataFrame : 고객이 선정한 추천 기준이 되는 영화제목, 추천할 영화 건수를 입력하면 추천 영화 정보를 가짐\n",
    "def find_sim_problem(df, sorted_ind, title_name, top_n = 10):\n",
    "    \n",
    "    title_problem = df[df['문제번호']== int(title_name)]\n",
    "    \n",
    "    title_index = title_problem.index.values\n",
    "    similar_indexes = sorted_ind[title_index,:(top_n)]\n",
    "    \n",
    "    similar_indexes = similar_indexes.reshape(-1)\n",
    "    \n",
    "    return df.iloc[similar_indexes]"
   ]
  },
  {
   "cell_type": "code",
   "execution_count": 114,
   "metadata": {},
   "outputs": [],
   "source": [
    "def level_set(df,target_problem,level_array):\n",
    "    level_idx = df.index[df['문제번호']==int(target_problem)]\n",
    "    level = level_array.index(df.loc[level_idx[0]]['난이도'].split(' ')[0])\n",
    "    print(level)\n",
    "    df['level'],df['temp']= df['난이도'].str.split(' ',1).str\n",
    "    for i, row in df.iterrows() :\n",
    "        if df.at[i,'level'] == 'Bronze':  # (1)\n",
    "            df.at[i,'평균시도'] = (abs(0-level))*df.at[i,'평균시도']            \n",
    "        elif df.at[i,'level'] == 'Silver':  # (1)\n",
    "            df.at[i,'평균시도'] = (abs(1-level))*df.at[i,'평균시도']\n",
    "        elif df.at[i,'level'] == 'Gold':  # (1)\n",
    "            df.at[i,'평균시도'] = (abs(2-level))*df.at[i,'평균시도']\n",
    "        elif df.at[i,'level'] == 'Platium':  # (1)\n",
    "            df.at[i,'평균시도'] = (abs(3-level))*df.at[i,'평균시도']\n",
    "        elif df.at[i,'level'] == 'Diamond':  # (1)\n",
    "            df.at[i,'평균시도'] = (abs(4-level))*df.at[i,'평균시도']\n",
    "        elif df.at[i,'level'] == 'Ruby':  # (1)\n",
    "            df.at[i,'평균시도'] = (abs(5-level))*df.at[i,'평균시도']\n",
    "        else:\n",
    "            df.at[i,'평균시도'] = 0"
   ]
  },
  {
   "cell_type": "code",
   "execution_count": 115,
   "metadata": {},
   "outputs": [],
   "source": [
    "def weighted_vote_average(record):\n",
    "    v = record['해결']\n",
    "    R = record['평균시도']\n",
    "\n",
    "    return  (v/(v+m)) * R + (v/(v+m)) * C"
   ]
  },
  {
   "cell_type": "code",
   "execution_count": 116,
   "metadata": {},
   "outputs": [],
   "source": [
    "def find_sim_problem(df, sorted_ind, title_name, top_n =3):\n",
    "    title_problem = df[df['문제번호'] == int(title_name)]\n",
    "    title_index = title_problem.index.values\n",
    "    #top_n의 2배에 해당하는 장르 유사성이 높은 인덱스 추출\n",
    "    similar_indexes = sorted_ind[title_index, :(top_n*2)]\n",
    "    similar_indexs = similar_indexes.reshape(-1)\n",
    "    #기준 영화 인덱스는 제외\n",
    "    similar_indexes = similar_indexes[similar_indexes!=title_index]\n",
    "    #top_n의 2배에 해당하는 후보군에서 weighted_vote가 높은 순으로 top_n만큼 추출\n",
    "    return df"
   ]
  },
  {
   "cell_type": "code",
   "execution_count": 117,
   "metadata": {},
   "outputs": [],
   "source": [
    "def problem_recom(target_problem,problem,level_array):\n",
    "    \n",
    "    problem_df = problem[['문제번호','난이도','분류','해결','평균시도']]\n",
    "    pd.set_option('max_colwidth',100)\n",
    "    #각각의 장르와 그 장르의 id를 추출해 낼 수 있다\n",
    "    problem_df[['분류','난이도']][:1]\n",
    "    from sklearn.feature_extraction.text import CountVectorizer\n",
    "\n",
    "    #CountVectorizer를 적용하기 위해 공백문자로 word 단위가 구분되는 문자열로 변환\n",
    "    count_vect  = CountVectorizer(min_df = 0, ngram_range=(1,2))\n",
    "    genre_mat = count_vect.fit_transform(problem_df['분류'])\n",
    "\n",
    "    from sklearn.metrics.pairwise import cosine_similarity\n",
    "    genre_sim = cosine_similarity(genre_mat, genre_mat) \n",
    "\n",
    "    genre_sim_sorted_ind = genre_sim.argsort()[:,::-1]\n",
    "\n",
    "    similar_movies = find_sim_problem(problem_df, genre_sim_sorted_ind,target_problem, 40)\n",
    "    similar_movies[['문제번호','평균시도','해결','난이도','분류']]\n",
    "    problem_df[['문제번호','난이도','평균시도']].sort_values('평균시도',ascending=True)[:10]\n",
    "    level_set(problem_df,target_problem,level_array)\n",
    "\n",
    "    C = problem_df['평균시도'].mean()\n",
    "    m = problem_df['해결'].quantile(0.6)\n",
    "    \n",
    "    #원래 점수에 \n",
    "    percentile = 0.6\n",
    "    m = problem_df['해결'].quantile(0.6)\n",
    "    C = problem_df['평균시도'].mean()\n",
    "\n",
    "    problem['weighted_vote'] = problem_df.apply(weighted_vote_average,axis=1)\n",
    " \n",
    "    problem = problem.drop_duplicates(['문제번호'],keep='last')\n",
    "    #새로 부여된 weighted_vote 평점이 높은 순으로 상위 10개 추출\n",
    "    problem[['문제번호','제목','난이도','평균시도','weighted_vote','해결']].sort_values(\n",
    "        'weighted_vote',ascending=False)[:10] \n",
    "\n",
    "    similar_problem = find_sim_problem(problem,genre_sim_sorted_ind,target_problem,10)\n",
    "    similar_problem[['문제번호','난이도','제목','weighted_vote']]\n",
    "    return similar_problem\n"
   ]
  },
  {
   "cell_type": "code",
   "execution_count": 118,
   "metadata": {
    "tags": []
   },
   "outputs": [
    {
     "output_type": "stream",
     "name": "stdout",
     "text": "0\n"
    },
    {
     "output_type": "error",
     "ename": "ValueError",
     "evalue": "'Platinum' is not in list",
     "traceback": [
      "\u001b[1;31m---------------------------------------------------------------------------\u001b[0m",
      "\u001b[1;31mValueError\u001b[0m                                Traceback (most recent call last)",
      "\u001b[1;32m<ipython-input-118-fdcab0ff46d7>\u001b[0m in \u001b[0;36m<module>\u001b[1;34m\u001b[0m\n\u001b[0;32m      2\u001b[0m \u001b[1;32mfor\u001b[0m \u001b[0mi\u001b[0m \u001b[1;32min\u001b[0m \u001b[0mrange\u001b[0m\u001b[1;33m(\u001b[0m\u001b[1;36m0\u001b[0m\u001b[1;33m,\u001b[0m\u001b[0mlen\u001b[0m\u001b[1;33m(\u001b[0m\u001b[0mtarget_problem\u001b[0m\u001b[1;33m)\u001b[0m\u001b[1;33m)\u001b[0m\u001b[1;33m:\u001b[0m\u001b[1;33m\u001b[0m\u001b[0m\n\u001b[0;32m      3\u001b[0m     \u001b[0mprint\u001b[0m\u001b[1;33m(\u001b[0m\u001b[0mi\u001b[0m\u001b[1;33m)\u001b[0m\u001b[1;33m\u001b[0m\u001b[0m\n\u001b[1;32m----> 4\u001b[1;33m     \u001b[0mProblem\u001b[0m \u001b[1;33m=\u001b[0m \u001b[0mProblem\u001b[0m\u001b[1;33m.\u001b[0m\u001b[0mappend\u001b[0m\u001b[1;33m(\u001b[0m\u001b[0mproblem_recom\u001b[0m\u001b[1;33m(\u001b[0m\u001b[0mtarget\u001b[0m\u001b[1;33m,\u001b[0m\u001b[0mproblem\u001b[0m\u001b[1;33m,\u001b[0m\u001b[0mlevel_array\u001b[0m\u001b[1;33m)\u001b[0m\u001b[1;33m)\u001b[0m\u001b[1;33m\u001b[0m\u001b[0m\n\u001b[0m\u001b[0;32m      5\u001b[0m \u001b[1;33m\u001b[0m\u001b[0m\n\u001b[0;32m      6\u001b[0m \u001b[0mProblem\u001b[0m \u001b[1;33m=\u001b[0m \u001b[0mProblem\u001b[0m\u001b[1;33m.\u001b[0m\u001b[0mdrop_duplicates\u001b[0m\u001b[1;33m(\u001b[0m\u001b[1;33m)\u001b[0m\u001b[1;33m\u001b[0m\u001b[0m\n",
      "\u001b[1;32m<ipython-input-117-7ed284f913a9>\u001b[0m in \u001b[0;36mproblem_recom\u001b[1;34m(target_problem, problem, level_array)\u001b[0m\n\u001b[0;32m     19\u001b[0m     \u001b[0msimilar_movies\u001b[0m\u001b[1;33m[\u001b[0m\u001b[1;33m[\u001b[0m\u001b[1;34m'문제번호'\u001b[0m\u001b[1;33m,\u001b[0m\u001b[1;34m'평균시도'\u001b[0m\u001b[1;33m,\u001b[0m\u001b[1;34m'해결'\u001b[0m\u001b[1;33m,\u001b[0m\u001b[1;34m'난이도'\u001b[0m\u001b[1;33m,\u001b[0m\u001b[1;34m'분류'\u001b[0m\u001b[1;33m]\u001b[0m\u001b[1;33m]\u001b[0m\u001b[1;33m\u001b[0m\u001b[0m\n\u001b[0;32m     20\u001b[0m     \u001b[0mproblem_df\u001b[0m\u001b[1;33m[\u001b[0m\u001b[1;33m[\u001b[0m\u001b[1;34m'문제번호'\u001b[0m\u001b[1;33m,\u001b[0m\u001b[1;34m'난이도'\u001b[0m\u001b[1;33m,\u001b[0m\u001b[1;34m'평균시도'\u001b[0m\u001b[1;33m]\u001b[0m\u001b[1;33m]\u001b[0m\u001b[1;33m.\u001b[0m\u001b[0msort_values\u001b[0m\u001b[1;33m(\u001b[0m\u001b[1;34m'평균시도'\u001b[0m\u001b[1;33m,\u001b[0m\u001b[0mascending\u001b[0m\u001b[1;33m=\u001b[0m\u001b[1;32mTrue\u001b[0m\u001b[1;33m)\u001b[0m\u001b[1;33m[\u001b[0m\u001b[1;33m:\u001b[0m\u001b[1;36m10\u001b[0m\u001b[1;33m]\u001b[0m\u001b[1;33m\u001b[0m\u001b[0m\n\u001b[1;32m---> 21\u001b[1;33m     \u001b[0mlevel_set\u001b[0m\u001b[1;33m(\u001b[0m\u001b[0mproblem_df\u001b[0m\u001b[1;33m,\u001b[0m\u001b[0mtarget_problem\u001b[0m\u001b[1;33m,\u001b[0m\u001b[0mlevel_array\u001b[0m\u001b[1;33m)\u001b[0m\u001b[1;33m\u001b[0m\u001b[0m\n\u001b[0m\u001b[0;32m     22\u001b[0m \u001b[1;33m\u001b[0m\u001b[0m\n\u001b[0;32m     23\u001b[0m     \u001b[0mC\u001b[0m \u001b[1;33m=\u001b[0m \u001b[0mproblem_df\u001b[0m\u001b[1;33m[\u001b[0m\u001b[1;34m'평균시도'\u001b[0m\u001b[1;33m]\u001b[0m\u001b[1;33m.\u001b[0m\u001b[0mmean\u001b[0m\u001b[1;33m(\u001b[0m\u001b[1;33m)\u001b[0m\u001b[1;33m\u001b[0m\u001b[0m\n",
      "\u001b[1;32m<ipython-input-114-7c82124774aa>\u001b[0m in \u001b[0;36mlevel_set\u001b[1;34m(df, target_problem, level_array)\u001b[0m\n\u001b[0;32m      1\u001b[0m \u001b[1;32mdef\u001b[0m \u001b[0mlevel_set\u001b[0m\u001b[1;33m(\u001b[0m\u001b[0mdf\u001b[0m\u001b[1;33m,\u001b[0m\u001b[0mtarget_problem\u001b[0m\u001b[1;33m,\u001b[0m\u001b[0mlevel_array\u001b[0m\u001b[1;33m)\u001b[0m\u001b[1;33m:\u001b[0m\u001b[1;33m\u001b[0m\u001b[0m\n\u001b[0;32m      2\u001b[0m     \u001b[0mlevel_idx\u001b[0m \u001b[1;33m=\u001b[0m \u001b[0mdf\u001b[0m\u001b[1;33m.\u001b[0m\u001b[0mindex\u001b[0m\u001b[1;33m[\u001b[0m\u001b[0mdf\u001b[0m\u001b[1;33m[\u001b[0m\u001b[1;34m'문제번호'\u001b[0m\u001b[1;33m]\u001b[0m\u001b[1;33m==\u001b[0m\u001b[0mint\u001b[0m\u001b[1;33m(\u001b[0m\u001b[0mtarget_problem\u001b[0m\u001b[1;33m)\u001b[0m\u001b[1;33m]\u001b[0m\u001b[1;33m\u001b[0m\u001b[0m\n\u001b[1;32m----> 3\u001b[1;33m     \u001b[0mlevel\u001b[0m \u001b[1;33m=\u001b[0m \u001b[0mlevel_array\u001b[0m\u001b[1;33m.\u001b[0m\u001b[0mindex\u001b[0m\u001b[1;33m(\u001b[0m\u001b[0mdf\u001b[0m\u001b[1;33m.\u001b[0m\u001b[0mloc\u001b[0m\u001b[1;33m[\u001b[0m\u001b[0mlevel_idx\u001b[0m\u001b[1;33m[\u001b[0m\u001b[1;36m0\u001b[0m\u001b[1;33m]\u001b[0m\u001b[1;33m]\u001b[0m\u001b[1;33m[\u001b[0m\u001b[1;34m'난이도'\u001b[0m\u001b[1;33m]\u001b[0m\u001b[1;33m.\u001b[0m\u001b[0msplit\u001b[0m\u001b[1;33m(\u001b[0m\u001b[1;34m' '\u001b[0m\u001b[1;33m)\u001b[0m\u001b[1;33m[\u001b[0m\u001b[1;36m0\u001b[0m\u001b[1;33m]\u001b[0m\u001b[1;33m)\u001b[0m\u001b[1;33m\u001b[0m\u001b[0m\n\u001b[0m\u001b[0;32m      4\u001b[0m     \u001b[0mprint\u001b[0m\u001b[1;33m(\u001b[0m\u001b[0mlevel\u001b[0m\u001b[1;33m)\u001b[0m\u001b[1;33m\u001b[0m\u001b[0m\n\u001b[0;32m      5\u001b[0m     \u001b[0mdf\u001b[0m\u001b[1;33m[\u001b[0m\u001b[1;34m'level'\u001b[0m\u001b[1;33m]\u001b[0m\u001b[1;33m,\u001b[0m\u001b[0mdf\u001b[0m\u001b[1;33m[\u001b[0m\u001b[1;34m'temp'\u001b[0m\u001b[1;33m]\u001b[0m\u001b[1;33m=\u001b[0m \u001b[0mdf\u001b[0m\u001b[1;33m[\u001b[0m\u001b[1;34m'난이도'\u001b[0m\u001b[1;33m]\u001b[0m\u001b[1;33m.\u001b[0m\u001b[0mstr\u001b[0m\u001b[1;33m.\u001b[0m\u001b[0msplit\u001b[0m\u001b[1;33m(\u001b[0m\u001b[1;34m' '\u001b[0m\u001b[1;33m,\u001b[0m\u001b[1;36m1\u001b[0m\u001b[1;33m)\u001b[0m\u001b[1;33m.\u001b[0m\u001b[0mstr\u001b[0m\u001b[1;33m\u001b[0m\u001b[0m\n",
      "\u001b[1;31mValueError\u001b[0m: 'Platinum' is not in list"
     ]
    }
   ],
   "source": [
    "Problem = pd.DataFrame(columns=['문제번호','난이도','제목','weighted_vote'])\n",
    "for i in range(0,len(target_problem)):\n",
    "    print(i)\n",
    "    Problem.append(problem_recom(target,problem,level_array))\n",
    "\n",
    "Problem.drop_duplicates()\n"
   ]
  },
  {
   "cell_type": "code",
   "execution_count": null,
   "metadata": {},
   "outputs": [],
   "source": []
  }
 ]
}