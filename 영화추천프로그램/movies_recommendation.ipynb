{
 "cells": [
  {
   "cell_type": "code",
   "execution_count": 2,
   "metadata": {
    "tags": []
   },
   "outputs": [
    {
     "output_type": "stream",
     "name": "stdout",
     "text": "Requirement already satisfied: pandas in c:\\program files\\python35\\lib\\site-packages (0.25.3)\nRequirement already satisfied: python-dateutil>=2.6.1 in c:\\users\\multicampus\\appdata\\roaming\\python\\python35\\site-packages (from pandas) (2.8.1)\nRequirement already satisfied: numpy>=1.13.3 in c:\\program files\\python35\\lib\\site-packages (from pandas) (1.18.5)\nRequirement already satisfied: pytz>=2017.2 in c:\\program files\\python35\\lib\\site-packages (from pandas) (2020.1)\nRequirement already satisfied: six>=1.5 in c:\\users\\multicampus\\appdata\\roaming\\python\\python35\\site-packages (from python-dateutil>=2.6.1->pandas) (1.15.0)\nRequirement already satisfied: numpy in c:\\program files\\python35\\lib\\site-packages (1.18.5)\n"
    }
   ],
   "source": [
    "!pip install pandas\n",
    "!pip install numpy"
   ]
  },
  {
   "cell_type": "code",
   "execution_count": 3,
   "metadata": {},
   "outputs": [],
   "source": [
    "import pandas as pd\n",
    "import numpy as np\n",
    "import warnings;warnings.filterwarnings('ignore')"
   ]
  },
  {
   "cell_type": "code",
   "execution_count": 4,
   "metadata": {},
   "outputs": [],
   "source": [
    "movies = pd.read_csv('tmdb_5000_movies.csv')"
   ]
  },
  {
   "cell_type": "code",
   "execution_count": 5,
   "metadata": {
    "tags": []
   },
   "outputs": [
    {
     "output_type": "stream",
     "name": "stdout",
     "text": "(4803, 20)\n"
    },
    {
     "output_type": "execute_result",
     "data": {
      "text/html": "<div>\n<style scoped>\n    .dataframe tbody tr th:only-of-type {\n        vertical-align: middle;\n    }\n\n    .dataframe tbody tr th {\n        vertical-align: top;\n    }\n\n    .dataframe thead th {\n        text-align: right;\n    }\n</style>\n<table border=\"1\" class=\"dataframe\">\n  <thead>\n    <tr style=\"text-align: right;\">\n      <th></th>\n      <th>budget</th>\n      <th>genres</th>\n      <th>homepage</th>\n      <th>id</th>\n      <th>keywords</th>\n      <th>original_language</th>\n      <th>original_title</th>\n      <th>overview</th>\n      <th>popularity</th>\n      <th>production_companies</th>\n      <th>production_countries</th>\n      <th>release_date</th>\n      <th>revenue</th>\n      <th>runtime</th>\n      <th>spoken_languages</th>\n      <th>status</th>\n      <th>tagline</th>\n      <th>title</th>\n      <th>vote_average</th>\n      <th>vote_count</th>\n    </tr>\n  </thead>\n  <tbody>\n    <tr>\n      <th>0</th>\n      <td>237000000</td>\n      <td>[{\"id\": 28, \"name\": \"Action\"}, {\"id\": 12, \"nam...</td>\n      <td>http://www.avatarmovie.com/</td>\n      <td>19995</td>\n      <td>[{\"id\": 1463, \"name\": \"culture clash\"}, {\"id\":...</td>\n      <td>en</td>\n      <td>Avatar</td>\n      <td>In the 22nd century, a paraplegic Marine is di...</td>\n      <td>150.437577</td>\n      <td>[{\"name\": \"Ingenious Film Partners\", \"id\": 289...</td>\n      <td>[{\"iso_3166_1\": \"US\", \"name\": \"United States o...</td>\n      <td>2009-12-10</td>\n      <td>2787965087</td>\n      <td>162.0</td>\n      <td>[{\"iso_639_1\": \"en\", \"name\": \"English\"}, {\"iso...</td>\n      <td>Released</td>\n      <td>Enter the World of Pandora.</td>\n      <td>Avatar</td>\n      <td>7.2</td>\n      <td>11800</td>\n    </tr>\n  </tbody>\n</table>\n</div>",
      "text/plain": "      budget                                             genres  \\\n0  237000000  [{\"id\": 28, \"name\": \"Action\"}, {\"id\": 12, \"nam...   \n\n                      homepage     id  \\\n0  http://www.avatarmovie.com/  19995   \n\n                                            keywords original_language  \\\n0  [{\"id\": 1463, \"name\": \"culture clash\"}, {\"id\":...                en   \n\n  original_title                                           overview  \\\n0         Avatar  In the 22nd century, a paraplegic Marine is di...   \n\n   popularity                               production_companies  \\\n0  150.437577  [{\"name\": \"Ingenious Film Partners\", \"id\": 289...   \n\n                                production_countries release_date     revenue  \\\n0  [{\"iso_3166_1\": \"US\", \"name\": \"United States o...   2009-12-10  2787965087   \n\n   runtime                                   spoken_languages    status  \\\n0    162.0  [{\"iso_639_1\": \"en\", \"name\": \"English\"}, {\"iso...  Released   \n\n                       tagline   title  vote_average  vote_count  \n0  Enter the World of Pandora.  Avatar           7.2       11800  "
     },
     "metadata": {},
     "execution_count": 5
    }
   ],
   "source": [
    "print(movies.shape)\n",
    "movies.head(1)"
   ]
  },
  {
   "cell_type": "code",
   "execution_count": 6,
   "metadata": {
    "tags": []
   },
   "outputs": [
    {
     "output_type": "stream",
     "name": "stdout",
     "text": "id                                     title  \\\n0      19995                                    Avatar   \n1        285  Pirates of the Caribbean: At World's End   \n2     206647                                   Spectre   \n3      49026                     The Dark Knight Rises   \n4      49529                               John Carter   \n...      ...                                       ...   \n4798    9367                               El Mariachi   \n4799   72766                                 Newlyweds   \n4800  231617                 Signed, Sealed, Delivered   \n4801  126186                          Shanghai Calling   \n4802   25975                         My Date with Drew   \n\n                                                 genres  vote_average  \\\n0     [{\"id\": 28, \"name\": \"Action\"}, {\"id\": 12, \"nam...           7.2   \n1     [{\"id\": 12, \"name\": \"Adventure\"}, {\"id\": 14, \"...           6.9   \n2     [{\"id\": 28, \"name\": \"Action\"}, {\"id\": 12, \"nam...           6.3   \n3     [{\"id\": 28, \"name\": \"Action\"}, {\"id\": 80, \"nam...           7.6   \n4     [{\"id\": 28, \"name\": \"Action\"}, {\"id\": 12, \"nam...           6.1   \n...                                                 ...           ...   \n4798  [{\"id\": 28, \"name\": \"Action\"}, {\"id\": 80, \"nam...           6.6   \n4799  [{\"id\": 35, \"name\": \"Comedy\"}, {\"id\": 10749, \"...           5.9   \n4800  [{\"id\": 35, \"name\": \"Comedy\"}, {\"id\": 18, \"nam...           7.0   \n4801                                                 []           5.7   \n4802                [{\"id\": 99, \"name\": \"Documentary\"}]           6.3   \n\n      vote_count  popularity  \\\n0          11800  150.437577   \n1           4500  139.082615   \n2           4466  107.376788   \n3           9106  112.312950   \n4           2124   43.926995   \n...          ...         ...   \n4798         238   14.269792   \n4799           5    0.642552   \n4800           6    1.444476   \n4801           7    0.857008   \n4802          16    1.929883   \n\n                                               keywords  \\\n0     [{\"id\": 1463, \"name\": \"culture clash\"}, {\"id\":...   \n1     [{\"id\": 270, \"name\": \"ocean\"}, {\"id\": 726, \"na...   \n2     [{\"id\": 470, \"name\": \"spy\"}, {\"id\": 818, \"name...   \n3     [{\"id\": 849, \"name\": \"dc comics\"}, {\"id\": 853,...   \n4     [{\"id\": 818, \"name\": \"based on novel\"}, {\"id\":...   \n...                                                 ...   \n4798  [{\"id\": 5616, \"name\": \"united states\\u2013mexi...   \n4799                                                 []   \n4800  [{\"id\": 248, \"name\": \"date\"}, {\"id\": 699, \"nam...   \n4801                                                 []   \n4802  [{\"id\": 1523, \"name\": \"obsession\"}, {\"id\": 224...   \n\n                                               overview  \n0     In the 22nd century, a paraplegic Marine is di...  \n1     Captain Barbossa, long believed to be dead, ha...  \n2     A cryptic message from Bond’s past sends him o...  \n3     Following the death of District Attorney Harve...  \n4     John Carter is a war-weary, former military ca...  \n...                                                 ...  \n4798  El Mariachi just wants to play his guitar and ...  \n4799  A newlywed couple's honeymoon is upended by th...  \n4800  \"Signed, Sealed, Delivered\" introduces a dedic...  \n4801  When ambitious New York attorney Sam is sent t...  \n4802  Ever since the second grade when he first saw ...  \n\n[4803 rows x 8 columns]\n"
    }
   ],
   "source": [
    "movies_df = movies[['id','title','genres','vote_average','vote_count','popularity','keywords','overview']]\n",
    "print(movies_df)"
   ]
  },
  {
   "cell_type": "code",
   "execution_count": 7,
   "metadata": {},
   "outputs": [
    {
     "output_type": "execute_result",
     "data": {
      "text/html": "<div>\n<style scoped>\n    .dataframe tbody tr th:only-of-type {\n        vertical-align: middle;\n    }\n\n    .dataframe tbody tr th {\n        vertical-align: top;\n    }\n\n    .dataframe thead th {\n        text-align: right;\n    }\n</style>\n<table border=\"1\" class=\"dataframe\">\n  <thead>\n    <tr style=\"text-align: right;\">\n      <th></th>\n      <th>genres</th>\n      <th>keywords</th>\n    </tr>\n  </thead>\n  <tbody>\n    <tr>\n      <th>0</th>\n      <td>[{\"id\": 28, \"name\": \"Action\"}, {\"id\": 12, \"name\": \"Adventure\"}, {\"id\": 14, \"name\": \"Fantasy\"}, {...</td>\n      <td>[{\"id\": 1463, \"name\": \"culture clash\"}, {\"id\": 2964, \"name\": \"future\"}, {\"id\": 3386, \"name\": \"sp...</td>\n    </tr>\n  </tbody>\n</table>\n</div>",
      "text/plain": "                                                                                                genres  \\\n0  [{\"id\": 28, \"name\": \"Action\"}, {\"id\": 12, \"name\": \"Adventure\"}, {\"id\": 14, \"name\": \"Fantasy\"}, {...   \n\n                                                                                              keywords  \n0  [{\"id\": 1463, \"name\": \"culture clash\"}, {\"id\": 2964, \"name\": \"future\"}, {\"id\": 3386, \"name\": \"sp...  "
     },
     "metadata": {},
     "execution_count": 7
    }
   ],
   "source": [
    "pd.set_option('max_colwidth',100)\n",
    "#각각의 장르와 그 장르의 id를 추출해 낼 수 있다\n",
    "movies_df[['genres','keywords']][:1]"
   ]
  },
  {
   "cell_type": "code",
   "execution_count": 8,
   "metadata": {},
   "outputs": [],
   "source": [
    "#literal_eval() 함수를 사용하면 이 문자열을 문자열이 의미하는 list[dict1, dict2] 객체로 만들 수 있다\n",
    "from ast import literal_eval\n",
    "movies_df['genres'] = movies_df['genres'].apply(literal_eval) #genres 칼럼은 문자열이 아닌 실제 리스트 내부에 여러 장르 딕셔너리로 구성된 객체들을 가진다\n",
    "movies_df['keywords'] = movies_df['keywords'].apply(literal_eval)\n"
   ]
  },
  {
   "cell_type": "code",
   "execution_count": 9,
   "metadata": {},
   "outputs": [
    {
     "output_type": "execute_result",
     "data": {
      "text/html": "<div>\n<style scoped>\n    .dataframe tbody tr th:only-of-type {\n        vertical-align: middle;\n    }\n\n    .dataframe tbody tr th {\n        vertical-align: top;\n    }\n\n    .dataframe thead th {\n        text-align: right;\n    }\n</style>\n<table border=\"1\" class=\"dataframe\">\n  <thead>\n    <tr style=\"text-align: right;\">\n      <th></th>\n      <th>genres</th>\n    </tr>\n  </thead>\n  <tbody>\n    <tr>\n      <th>0</th>\n      <td>[Action, Adventure, Fantasy, Science Fiction]</td>\n    </tr>\n    <tr>\n      <th>1</th>\n      <td>[Adventure, Fantasy, Action]</td>\n    </tr>\n    <tr>\n      <th>2</th>\n      <td>[Action, Adventure, Crime]</td>\n    </tr>\n    <tr>\n      <th>3</th>\n      <td>[Action, Crime, Drama, Thriller]</td>\n    </tr>\n    <tr>\n      <th>4</th>\n      <td>[Action, Adventure, Science Fiction]</td>\n    </tr>\n    <tr>\n      <th>...</th>\n      <td>...</td>\n    </tr>\n    <tr>\n      <th>4798</th>\n      <td>[Action, Crime, Thriller]</td>\n    </tr>\n    <tr>\n      <th>4799</th>\n      <td>[Comedy, Romance]</td>\n    </tr>\n    <tr>\n      <th>4800</th>\n      <td>[Comedy, Drama, Romance, TV Movie]</td>\n    </tr>\n    <tr>\n      <th>4801</th>\n      <td>[]</td>\n    </tr>\n    <tr>\n      <th>4802</th>\n      <td>[Documentary]</td>\n    </tr>\n  </tbody>\n</table>\n<p>4803 rows × 1 columns</p>\n</div>",
      "text/plain": "                                             genres\n0     [Action, Adventure, Fantasy, Science Fiction]\n1                      [Adventure, Fantasy, Action]\n2                        [Action, Adventure, Crime]\n3                  [Action, Crime, Drama, Thriller]\n4              [Action, Adventure, Science Fiction]\n...                                             ...\n4798                      [Action, Crime, Thriller]\n4799                              [Comedy, Romance]\n4800             [Comedy, Drama, Romance, TV Movie]\n4801                                             []\n4802                                  [Documentary]\n\n[4803 rows x 1 columns]"
     },
     "metadata": {},
     "execution_count": 9
    }
   ],
   "source": [
    "#genres 칼럼에서 'name' 키에 해당하는 값을 추출하기 위해서 apply lambda 식을 이용한다\n",
    "#apply(lambda x : [y['name] for y in x])와 같이 변환하면 리스트 내 여러개의 딕셔너리의 'name'에 해당하는 값을 찾아 이를 리스트 객체로 변환한다\n",
    "movies_df['genres'] = movies_df['genres'].apply(lambda x : [y['name'] for y in x])\n",
    "movies_df['keywords'] = movies_df['keywords'].apply(lambda x : [y['name'] for y in x])\n",
    "movies_df[['genres','keywords'][:1]]\n"
   ]
  },
  {
   "cell_type": "code",
   "execution_count": 10,
   "metadata": {},
   "outputs": [],
   "source": [
    "#genres 칼럼은 여러개의 개별장르가 리스트로 구성되어 있다\n",
    "#만일 영화 A가 genres의 [Action, Adventure,Fantasy, Science Fiction]으로 되어 있고\n",
    "#영화 B의 genres가 [Adventure, Fantasy, Action]으로 돼 있다면 어떻게 장르별 유사도를 측정할 수 있을까?\n",
    "\n",
    "#가장 간단한 방법으로는 genres를 문자열로 변경한 뒤 이를 CountVectorizer로 피처 벡터화한 행렬 데이터 값을 코사인 유사도로 비교하는 것\n",
    "\n",
    "#genres 칼럼을 기반으로 하는 콘텐츠 기반 필터링\n",
    "#1. 문자열로 변환된 genres 칼럼을 Count 기반으로 피처 벡터화 변환합니다\n",
    "#2. genres 문자열을 피처 벡터화 행렬로 변환한 데이터 세트를 코사인 유사도를 통해 비교합니다. 이를 위해 데이터 세트의 레코드별로 다 레코드와 장르에서 코사인 유사도 값을 가지는 객체를 생성합니다\n",
    "#3. 장르 유사도가 높은 영화 중에 평점이 높은 순으로 영화를 추천한다\n"
   ]
  },
  {
   "cell_type": "code",
   "execution_count": 11,
   "metadata": {
    "tags": []
   },
   "outputs": [
    {
     "output_type": "stream",
     "name": "stdout",
     "text": "(4803, 276)\n"
    }
   ],
   "source": [
    "from sklearn.feature_extraction.text import CountVectorizer\n",
    "\n",
    "#CountVectorizer를 적용하기 위해 공백문자로 word 단위가 구분되는 문자열로 변환\n",
    "movies_df['genres_literal'] = movies_df['genres'].apply(lambda x : (' ').join(x))\n",
    "count_vect  = CountVectorizer(min_df = 0, ngram_range=(1,2))\n",
    "genre_mat = count_vect.fit_transform(movies_df['genres_literal'])\n",
    "print(genre_mat.shape) # 4803개의 레코드와 276개의 개별단어 피처로 구성된 피처 벡터 행렬이 만들어졌다\n",
    "#이렇게 생성된 피처 벡터 행렬에 사이킷런의 cosine_similarity()를 이용해 코사인 유사도를 계산한다"
   ]
  },
  {
   "cell_type": "code",
   "execution_count": 12,
   "metadata": {
    "tags": []
   },
   "outputs": [
    {
     "output_type": "stream",
     "name": "stdout",
     "text": "(4803, 4803)\n[[1.         0.59628479 0.4472136  ... 0.         0.         0.        ]\n [0.59628479 1.         0.4        ... 0.         0.         0.        ]\n [0.4472136  0.4        1.         ... 0.         0.         0.        ]\n ...\n [0.         0.         0.         ... 1.         0.         0.        ]\n [0.         0.         0.         ... 0.         0.         0.        ]\n [0.         0.         0.         ... 0.         0.         1.        ]]\n"
    }
   ],
   "source": [
    "#피처 벡터화된 행렬에 cosine_similary()를 적용한 코드\n",
    "from sklearn.metrics.pairwise import cosine_similarity\n",
    "\n",
    "genre_sim = cosine_similarity(genre_mat, genre_mat)\n",
    "print(genre_sim.shape)\n",
    "print(genre_sim)\n",
    "#cosine_similary로 호출로 생성된 genre_sim 객체는 movies_df의 genre_literal 칼럼을 피처 벡터화한 행렬(genre_mat) 데이터의 행(레코드)별 유사도 정보를 지니고 있다\n",
    "#결국은 movies_df DataFrame의 행별 장르 유사도 값을 가지고 있는 것이다\n",
    "#movies_df를 장르기준으로 콘텐츠 기반 필터링을 수행하려면 movies_df의 개별 레코드ㅔ 대해서 가장 장르 유사도가 높은 순으로 다른 레코드를 추출해야 하는데 이를 위해서 genre_sim을 사용한다"
   ]
  },
  {
   "cell_type": "code",
   "execution_count": 13,
   "metadata": {
    "tags": []
   },
   "outputs": [
    {
     "output_type": "stream",
     "name": "stdout",
     "text": "[[   0 3494  813 ... 3038 3037 2401]]\n"
    }
   ],
   "source": [
    "#genre_sim 객체의 기준 행별로 비교대산니 되는 행의 유사도 값이 높은 순으로 정렬된 행렬의 위치 인덱스 값을 추출하면 된다\n",
    "#값이 높은 순으로 정렬된 비교대상 행의 유사도 값이 아니라 비교대상 행의 위치 인덱스임에 주의\n",
    "#argsort()[:.::-1]을 이용하면 유사도가 높은 순서로 정리된 genre_sim 객체의 비교 행 위치 인덱스 값을 간편하게 얻을 수 있다\n",
    "\n",
    "#argsort()[:,::-1]를 사용해 높은 순으로 정렬된 비교 행 위치 인덱스를 가져오고 그 중에 0번 레코드의 비교 행 위치 인덱스 값만 샘플로 추출\n",
    "genre_sim_sorted_ind = genre_sim.argsort()[:,::-1]\n",
    "print(genre_sim_sorted_ind[:1])\n",
    "#2번째로 출력된 3494가 나를 제외하고 가장 유사도가 높다"
   ]
  },
  {
   "cell_type": "code",
   "execution_count": 14,
   "metadata": {},
   "outputs": [],
   "source": [
    "#장르 유사도에 따라 영화를 추천하는 함수\n",
    "#함수명 : find_sim_movie()\n",
    "#movies_df DataFrame : 기반 데이터\n",
    "#genre_sim_sorted_ind : 레코드별 장르 코사인 유사도 인덱스\n",
    "#DataFrame : 고객이 선정한 추천 기준이 되는 영화제목, 추천할 영화 건수를 입력하면 추천 영화 정보를 가짐\n",
    "def find_sim_movie(df, sorted_ind, title_name, top_n = 10):\n",
    "    #인자로 입력된 movies)df DataFrame에서 'title' 칼럼이 입력된 title_name 값인 DataFrame 추출\n",
    "    title_movie = df[df['title']== title_name]\n",
    "\n",
    "    #title_named를 가진 DataFrame 의 인덱스 객체를 ndarray로 반환\n",
    "    #sorted_ind 인자로 입력된 genre_sim_sorted_ind 객체에서 유사도 순으로 top_n개의 index 추출\n",
    "    title_index = title_movie.index.values\n",
    "    similar_indexes = sorted_ind[title_index,:(top_n)]\n",
    "\n",
    "    #추출된 top_n index 출력, top_n index는 2차원 데이터임\n",
    "    #dataframe에서 index로 사용하기 위해서 1차원 array로 변경\n",
    "    print(similar_indexes)\n",
    "    similar_indexes = similar_indexes.reshape(-1)\n",
    "\n",
    "    return df.iloc[similar_indexes]"
   ]
  },
  {
   "cell_type": "code",
   "execution_count": 15,
   "metadata": {
    "tags": []
   },
   "outputs": [
    {
     "output_type": "stream",
     "name": "stdout",
     "text": "[[2731 1243 3636 1946 2640 4065 1847 4217  883 3866]]\n"
    },
    {
     "output_type": "execute_result",
     "data": {
      "text/html": "<div>\n<style scoped>\n    .dataframe tbody tr th:only-of-type {\n        vertical-align: middle;\n    }\n\n    .dataframe tbody tr th {\n        vertical-align: top;\n    }\n\n    .dataframe thead th {\n        text-align: right;\n    }\n</style>\n<table border=\"1\" class=\"dataframe\">\n  <thead>\n    <tr style=\"text-align: right;\">\n      <th></th>\n      <th>title</th>\n      <th>vote_average</th>\n    </tr>\n  </thead>\n  <tbody>\n    <tr>\n      <th>2731</th>\n      <td>The Godfather: Part II</td>\n      <td>8.3</td>\n    </tr>\n    <tr>\n      <th>1243</th>\n      <td>Mean Streets</td>\n      <td>7.2</td>\n    </tr>\n    <tr>\n      <th>3636</th>\n      <td>Light Sleeper</td>\n      <td>5.7</td>\n    </tr>\n    <tr>\n      <th>1946</th>\n      <td>The Bad Lieutenant: Port of Call - New Orleans</td>\n      <td>6.0</td>\n    </tr>\n    <tr>\n      <th>2640</th>\n      <td>Things to Do in Denver When You're Dead</td>\n      <td>6.7</td>\n    </tr>\n    <tr>\n      <th>4065</th>\n      <td>Mi America</td>\n      <td>0.0</td>\n    </tr>\n    <tr>\n      <th>1847</th>\n      <td>GoodFellas</td>\n      <td>8.2</td>\n    </tr>\n    <tr>\n      <th>4217</th>\n      <td>Kids</td>\n      <td>6.8</td>\n    </tr>\n    <tr>\n      <th>883</th>\n      <td>Catch Me If You Can</td>\n      <td>7.7</td>\n    </tr>\n    <tr>\n      <th>3866</th>\n      <td>City of God</td>\n      <td>8.1</td>\n    </tr>\n  </tbody>\n</table>\n</div>",
      "text/plain": "                                               title  vote_average\n2731                          The Godfather: Part II           8.3\n1243                                    Mean Streets           7.2\n3636                                   Light Sleeper           5.7\n1946  The Bad Lieutenant: Port of Call - New Orleans           6.0\n2640         Things to Do in Denver When You're Dead           6.7\n4065                                      Mi America           0.0\n1847                                      GoodFellas           8.2\n4217                                            Kids           6.8\n883                              Catch Me If You Can           7.7\n3866                                     City of God           8.1"
     },
     "metadata": {},
     "execution_count": 15
    }
   ],
   "source": [
    "similar_movies = find_sim_movie(movies_df, genre_sim_sorted_ind,'The Godfather', 10)\n",
    "similar_movies[['title','vote_average']]\n",
    "#좀 더 개선이 필요한 형태의 추천 시스템이 나옴"
   ]
  },
  {
   "cell_type": "code",
   "execution_count": 16,
   "metadata": {},
   "outputs": [
    {
     "output_type": "execute_result",
     "data": {
      "text/html": "<div>\n<style scoped>\n    .dataframe tbody tr th:only-of-type {\n        vertical-align: middle;\n    }\n\n    .dataframe tbody tr th {\n        vertical-align: top;\n    }\n\n    .dataframe thead th {\n        text-align: right;\n    }\n</style>\n<table border=\"1\" class=\"dataframe\">\n  <thead>\n    <tr style=\"text-align: right;\">\n      <th></th>\n      <th>title</th>\n      <th>vote_average</th>\n      <th>vote_count</th>\n    </tr>\n  </thead>\n  <tbody>\n    <tr>\n      <th>3519</th>\n      <td>Stiff Upper Lips</td>\n      <td>10.0</td>\n      <td>1</td>\n    </tr>\n    <tr>\n      <th>4247</th>\n      <td>Me You and Five Bucks</td>\n      <td>10.0</td>\n      <td>2</td>\n    </tr>\n    <tr>\n      <th>4045</th>\n      <td>Dancer, Texas Pop. 81</td>\n      <td>10.0</td>\n      <td>1</td>\n    </tr>\n    <tr>\n      <th>4662</th>\n      <td>Little Big Top</td>\n      <td>10.0</td>\n      <td>1</td>\n    </tr>\n    <tr>\n      <th>3992</th>\n      <td>Sardaarji</td>\n      <td>9.5</td>\n      <td>2</td>\n    </tr>\n    <tr>\n      <th>2386</th>\n      <td>One Man's Hero</td>\n      <td>9.3</td>\n      <td>2</td>\n    </tr>\n    <tr>\n      <th>2970</th>\n      <td>There Goes My Baby</td>\n      <td>8.5</td>\n      <td>2</td>\n    </tr>\n    <tr>\n      <th>1881</th>\n      <td>The Shawshank Redemption</td>\n      <td>8.5</td>\n      <td>8205</td>\n    </tr>\n    <tr>\n      <th>2796</th>\n      <td>The Prisoner of Zenda</td>\n      <td>8.4</td>\n      <td>11</td>\n    </tr>\n    <tr>\n      <th>3337</th>\n      <td>The Godfather</td>\n      <td>8.4</td>\n      <td>5893</td>\n    </tr>\n  </tbody>\n</table>\n</div>",
      "text/plain": "                         title  vote_average  vote_count\n3519          Stiff Upper Lips          10.0           1\n4247     Me You and Five Bucks          10.0           2\n4045     Dancer, Texas Pop. 81          10.0           1\n4662            Little Big Top          10.0           1\n3992                 Sardaarji           9.5           2\n2386            One Man's Hero           9.3           2\n2970        There Goes My Baby           8.5           2\n1881  The Shawshank Redemption           8.5        8205\n2796     The Prisoner of Zenda           8.4          11\n3337             The Godfather           8.4        5893"
     },
     "metadata": {},
     "execution_count": 16
    }
   ],
   "source": [
    "#더 많은 후보군을 선정한 뒤 영화의 평점에 따라 필터링을 해서 최종 추천하는 방식으로 변경\n",
    "#영화의 평점 정보인 vote_average를 이용\n",
    "#vote_Average는 0부터 10점 만점까지의 점수로 돼 있는데 여러 관객들이 평가한 평점을 평균한 것이다\n",
    "#하지만 왜곡된 데이터를 가지고 있기 때문에 sort_values()를 이용해 평점의 오름차순으로 10개를 출력해 보겠다\n",
    "\n",
    "movies_df[['title','vote_average','vote_count']].sort_values('vote_average',ascending=False)[:10]"
   ]
  },
  {
   "cell_type": "code",
   "execution_count": 17,
   "metadata": {
    "tags": []
   },
   "outputs": [
    {
     "output_type": "stream",
     "name": "stdout",
     "text": "C:  6.092 m:  370.2\n"
    }
   ],
   "source": [
    "#평가된 수가 적은 영화는 진짜 유명한 작품보다 높은 평점을 가질 수 있다 -> 신뢰도가 떨어진다\n",
    "#유명한 영화 평점 사이트인 IMDB에서는 평가횟수에 대한 가중치가 부여된 평점 방식을 사용한다\n",
    "#가중평점 = (v/(v+m)) * R + (m/(v+m)) * C\n",
    "#v : 개별 영화에 평점을 투표한 횟수\n",
    "#m : 평점을 부여하기 위한 최소 투표 횟수\n",
    "#R : 개별 영화에 대한 평균 평점\n",
    "#C : 전체 영화에 대한 평균 평점\n",
    "C = movies_df['vote_average'].mean()\n",
    "m = movies_df['vote_count'].quantile(0.6)\n",
    "print('C: ',round(C,3),'m: ',round(m,3))"
   ]
  },
  {
   "cell_type": "code",
   "execution_count": 18,
   "metadata": {},
   "outputs": [],
   "source": [
    "#기존 평점을 새로운 가중 평점으로 변경하는 함수를 생성하고 이를 사용해 새로운 평점 정보인 weighted값을 만든다\n",
    "percentile = 0.6\n",
    "m = movies_df['vote_count'].quantile(percentile)\n",
    "C = movies_df['vote_average'].mean()\n",
    "\n",
    "def weighted_vote_average(record):\n",
    "    v = record['vote_count']\n",
    "    R = record['vote_average']\n",
    "\n",
    "    return  (v/(v+m)) * R + (v/(v+m)) * C\n",
    "\n",
    "\n",
    "movies['weighted_vote'] = movies.apply(weighted_vote_average,axis=1)"
   ]
  },
  {
   "cell_type": "code",
   "execution_count": 19,
   "metadata": {},
   "outputs": [
    {
     "output_type": "execute_result",
     "data": {
      "text/html": "<div>\n<style scoped>\n    .dataframe tbody tr th:only-of-type {\n        vertical-align: middle;\n    }\n\n    .dataframe tbody tr th {\n        vertical-align: top;\n    }\n\n    .dataframe thead th {\n        text-align: right;\n    }\n</style>\n<table border=\"1\" class=\"dataframe\">\n  <thead>\n    <tr style=\"text-align: right;\">\n      <th></th>\n      <th>title</th>\n      <th>vote_average</th>\n      <th>weighted_vote</th>\n      <th>vote_count</th>\n    </tr>\n  </thead>\n  <tbody>\n    <tr>\n      <th>1881</th>\n      <td>The Shawshank Redemption</td>\n      <td>8.5</td>\n      <td>13.962213</td>\n      <td>8205</td>\n    </tr>\n    <tr>\n      <th>65</th>\n      <td>The Dark Knight</td>\n      <td>8.2</td>\n      <td>13.864522</td>\n      <td>12002</td>\n    </tr>\n    <tr>\n      <th>662</th>\n      <td>Fight Club</td>\n      <td>8.3</td>\n      <td>13.847566</td>\n      <td>9413</td>\n    </tr>\n    <tr>\n      <th>96</th>\n      <td>Inception</td>\n      <td>8.1</td>\n      <td>13.820137</td>\n      <td>13752</td>\n    </tr>\n    <tr>\n      <th>3232</th>\n      <td>Pulp Fiction</td>\n      <td>8.3</td>\n      <td>13.786595</td>\n      <td>8428</td>\n    </tr>\n    <tr>\n      <th>95</th>\n      <td>Interstellar</td>\n      <td>8.1</td>\n      <td>13.724623</td>\n      <td>10867</td>\n    </tr>\n    <tr>\n      <th>809</th>\n      <td>Forrest Gump</td>\n      <td>8.2</td>\n      <td>13.654491</td>\n      <td>7927</td>\n    </tr>\n    <tr>\n      <th>3337</th>\n      <td>The Godfather</td>\n      <td>8.4</td>\n      <td>13.635580</td>\n      <td>5893</td>\n    </tr>\n    <tr>\n      <th>329</th>\n      <td>The Lord of the Rings: The Return of the King</td>\n      <td>8.1</td>\n      <td>13.569239</td>\n      <td>8064</td>\n    </tr>\n    <tr>\n      <th>262</th>\n      <td>The Lord of the Rings: The Fellowship of the Ring</td>\n      <td>8.0</td>\n      <td>13.517317</td>\n      <td>8705</td>\n    </tr>\n  </tbody>\n</table>\n</div>",
      "text/plain": "                                                  title  vote_average  \\\n1881                           The Shawshank Redemption           8.5   \n65                                      The Dark Knight           8.2   \n662                                          Fight Club           8.3   \n96                                            Inception           8.1   \n3232                                       Pulp Fiction           8.3   \n95                                         Interstellar           8.1   \n809                                        Forrest Gump           8.2   \n3337                                      The Godfather           8.4   \n329       The Lord of the Rings: The Return of the King           8.1   \n262   The Lord of the Rings: The Fellowship of the Ring           8.0   \n\n      weighted_vote  vote_count  \n1881      13.962213        8205  \n65        13.864522       12002  \n662       13.847566        9413  \n96        13.820137       13752  \n3232      13.786595        8428  \n95        13.724623       10867  \n809       13.654491        7927  \n3337      13.635580        5893  \n329       13.569239        8064  \n262       13.517317        8705  "
     },
     "metadata": {},
     "execution_count": 19
    }
   ],
   "source": [
    "#새로 부여된 weighted_vote 평점이 높은 순으로 상위 10개 추출\n",
    "movies[['title','vote_average','weighted_vote','vote_count']].sort_values(\n",
    "    'weighted_vote',ascending=False)[:10] \n"
   ]
  },
  {
   "cell_type": "code",
   "execution_count": 20,
   "metadata": {
    "tags": []
   },
   "outputs": [
    {
     "output_type": "stream",
     "name": "stdout",
     "text": "[2731 1243 3636 1946 2640 4065 1847 4217  883 3866 3112 4041  588 3378\n  281 1663 1464 1149 2839]\n"
    },
    {
     "output_type": "execute_result",
     "data": {
      "text/html": "<div>\n<style scoped>\n    .dataframe tbody tr th:only-of-type {\n        vertical-align: middle;\n    }\n\n    .dataframe tbody tr th {\n        vertical-align: top;\n    }\n\n    .dataframe thead th {\n        text-align: right;\n    }\n</style>\n<table border=\"1\" class=\"dataframe\">\n  <thead>\n    <tr style=\"text-align: right;\">\n      <th></th>\n      <th>title</th>\n      <th>vote_average</th>\n      <th>weighted_vote</th>\n    </tr>\n  </thead>\n  <tbody>\n    <tr>\n      <th>2731</th>\n      <td>The Godfather: Part II</td>\n      <td>8.3</td>\n      <td>12.955361</td>\n    </tr>\n    <tr>\n      <th>1847</th>\n      <td>GoodFellas</td>\n      <td>8.2</td>\n      <td>12.779690</td>\n    </tr>\n    <tr>\n      <th>883</th>\n      <td>Catch Me If You Can</td>\n      <td>7.7</td>\n      <td>12.566333</td>\n    </tr>\n    <tr>\n      <th>3866</th>\n      <td>City of God</td>\n      <td>8.1</td>\n      <td>11.786741</td>\n    </tr>\n    <tr>\n      <th>1149</th>\n      <td>American Hustle</td>\n      <td>6.8</td>\n      <td>11.390006</td>\n    </tr>\n    <tr>\n      <th>281</th>\n      <td>American Gangster</td>\n      <td>7.4</td>\n      <td>10.824293</td>\n    </tr>\n    <tr>\n      <th>1663</th>\n      <td>Once Upon a Time in America</td>\n      <td>8.2</td>\n      <td>10.615850</td>\n    </tr>\n    <tr>\n      <th>2839</th>\n      <td>Rounders</td>\n      <td>6.9</td>\n      <td>7.048398</td>\n    </tr>\n    <tr>\n      <th>588</th>\n      <td>Wall Street: Money Never Sleeps</td>\n      <td>5.8</td>\n      <td>6.791984</td>\n    </tr>\n    <tr>\n      <th>4041</th>\n      <td>This Is England</td>\n      <td>7.4</td>\n      <td>6.679839</td>\n    </tr>\n  </tbody>\n</table>\n</div>",
      "text/plain": "                                title  vote_average  weighted_vote\n2731           The Godfather: Part II           8.3      12.955361\n1847                       GoodFellas           8.2      12.779690\n883               Catch Me If You Can           7.7      12.566333\n3866                      City of God           8.1      11.786741\n1149                  American Hustle           6.8      11.390006\n281                 American Gangster           7.4      10.824293\n1663      Once Upon a Time in America           8.2      10.615850\n2839                         Rounders           6.9       7.048398\n588   Wall Street: Money Never Sleeps           5.8       6.791984\n4041                  This Is England           7.4       6.679839"
     },
     "metadata": {},
     "execution_count": 20
    }
   ],
   "source": [
    "#이제 새롭게 정의된 평점 기준에 따라서 영화를 추천한다\n",
    "#장르 유사성이 높은 영화를 top_n의 2배수만큼 후보군으로 선정한 뒤에 weighted_vote 칼럼이 높은 순으로 top_n만큼 추출하는 방식으로\n",
    "#find_sim_movie()함수를 변경한다\n",
    "\n",
    "def find_sim_movie(df, sorted_ind, title_name, top_n =10):\n",
    "    title_movie = df[df['title'] == title_name]\n",
    "    title_index = title_movie.index.values\n",
    "\n",
    "    #top_n의 2배에 해당하는 장르 유사성이 높은 인덱스 추출\n",
    "    similar_indexes = sorted_ind[title_index, :(top_n*2)]\n",
    "    similar_indexs = similar_indexes.reshape(-1)\n",
    "\n",
    "    #기준 영화 인덱스는 제외\n",
    "    similar_indexes = similar_indexes[similar_indexes!=title_index]\n",
    "    print(similar_indexes)\n",
    "    #top_n의 2배에 해당하는 후보군에서 weighted_vote가 높은 순으로 top_n만큼 추출\n",
    "    return df.iloc[similar_indexes].sort_values('weighted_vote',ascending=False)[:top_n]\n",
    "\n",
    "similar_movies = find_sim_movie(movies,genre_sim_sorted_ind,'The Godfather',10)\n",
    "similar_movies[['title','vote_average','weighted_vote']]"
   ]
  },
  {
   "cell_type": "code",
   "execution_count": null,
   "metadata": {},
   "outputs": [],
   "source": []
  }
 ],
 "metadata": {
  "kernelspec": {
   "display_name": "Python 3.5.3 64-bit",
   "language": "python",
   "name": "python_defaultSpec_1599701306821"
  },
  "language_info": {
   "codemirror_mode": {
    "name": "ipython",
    "version": 3
   },
   "file_extension": ".py",
   "mimetype": "text/x-python",
   "name": "python",
   "nbconvert_exporter": "python",
   "pygments_lexer": "ipython3",
   "version": "3.5.3-final"
  }
 },
 "nbformat": 4,
 "nbformat_minor": 2
}